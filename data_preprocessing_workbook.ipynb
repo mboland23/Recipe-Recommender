{
 "cells": [
  {
   "cell_type": "code",
   "execution_count": 45,
   "metadata": {},
   "outputs": [],
   "source": [
    "import pandas as pd\n",
    "import pickle\n",
    "import matplotlib.pyplot as plt\n",
    "import seaborn as sns\n",
    "import numpy as np\n",
    "\n",
    "from surprise import Dataset, Reader, accuracy, NormalPredictor, KNNBasic, KNNWithMeans, KNNWithZScore, KNNBaseline, SVD, BaselineOnly, SVDpp, NMF, SlopeOne, CoClustering\n",
    "from surprise.accuracy import rmse\n",
    "from surprise.model_selection import cross_validate, train_test_split, GridSearchCV\n",
    "from surprise.prediction_algorithms import SVD, SVDpp, NMF, BaselineOnly, NormalPredictor\n",
    "from IPython.core.display import HTML\n",
    "\n",
    "from nltk.stem.wordnet import WordNetLemmatizer\n",
    "from nltk.tokenize import RegexpTokenizer\n",
    "from nltk import FreqDist\n",
    "from nltk import word_tokenize\n",
    "from nltk.corpus import stopwords\n",
    "import string\n",
    "from nltk.collocations import *\n",
    "import re\n",
    "import nltk\n",
    "\n",
    "%matplotlib inline"
   ]
  },
  {
   "cell_type": "code",
   "execution_count": 26,
   "metadata": {},
   "outputs": [],
   "source": [
    "user_reviews_df = pd.read_csv(\"./Data/user_reviews.csv\")"
   ]
  },
  {
   "cell_type": "code",
   "execution_count": 3,
   "metadata": {},
   "outputs": [
    {
     "name": "stdout",
     "output_type": "stream",
     "text": [
      "<class 'pandas.core.frame.DataFrame'>\n",
      "RangeIndex: 598158 entries, 0 to 598157\n",
      "Data columns (total 6 columns):\n",
      " #   Column      Non-Null Count   Dtype \n",
      "---  ------      --------------   ----- \n",
      " 0   Unnamed: 0  598158 non-null  int64 \n",
      " 1   user_id     598158 non-null  int64 \n",
      " 2   recipe_id   598158 non-null  int64 \n",
      " 3   date        598158 non-null  object\n",
      " 4   rating      598158 non-null  int64 \n",
      " 5   review      598154 non-null  object\n",
      "dtypes: int64(4), object(2)\n",
      "memory usage: 27.4+ MB\n"
     ]
    }
   ],
   "source": [
    "# Looking at the data from the \n",
    "user_reviews_df.info()"
   ]
  },
  {
   "cell_type": "code",
   "execution_count": 4,
   "metadata": {},
   "outputs": [
    {
     "data": {
      "text/html": [
       "<div>\n",
       "<style scoped>\n",
       "    .dataframe tbody tr th:only-of-type {\n",
       "        vertical-align: middle;\n",
       "    }\n",
       "\n",
       "    .dataframe tbody tr th {\n",
       "        vertical-align: top;\n",
       "    }\n",
       "\n",
       "    .dataframe thead th {\n",
       "        text-align: right;\n",
       "    }\n",
       "</style>\n",
       "<table border=\"1\" class=\"dataframe\">\n",
       "  <thead>\n",
       "    <tr style=\"text-align: right;\">\n",
       "      <th></th>\n",
       "      <th>Unnamed: 0</th>\n",
       "      <th>user_id</th>\n",
       "      <th>recipe_id</th>\n",
       "      <th>date</th>\n",
       "      <th>rating</th>\n",
       "      <th>review</th>\n",
       "    </tr>\n",
       "  </thead>\n",
       "  <tbody>\n",
       "    <tr>\n",
       "      <th>0</th>\n",
       "      <td>8</td>\n",
       "      <td>76535</td>\n",
       "      <td>134728</td>\n",
       "      <td>2005-09-02</td>\n",
       "      <td>4</td>\n",
       "      <td>Very good!</td>\n",
       "    </tr>\n",
       "    <tr>\n",
       "      <th>1</th>\n",
       "      <td>11</td>\n",
       "      <td>190375</td>\n",
       "      <td>134728</td>\n",
       "      <td>2007-03-09</td>\n",
       "      <td>5</td>\n",
       "      <td>These taste absolutely wonderful!!  My son-in-...</td>\n",
       "    </tr>\n",
       "    <tr>\n",
       "      <th>2</th>\n",
       "      <td>12</td>\n",
       "      <td>468945</td>\n",
       "      <td>134728</td>\n",
       "      <td>2008-02-20</td>\n",
       "      <td>0</td>\n",
       "      <td>Made my own buttermilk w/ vinegar and milk.  U...</td>\n",
       "    </tr>\n",
       "    <tr>\n",
       "      <th>3</th>\n",
       "      <td>13</td>\n",
       "      <td>255338</td>\n",
       "      <td>134728</td>\n",
       "      <td>2008-04-11</td>\n",
       "      <td>5</td>\n",
       "      <td>First time using liquid smoke in a recipe. Mad...</td>\n",
       "    </tr>\n",
       "    <tr>\n",
       "      <th>4</th>\n",
       "      <td>14</td>\n",
       "      <td>1171894</td>\n",
       "      <td>134728</td>\n",
       "      <td>2009-04-21</td>\n",
       "      <td>5</td>\n",
       "      <td>MMMMM! This is so good! I actually soaked the ...</td>\n",
       "    </tr>\n",
       "  </tbody>\n",
       "</table>\n",
       "</div>"
      ],
      "text/plain": [
       "   Unnamed: 0  user_id  recipe_id        date  rating  \\\n",
       "0           8    76535     134728  2005-09-02       4   \n",
       "1          11   190375     134728  2007-03-09       5   \n",
       "2          12   468945     134728  2008-02-20       0   \n",
       "3          13   255338     134728  2008-04-11       5   \n",
       "4          14  1171894     134728  2009-04-21       5   \n",
       "\n",
       "                                              review  \n",
       "0                                         Very good!  \n",
       "1  These taste absolutely wonderful!!  My son-in-...  \n",
       "2  Made my own buttermilk w/ vinegar and milk.  U...  \n",
       "3  First time using liquid smoke in a recipe. Mad...  \n",
       "4  MMMMM! This is so good! I actually soaked the ...  "
      ]
     },
     "execution_count": 4,
     "metadata": {},
     "output_type": "execute_result"
    }
   ],
   "source": [
    "user_reviews_df.head()"
   ]
  },
  {
   "cell_type": "code",
   "execution_count": 27,
   "metadata": {},
   "outputs": [
    {
     "data": {
      "text/html": [
       "<div>\n",
       "<style scoped>\n",
       "    .dataframe tbody tr th:only-of-type {\n",
       "        vertical-align: middle;\n",
       "    }\n",
       "\n",
       "    .dataframe tbody tr th {\n",
       "        vertical-align: top;\n",
       "    }\n",
       "\n",
       "    .dataframe thead th {\n",
       "        text-align: right;\n",
       "    }\n",
       "</style>\n",
       "<table border=\"1\" class=\"dataframe\">\n",
       "  <thead>\n",
       "    <tr style=\"text-align: right;\">\n",
       "      <th></th>\n",
       "      <th>user_id</th>\n",
       "      <th>recipe_id</th>\n",
       "      <th>date</th>\n",
       "      <th>rating</th>\n",
       "      <th>review</th>\n",
       "    </tr>\n",
       "  </thead>\n",
       "  <tbody>\n",
       "    <tr>\n",
       "      <th>0</th>\n",
       "      <td>76535</td>\n",
       "      <td>134728</td>\n",
       "      <td>2005-09-02</td>\n",
       "      <td>4</td>\n",
       "      <td>Very good!</td>\n",
       "    </tr>\n",
       "    <tr>\n",
       "      <th>1</th>\n",
       "      <td>190375</td>\n",
       "      <td>134728</td>\n",
       "      <td>2007-03-09</td>\n",
       "      <td>5</td>\n",
       "      <td>These taste absolutely wonderful!!  My son-in-...</td>\n",
       "    </tr>\n",
       "    <tr>\n",
       "      <th>2</th>\n",
       "      <td>468945</td>\n",
       "      <td>134728</td>\n",
       "      <td>2008-02-20</td>\n",
       "      <td>0</td>\n",
       "      <td>Made my own buttermilk w/ vinegar and milk.  U...</td>\n",
       "    </tr>\n",
       "    <tr>\n",
       "      <th>3</th>\n",
       "      <td>255338</td>\n",
       "      <td>134728</td>\n",
       "      <td>2008-04-11</td>\n",
       "      <td>5</td>\n",
       "      <td>First time using liquid smoke in a recipe. Mad...</td>\n",
       "    </tr>\n",
       "    <tr>\n",
       "      <th>4</th>\n",
       "      <td>1171894</td>\n",
       "      <td>134728</td>\n",
       "      <td>2009-04-21</td>\n",
       "      <td>5</td>\n",
       "      <td>MMMMM! This is so good! I actually soaked the ...</td>\n",
       "    </tr>\n",
       "    <tr>\n",
       "      <th>...</th>\n",
       "      <td>...</td>\n",
       "      <td>...</td>\n",
       "      <td>...</td>\n",
       "      <td>...</td>\n",
       "      <td>...</td>\n",
       "    </tr>\n",
       "    <tr>\n",
       "      <th>598153</th>\n",
       "      <td>496803</td>\n",
       "      <td>249924</td>\n",
       "      <td>2011-08-21</td>\n",
       "      <td>5</td>\n",
       "      <td>I really loved this!  I cut the recipe back to...</td>\n",
       "    </tr>\n",
       "    <tr>\n",
       "      <th>598154</th>\n",
       "      <td>143592</td>\n",
       "      <td>82303</td>\n",
       "      <td>2010-07-26</td>\n",
       "      <td>5</td>\n",
       "      <td>I will never buy hot fudge again. This is so q...</td>\n",
       "    </tr>\n",
       "    <tr>\n",
       "      <th>598155</th>\n",
       "      <td>140132</td>\n",
       "      <td>82303</td>\n",
       "      <td>2010-10-01</td>\n",
       "      <td>5</td>\n",
       "      <td>This is fabulous.  I made it for our dessert t...</td>\n",
       "    </tr>\n",
       "    <tr>\n",
       "      <th>598156</th>\n",
       "      <td>199020</td>\n",
       "      <td>82303</td>\n",
       "      <td>2013-03-18</td>\n",
       "      <td>5</td>\n",
       "      <td>5 stars for taste! I had a hard time getting m...</td>\n",
       "    </tr>\n",
       "    <tr>\n",
       "      <th>598157</th>\n",
       "      <td>1122988</td>\n",
       "      <td>82303</td>\n",
       "      <td>2014-07-08</td>\n",
       "      <td>5</td>\n",
       "      <td>This was amazingly delicious!  The only change...</td>\n",
       "    </tr>\n",
       "  </tbody>\n",
       "</table>\n",
       "<p>598158 rows × 5 columns</p>\n",
       "</div>"
      ],
      "text/plain": [
       "        user_id  recipe_id        date  rating  \\\n",
       "0         76535     134728  2005-09-02       4   \n",
       "1        190375     134728  2007-03-09       5   \n",
       "2        468945     134728  2008-02-20       0   \n",
       "3        255338     134728  2008-04-11       5   \n",
       "4       1171894     134728  2009-04-21       5   \n",
       "...         ...        ...         ...     ...   \n",
       "598153   496803     249924  2011-08-21       5   \n",
       "598154   143592      82303  2010-07-26       5   \n",
       "598155   140132      82303  2010-10-01       5   \n",
       "598156   199020      82303  2013-03-18       5   \n",
       "598157  1122988      82303  2014-07-08       5   \n",
       "\n",
       "                                                   review  \n",
       "0                                              Very good!  \n",
       "1       These taste absolutely wonderful!!  My son-in-...  \n",
       "2       Made my own buttermilk w/ vinegar and milk.  U...  \n",
       "3       First time using liquid smoke in a recipe. Mad...  \n",
       "4       MMMMM! This is so good! I actually soaked the ...  \n",
       "...                                                   ...  \n",
       "598153  I really loved this!  I cut the recipe back to...  \n",
       "598154  I will never buy hot fudge again. This is so q...  \n",
       "598155  This is fabulous.  I made it for our dessert t...  \n",
       "598156  5 stars for taste! I had a hard time getting m...  \n",
       "598157  This was amazingly delicious!  The only change...  \n",
       "\n",
       "[598158 rows x 5 columns]"
      ]
     },
     "execution_count": 27,
     "metadata": {},
     "output_type": "execute_result"
    }
   ],
   "source": [
    "# Drop Unnamed: 0 column\n",
    "user_reviews_df.drop(\"Unnamed: 0\", axis=1, inplace=True)\n",
    "user_reviews_df"
   ]
  },
  {
   "cell_type": "markdown",
   "metadata": {},
   "source": [
    "## Visulizing Ratings"
   ]
  },
  {
   "cell_type": "code",
   "execution_count": 6,
   "metadata": {
    "scrolled": true
   },
   "outputs": [
    {
     "data": {
      "image/png": "[encoded data removed]",
      "text/plain": [
       "<Figure size 432x288 with 1 Axes>"
      ]
     },
     "metadata": {
      "needs_background": "light"
     },
     "output_type": "display_data"
    }
   ],
   "source": [
    "#Creating a bar chart to see the distribution of ratings\n",
    "rating_count = user_reviews_df[\"rating\"].value_counts().sort_index(ascending=False)\n",
    "\n",
    "plt.bar(rating_count.index, rating_count.values);"
   ]
  },
  {
   "cell_type": "code",
   "execution_count": 8,
   "metadata": {},
   "outputs": [
    {
     "data": {
      "text/plain": [
       "5    460940\n",
       "4     95039\n",
       "3     19168\n",
       "2      5548\n",
       "1      2770\n",
       "0     14693\n",
       "Name: rating, dtype: int64"
      ]
     },
     "execution_count": 8,
     "metadata": {},
     "output_type": "execute_result"
    }
   ],
   "source": [
    "# Numerical breakdown\n",
    "rating_count"
   ]
  },
  {
   "cell_type": "markdown",
   "metadata": {},
   "source": [
    "77% of our new dataset includes 5 star reviews, which heavily skews the data and will affect the recommendation portal. \n",
    "\n",
    "We also notice that 2.4% of our dataset includes a 0 rating. It would be important to see if these are actually 0s or if they are imputed value for missing ratings. "
   ]
  },
  {
   "cell_type": "code",
   "execution_count": 28,
   "metadata": {},
   "outputs": [
    {
     "data": {
      "text/html": [
       "<div>\n",
       "<style scoped>\n",
       "    .dataframe tbody tr th:only-of-type {\n",
       "        vertical-align: middle;\n",
       "    }\n",
       "\n",
       "    .dataframe tbody tr th {\n",
       "        vertical-align: top;\n",
       "    }\n",
       "\n",
       "    .dataframe thead th {\n",
       "        text-align: right;\n",
       "    }\n",
       "</style>\n",
       "<table border=\"1\" class=\"dataframe\">\n",
       "  <thead>\n",
       "    <tr style=\"text-align: right;\">\n",
       "      <th></th>\n",
       "      <th>user_id</th>\n",
       "      <th>recipe_id</th>\n",
       "      <th>date</th>\n",
       "      <th>rating</th>\n",
       "      <th>review</th>\n",
       "    </tr>\n",
       "  </thead>\n",
       "  <tbody>\n",
       "    <tr>\n",
       "      <th>2</th>\n",
       "      <td>468945</td>\n",
       "      <td>134728</td>\n",
       "      <td>2008-02-20</td>\n",
       "      <td>0</td>\n",
       "      <td>Made my own buttermilk w/ vinegar and milk.  U...</td>\n",
       "    </tr>\n",
       "    <tr>\n",
       "      <th>7</th>\n",
       "      <td>681408</td>\n",
       "      <td>225241</td>\n",
       "      <td>2008-03-14</td>\n",
       "      <td>0</td>\n",
       "      <td>This is a very good recipe.  We also want to c...</td>\n",
       "    </tr>\n",
       "    <tr>\n",
       "      <th>19</th>\n",
       "      <td>980899</td>\n",
       "      <td>79222</td>\n",
       "      <td>2010-10-18</td>\n",
       "      <td>0</td>\n",
       "      <td>I used half cream and half 1% milk, added anot...</td>\n",
       "    </tr>\n",
       "    <tr>\n",
       "      <th>205</th>\n",
       "      <td>93911</td>\n",
       "      <td>306919</td>\n",
       "      <td>2010-07-08</td>\n",
       "      <td>0</td>\n",
       "      <td>I haven't tried this recipe so I'm not rating ...</td>\n",
       "    </tr>\n",
       "    <tr>\n",
       "      <th>249</th>\n",
       "      <td>921361</td>\n",
       "      <td>232042</td>\n",
       "      <td>2014-10-03</td>\n",
       "      <td>0</td>\n",
       "      <td>Tasted great and was super easy to make. Thank...</td>\n",
       "    </tr>\n",
       "    <tr>\n",
       "      <th>...</th>\n",
       "      <td>...</td>\n",
       "      <td>...</td>\n",
       "      <td>...</td>\n",
       "      <td>...</td>\n",
       "      <td>...</td>\n",
       "    </tr>\n",
       "    <tr>\n",
       "      <th>597902</th>\n",
       "      <td>194886</td>\n",
       "      <td>99731</td>\n",
       "      <td>2013-01-24</td>\n",
       "      <td>0</td>\n",
       "      <td>This is a great recipe, I thought I had review...</td>\n",
       "    </tr>\n",
       "    <tr>\n",
       "      <th>597914</th>\n",
       "      <td>113509</td>\n",
       "      <td>130019</td>\n",
       "      <td>2012-04-20</td>\n",
       "      <td>0</td>\n",
       "      <td>Hubby and I thought this was good. Neither of ...</td>\n",
       "    </tr>\n",
       "    <tr>\n",
       "      <th>597986</th>\n",
       "      <td>374506</td>\n",
       "      <td>39724</td>\n",
       "      <td>2008-03-19</td>\n",
       "      <td>0</td>\n",
       "      <td>Great!!! After the turkey was done I browned t...</td>\n",
       "    </tr>\n",
       "    <tr>\n",
       "      <th>598000</th>\n",
       "      <td>329378</td>\n",
       "      <td>39902</td>\n",
       "      <td>2006-10-19</td>\n",
       "      <td>0</td>\n",
       "      <td>While the recipe calls for 3 cups of cheese, t...</td>\n",
       "    </tr>\n",
       "    <tr>\n",
       "      <th>598006</th>\n",
       "      <td>811179</td>\n",
       "      <td>136702</td>\n",
       "      <td>2011-12-29</td>\n",
       "      <td>0</td>\n",
       "      <td>We made our gluten-free with GF flour and it w...</td>\n",
       "    </tr>\n",
       "  </tbody>\n",
       "</table>\n",
       "<p>14693 rows × 5 columns</p>\n",
       "</div>"
      ],
      "text/plain": [
       "        user_id  recipe_id        date  rating  \\\n",
       "2        468945     134728  2008-02-20       0   \n",
       "7        681408     225241  2008-03-14       0   \n",
       "19       980899      79222  2010-10-18       0   \n",
       "205       93911     306919  2010-07-08       0   \n",
       "249      921361     232042  2014-10-03       0   \n",
       "...         ...        ...         ...     ...   \n",
       "597902   194886      99731  2013-01-24       0   \n",
       "597914   113509     130019  2012-04-20       0   \n",
       "597986   374506      39724  2008-03-19       0   \n",
       "598000   329378      39902  2006-10-19       0   \n",
       "598006   811179     136702  2011-12-29       0   \n",
       "\n",
       "                                                   review  \n",
       "2       Made my own buttermilk w/ vinegar and milk.  U...  \n",
       "7       This is a very good recipe.  We also want to c...  \n",
       "19      I used half cream and half 1% milk, added anot...  \n",
       "205     I haven't tried this recipe so I'm not rating ...  \n",
       "249     Tasted great and was super easy to make. Thank...  \n",
       "...                                                   ...  \n",
       "597902  This is a great recipe, I thought I had review...  \n",
       "597914  Hubby and I thought this was good. Neither of ...  \n",
       "597986  Great!!! After the turkey was done I browned t...  \n",
       "598000  While the recipe calls for 3 cups of cheese, t...  \n",
       "598006  We made our gluten-free with GF flour and it w...  \n",
       "\n",
       "[14693 rows x 5 columns]"
      ]
     },
     "execution_count": 28,
     "metadata": {},
     "output_type": "execute_result"
    }
   ],
   "source": [
    "#Looking at the 0 ratings to see if they are actually 0s or missing ratings\n",
    "user_reviews_df.loc[user_reviews_df[\"rating\"] == 0]"
   ]
  },
  {
   "cell_type": "markdown",
   "metadata": {},
   "source": [
    "It looks like the 0s are both a mix of positive and negative (or neutral reviews). While it is a small subset of our dataset it could be important to include these reviews considering the skew of our data. We could impute ratings based on the language used in the \"review\" column. To do this we will need to undertake Natural Language Processing (NLP). "
   ]
  },
  {
   "cell_type": "markdown",
   "metadata": {},
   "source": [
    " ## Preprocessing Review Data"
   ]
  },
  {
   "cell_type": "code",
   "execution_count": 29,
   "metadata": {},
   "outputs": [],
   "source": [
    "user_reviews_df[\"review\"] = user_reviews_df[\"review\"].astype(str)"
   ]
  },
  {
   "cell_type": "code",
   "execution_count": 35,
   "metadata": {},
   "outputs": [],
   "source": [
    "# Need to remove capitalization, apostrophes, and numbers from the reviews\n",
    "\n",
    "# Create a tokenizer that will take all words with three or more letters\n",
    "pattern = r\"(?u)\\w{3,}\"\n",
    "tokenizer = RegexpTokenizer(pattern)\n",
    "\n",
    "# Create list of stopwords in English (language of the reviews)\n",
    "# Remove \"very\" from the list of stopwords \n",
    "stopwords_list = stopwords.words(\"english\")\n",
    "stopwords_list.remove(\"very\")\n",
    "stopwords_list += list(string.punctuation)\n",
    "stopwords_list += ['0', '1', '2', '3', '4', '5', '6', '7', '8', '9']\n",
    "\n",
    "# Create an instance of nltk's WordNetLemmatizer with the variable name `lemmatizer`\n",
    "lemmatizer = WordNetLemmatizer()"
   ]
  },
  {
   "cell_type": "code",
   "execution_count": 36,
   "metadata": {},
   "outputs": [],
   "source": [
    "def preprocess_text(text, tokenizer, stopwords_list, lemmatizer):\n",
    "    # Standardize case (lowercase the text)\n",
    "    lowered_text = text.lower()\n",
    "    \n",
    "    # Tokenize text using `tokenizer`\n",
    "    tokens = tokenizer.tokenize(lowered_text)\n",
    "    \n",
    "    # Remove stopwords using `stopwords_list`\n",
    "    stopped_tokens = [word for word in tokens if word not in stopwords_list]\n",
    "    \n",
    "    # Stem the tokenized text using `stemmer`\n",
    "    lemmatized_text = [lemmatizer.lemmatize(token) for token in stopped_tokens]\n",
    "    \n",
    "    # Return the preprocessed text\n",
    "    return lemmatized_text"
   ]
  },
  {
   "cell_type": "code",
   "execution_count": 37,
   "metadata": {},
   "outputs": [
    {
     "data": {
      "text/plain": [
       "0                                              [very, good]\n",
       "1         [taste, absolutely, wonderful, son, law, love,...\n",
       "2         [made, buttermilk, vinegar, milk, used, defros...\n",
       "3         [first, time, using, liquid, smoke, recipe, ma...\n",
       "4         [mmmmm, good, actually, soaked, chicken, chick...\n",
       "                                ...                        \n",
       "598153    [really, loved, cut, recipe, back, use, three,...\n",
       "598154    [never, buy, hot, fudge, quick, easy, would, m...\n",
       "598155    [fabulous, made, dessert, tonight, practically...\n",
       "598156    [star, taste, hard, time, getting, mine, thick...\n",
       "598157    [amazingly, delicious, change, made, cook, bit...\n",
       "Name: review, Length: 598158, dtype: object"
      ]
     },
     "execution_count": 37,
     "metadata": {},
     "output_type": "execute_result"
    }
   ],
   "source": [
    "# Apply the preprocess function to the entire dataset\n",
    "review_text_data = user_reviews_df.review.apply(lambda x: preprocess_text(x, tokenizer, stopwords_list, lemmatizer))\n",
    "review_text_data"
   ]
  },
  {
   "cell_type": "code",
   "execution_count": 41,
   "metadata": {},
   "outputs": [
    {
     "data": {
      "text/html": [
       "<div>\n",
       "<style scoped>\n",
       "    .dataframe tbody tr th:only-of-type {\n",
       "        vertical-align: middle;\n",
       "    }\n",
       "\n",
       "    .dataframe tbody tr th {\n",
       "        vertical-align: top;\n",
       "    }\n",
       "\n",
       "    .dataframe thead th {\n",
       "        text-align: right;\n",
       "    }\n",
       "</style>\n",
       "<table border=\"1\" class=\"dataframe\">\n",
       "  <thead>\n",
       "    <tr style=\"text-align: right;\">\n",
       "      <th></th>\n",
       "      <th>user_id</th>\n",
       "      <th>recipe_id</th>\n",
       "      <th>date</th>\n",
       "      <th>rating</th>\n",
       "      <th>review</th>\n",
       "      <th>preprocessed_review_text</th>\n",
       "    </tr>\n",
       "  </thead>\n",
       "  <tbody>\n",
       "    <tr>\n",
       "      <th>0</th>\n",
       "      <td>76535</td>\n",
       "      <td>134728</td>\n",
       "      <td>2005-09-02</td>\n",
       "      <td>4</td>\n",
       "      <td>Very good!</td>\n",
       "      <td>[very, good]</td>\n",
       "    </tr>\n",
       "    <tr>\n",
       "      <th>1</th>\n",
       "      <td>190375</td>\n",
       "      <td>134728</td>\n",
       "      <td>2007-03-09</td>\n",
       "      <td>5</td>\n",
       "      <td>These taste absolutely wonderful!!  My son-in-...</td>\n",
       "      <td>[taste, absolutely, wonderful, son, law, love,...</td>\n",
       "    </tr>\n",
       "    <tr>\n",
       "      <th>2</th>\n",
       "      <td>468945</td>\n",
       "      <td>134728</td>\n",
       "      <td>2008-02-20</td>\n",
       "      <td>0</td>\n",
       "      <td>Made my own buttermilk w/ vinegar and milk.  U...</td>\n",
       "      <td>[made, buttermilk, vinegar, milk, used, defros...</td>\n",
       "    </tr>\n",
       "    <tr>\n",
       "      <th>3</th>\n",
       "      <td>255338</td>\n",
       "      <td>134728</td>\n",
       "      <td>2008-04-11</td>\n",
       "      <td>5</td>\n",
       "      <td>First time using liquid smoke in a recipe. Mad...</td>\n",
       "      <td>[first, time, using, liquid, smoke, recipe, ma...</td>\n",
       "    </tr>\n",
       "    <tr>\n",
       "      <th>4</th>\n",
       "      <td>1171894</td>\n",
       "      <td>134728</td>\n",
       "      <td>2009-04-21</td>\n",
       "      <td>5</td>\n",
       "      <td>MMMMM! This is so good! I actually soaked the ...</td>\n",
       "      <td>[mmmmm, good, actually, soaked, chicken, chick...</td>\n",
       "    </tr>\n",
       "  </tbody>\n",
       "</table>\n",
       "</div>"
      ],
      "text/plain": [
       "   user_id  recipe_id        date  rating  \\\n",
       "0    76535     134728  2005-09-02       4   \n",
       "1   190375     134728  2007-03-09       5   \n",
       "2   468945     134728  2008-02-20       0   \n",
       "3   255338     134728  2008-04-11       5   \n",
       "4  1171894     134728  2009-04-21       5   \n",
       "\n",
       "                                              review  \\\n",
       "0                                         Very good!   \n",
       "1  These taste absolutely wonderful!!  My son-in-...   \n",
       "2  Made my own buttermilk w/ vinegar and milk.  U...   \n",
       "3  First time using liquid smoke in a recipe. Mad...   \n",
       "4  MMMMM! This is so good! I actually soaked the ...   \n",
       "\n",
       "                            preprocessed_review_text  \n",
       "0                                       [very, good]  \n",
       "1  [taste, absolutely, wonderful, son, law, love,...  \n",
       "2  [made, buttermilk, vinegar, milk, used, defros...  \n",
       "3  [first, time, using, liquid, smoke, recipe, ma...  \n",
       "4  [mmmmm, good, actually, soaked, chicken, chick...  "
      ]
     },
     "execution_count": 41,
     "metadata": {},
     "output_type": "execute_result"
    }
   ],
   "source": [
    "#Add preprocessed lemmatized text to the dataframe\n",
    "user_reviews_df[\"preprocessed_review_text\"] = review_text_data\n",
    "user_reviews_df.head()"
   ]
  },
  {
   "cell_type": "code",
   "execution_count": 48,
   "metadata": {},
   "outputs": [
    {
     "data": {
      "image/png": "[encoded data removed]",
      "text/plain": [
       "<Figure size 864x864 with 6 Axes>"
      ]
     },
     "metadata": {
      "needs_background": "light"
     },
     "output_type": "display_data"
    }
   ],
   "source": [
    "# Set up figure and axes\n",
    "fig, axes = plt.subplots(nrows=6, figsize=(12, 12))\n",
    "\n",
    "# Empty dict to hold words that have already been plotted and their colors\n",
    "plotted_words_and_colors = {}\n",
    "# Establish color palette to pull from\n",
    "# (If you get an error message about popping from an empty list, increase this #)\n",
    "color_palette = sns.color_palette('cividis', n_colors=38)\n",
    "\n",
    "# Creating a plot for each unique genre\n",
    "data_by_rating = [y for _, y in user_reviews_df.groupby('rating', as_index=False)]\n",
    "for idx, rating_df in enumerate(data_by_rating):\n",
    "    # Find top 10 words in this genre\n",
    "    all_words_in_rating = rating_df.preprocessed_review_text.explode()\n",
    "    top_10 = all_words_in_rating.value_counts()[:10]\n",
    "    \n",
    "    # Select appropriate colors, reusing colors if words repeat\n",
    "    colors = []\n",
    "    for word in top_10.index:\n",
    "        if word not in plotted_words_and_colors:\n",
    "            new_color = color_palette.pop(0)\n",
    "            plotted_words_and_colors[word] = new_color\n",
    "        colors.append(plotted_words_and_colors[word])\n",
    "    \n",
    "    # Select axes, plot data, set title\n",
    "    ax = axes[idx]\n",
    "    ax.bar(top_10.index, top_10.values, color=colors)\n",
    "    ax.set_title(rating_df.iloc[0].rating)\n",
    "    \n",
    "fig.tight_layout()"
   ]
  },
  {
   "cell_type": "code",
   "execution_count": null,
   "metadata": {},
   "outputs": [],
   "source": []
  },
  {
   "cell_type": "code",
   "execution_count": null,
   "metadata": {},
   "outputs": [],
   "source": [
    "# Need to either make bigrams and graph those, \n",
    "# or do a frequency dist and see which words outperform in each rating category"
   ]
  },
  {
   "cell_type": "code",
   "execution_count": null,
   "metadata": {},
   "outputs": [],
   "source": []
  },
  {
   "cell_type": "code",
   "execution_count": null,
   "metadata": {},
   "outputs": [],
   "source": []
  },
  {
   "cell_type": "code",
   "execution_count": null,
   "metadata": {},
   "outputs": [],
   "source": []
  },
  {
   "cell_type": "code",
   "execution_count": null,
   "metadata": {},
   "outputs": [],
   "source": []
  },
  {
   "cell_type": "code",
   "execution_count": 40,
   "metadata": {},
   "outputs": [
    {
     "ename": "TypeError",
     "evalue": "unhashable type: 'list'",
     "output_type": "error",
     "traceback": [
      "\u001b[0;31m---------------------------------------------------------------------------\u001b[0m",
      "\u001b[0;31mTypeError\u001b[0m                                 Traceback (most recent call last)",
      "\u001b[0;32m<ipython-input-40-7b9b8c533b30>\u001b[0m in \u001b[0;36m<module>\u001b[0;34m\u001b[0m\n\u001b[1;32m      3\u001b[0m \u001b[0mbigram_measures\u001b[0m \u001b[0;34m=\u001b[0m \u001b[0mnltk\u001b[0m\u001b[0;34m.\u001b[0m\u001b[0mcollocations\u001b[0m\u001b[0;34m.\u001b[0m\u001b[0mBigramAssocMeasures\u001b[0m\u001b[0;34m(\u001b[0m\u001b[0;34m)\u001b[0m\u001b[0;34m\u001b[0m\u001b[0;34m\u001b[0m\u001b[0m\n\u001b[1;32m      4\u001b[0m \u001b[0;34m\u001b[0m\u001b[0m\n\u001b[0;32m----> 5\u001b[0;31m \u001b[0mreview_text_finder\u001b[0m \u001b[0;34m=\u001b[0m \u001b[0mBigramCollocationFinder\u001b[0m\u001b[0;34m.\u001b[0m\u001b[0mfrom_words\u001b[0m\u001b[0;34m(\u001b[0m\u001b[0mreview_text_data\u001b[0m\u001b[0;34m)\u001b[0m\u001b[0;34m\u001b[0m\u001b[0;34m\u001b[0m\u001b[0m\n\u001b[0m\u001b[1;32m      6\u001b[0m \u001b[0;34m\u001b[0m\u001b[0m\n\u001b[1;32m      7\u001b[0m \u001b[0;34m\u001b[0m\u001b[0m\n",
      "\u001b[0;32m~/opt/anaconda3/envs/learn-env/lib/python3.8/site-packages/nltk/collocations.py\u001b[0m in \u001b[0;36mfrom_words\u001b[0;34m(cls, words, window_size)\u001b[0m\n\u001b[1;32m    180\u001b[0m             \u001b[0;32mif\u001b[0m \u001b[0mw1\u001b[0m \u001b[0;32mis\u001b[0m \u001b[0;32mNone\u001b[0m\u001b[0;34m:\u001b[0m\u001b[0;34m\u001b[0m\u001b[0;34m\u001b[0m\u001b[0m\n\u001b[1;32m    181\u001b[0m                 \u001b[0;32mcontinue\u001b[0m\u001b[0;34m\u001b[0m\u001b[0;34m\u001b[0m\u001b[0m\n\u001b[0;32m--> 182\u001b[0;31m             \u001b[0mwfd\u001b[0m\u001b[0;34m[\u001b[0m\u001b[0mw1\u001b[0m\u001b[0;34m]\u001b[0m \u001b[0;34m+=\u001b[0m \u001b[0;36m1\u001b[0m\u001b[0;34m\u001b[0m\u001b[0;34m\u001b[0m\u001b[0m\n\u001b[0m\u001b[1;32m    183\u001b[0m             \u001b[0;32mfor\u001b[0m \u001b[0mw2\u001b[0m \u001b[0;32min\u001b[0m \u001b[0mwindow\u001b[0m\u001b[0;34m[\u001b[0m\u001b[0;36m1\u001b[0m\u001b[0;34m:\u001b[0m\u001b[0;34m]\u001b[0m\u001b[0;34m:\u001b[0m\u001b[0;34m\u001b[0m\u001b[0;34m\u001b[0m\u001b[0m\n\u001b[1;32m    184\u001b[0m                 \u001b[0;32mif\u001b[0m \u001b[0mw2\u001b[0m \u001b[0;32mis\u001b[0m \u001b[0;32mnot\u001b[0m \u001b[0;32mNone\u001b[0m\u001b[0;34m:\u001b[0m\u001b[0;34m\u001b[0m\u001b[0;34m\u001b[0m\u001b[0m\n",
      "\u001b[0;31mTypeError\u001b[0m: unhashable type: 'list'"
     ]
    }
   ],
   "source": [
    "# Creating Bigrams\n",
    "\n",
    "review_text_stopped = [word for word in tokens if word not in stopwords_list]\n",
    "\n",
    "bigram_measures = nltk.collocations.BigramAssocMeasures()\n",
    "\n",
    "review_text_finder = BigramCollocationFinder.from_words(review_text_data)\n",
    "\n",
    "\n",
    "review_text_scored = review_text_finder.score_ngrams(birgram_measures.raw_freq)\n",
    "\n",
    "review_text_scored[:20]\n"
   ]
  },
  {
   "cell_type": "code",
   "execution_count": null,
   "metadata": {},
   "outputs": [],
   "source": []
  }
 ],
 "metadata": {
  "kernelspec": {
   "display_name": "Python (learn-env)",
   "language": "python",
   "name": "learn-env"
  },
  "language_info": {
   "codemirror_mode": {
    "name": "ipython",
    "version": 3
   },
   "file_extension": ".py",
   "mimetype": "text/x-python",
   "name": "python",
   "nbconvert_exporter": "python",
   "pygments_lexer": "ipython3",
   "version": "3.8.5"
  }
 },
 "nbformat": 4,
 "nbformat_minor": 4
}
