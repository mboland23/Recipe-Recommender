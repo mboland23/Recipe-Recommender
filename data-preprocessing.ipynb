{
 "cells": [
  {
   "cell_type": "code",
   "execution_count": 2,
   "metadata": {},
   "outputs": [
    {
     "data": {
      "text/html": [
       "        <script type=\"text/javascript\">\n",
       "        window.PlotlyConfig = {MathJaxConfig: 'local'};\n",
       "        if (window.MathJax) {MathJax.Hub.Config({SVG: {font: \"STIX-Web\"}});}\n",
       "        if (typeof require !== 'undefined') {\n",
       "        require.undef(\"plotly\");\n",
       "        requirejs.config({\n",
       "            paths: {\n",
       "                'plotly': ['https://cdn.plot.ly/plotly-latest.min']\n",
       "            }\n",
       "        });\n",
       "        require(['plotly'], function(Plotly) {\n",
       "            window._Plotly = Plotly;\n",
       "        });\n",
       "        }\n",
       "        </script>\n",
       "        "
      ]
     },
     "metadata": {},
     "output_type": "display_data"
    }
   ],
   "source": [
    "import pandas as pd\n",
    "import pickle\n",
    "import matplotlib.pyplot as plt\n",
    "import seaborn as sns\n",
    "import numpy as np\n",
    "\n",
    "from plotly.offline import init_notebook_mode, plot, iplot\n",
    "import plotly.graph_objs as go\n",
    "from plotly.io import to_image\n",
    "init_notebook_mode(connected=True)\n",
    "\n",
    "%matplotlib inline"
   ]
  },
  {
   "cell_type": "code",
   "execution_count": 3,
   "metadata": {},
   "outputs": [
    {
     "ename": "FileNotFoundError",
     "evalue": "[Errno 2] No such file or directory: './Data/user_reviews.csv'",
     "output_type": "error",
     "traceback": [
      "\u001b[0;31m---------------------------------------------------------------------------\u001b[0m",
      "\u001b[0;31mFileNotFoundError\u001b[0m                         Traceback (most recent call last)",
      "\u001b[0;32m<ipython-input-3-d08dfc08bced>\u001b[0m in \u001b[0;36m<module>\u001b[0;34m\u001b[0m\n\u001b[1;32m      1\u001b[0m \u001b[0;31m#Read in the user_reviews data file\u001b[0m\u001b[0;34m\u001b[0m\u001b[0;34m\u001b[0m\u001b[0;34m\u001b[0m\u001b[0m\n\u001b[0;32m----> 2\u001b[0;31m \u001b[0muser_reviews_df\u001b[0m \u001b[0;34m=\u001b[0m \u001b[0mpd\u001b[0m\u001b[0;34m.\u001b[0m\u001b[0mread_csv\u001b[0m\u001b[0;34m(\u001b[0m\u001b[0;34m\"./Data/user_reviews.csv\"\u001b[0m\u001b[0;34m,\u001b[0m \u001b[0mindex_col\u001b[0m\u001b[0;34m=\u001b[0m\u001b[0;34m[\u001b[0m\u001b[0;36m0\u001b[0m\u001b[0;34m]\u001b[0m\u001b[0;34m)\u001b[0m\u001b[0;34m\u001b[0m\u001b[0;34m\u001b[0m\u001b[0m\n\u001b[0m",
      "\u001b[0;32m~/opt/anaconda3/envs/learn-env/lib/python3.8/site-packages/pandas/io/parsers.py\u001b[0m in \u001b[0;36mread_csv\u001b[0;34m(filepath_or_buffer, sep, delimiter, header, names, index_col, usecols, squeeze, prefix, mangle_dupe_cols, dtype, engine, converters, true_values, false_values, skipinitialspace, skiprows, skipfooter, nrows, na_values, keep_default_na, na_filter, verbose, skip_blank_lines, parse_dates, infer_datetime_format, keep_date_col, date_parser, dayfirst, cache_dates, iterator, chunksize, compression, thousands, decimal, lineterminator, quotechar, quoting, doublequote, escapechar, comment, encoding, dialect, error_bad_lines, warn_bad_lines, delim_whitespace, low_memory, memory_map, float_precision)\u001b[0m\n\u001b[1;32m    684\u001b[0m     )\n\u001b[1;32m    685\u001b[0m \u001b[0;34m\u001b[0m\u001b[0m\n\u001b[0;32m--> 686\u001b[0;31m     \u001b[0;32mreturn\u001b[0m \u001b[0m_read\u001b[0m\u001b[0;34m(\u001b[0m\u001b[0mfilepath_or_buffer\u001b[0m\u001b[0;34m,\u001b[0m \u001b[0mkwds\u001b[0m\u001b[0;34m)\u001b[0m\u001b[0;34m\u001b[0m\u001b[0;34m\u001b[0m\u001b[0m\n\u001b[0m\u001b[1;32m    687\u001b[0m \u001b[0;34m\u001b[0m\u001b[0m\n\u001b[1;32m    688\u001b[0m \u001b[0;34m\u001b[0m\u001b[0m\n",
      "\u001b[0;32m~/opt/anaconda3/envs/learn-env/lib/python3.8/site-packages/pandas/io/parsers.py\u001b[0m in \u001b[0;36m_read\u001b[0;34m(filepath_or_buffer, kwds)\u001b[0m\n\u001b[1;32m    450\u001b[0m \u001b[0;34m\u001b[0m\u001b[0m\n\u001b[1;32m    451\u001b[0m     \u001b[0;31m# Create the parser.\u001b[0m\u001b[0;34m\u001b[0m\u001b[0;34m\u001b[0m\u001b[0;34m\u001b[0m\u001b[0m\n\u001b[0;32m--> 452\u001b[0;31m     \u001b[0mparser\u001b[0m \u001b[0;34m=\u001b[0m \u001b[0mTextFileReader\u001b[0m\u001b[0;34m(\u001b[0m\u001b[0mfp_or_buf\u001b[0m\u001b[0;34m,\u001b[0m \u001b[0;34m**\u001b[0m\u001b[0mkwds\u001b[0m\u001b[0;34m)\u001b[0m\u001b[0;34m\u001b[0m\u001b[0;34m\u001b[0m\u001b[0m\n\u001b[0m\u001b[1;32m    453\u001b[0m \u001b[0;34m\u001b[0m\u001b[0m\n\u001b[1;32m    454\u001b[0m     \u001b[0;32mif\u001b[0m \u001b[0mchunksize\u001b[0m \u001b[0;32mor\u001b[0m \u001b[0miterator\u001b[0m\u001b[0;34m:\u001b[0m\u001b[0;34m\u001b[0m\u001b[0;34m\u001b[0m\u001b[0m\n",
      "\u001b[0;32m~/opt/anaconda3/envs/learn-env/lib/python3.8/site-packages/pandas/io/parsers.py\u001b[0m in \u001b[0;36m__init__\u001b[0;34m(self, f, engine, **kwds)\u001b[0m\n\u001b[1;32m    944\u001b[0m             \u001b[0mself\u001b[0m\u001b[0;34m.\u001b[0m\u001b[0moptions\u001b[0m\u001b[0;34m[\u001b[0m\u001b[0;34m\"has_index_names\"\u001b[0m\u001b[0;34m]\u001b[0m \u001b[0;34m=\u001b[0m \u001b[0mkwds\u001b[0m\u001b[0;34m[\u001b[0m\u001b[0;34m\"has_index_names\"\u001b[0m\u001b[0;34m]\u001b[0m\u001b[0;34m\u001b[0m\u001b[0;34m\u001b[0m\u001b[0m\n\u001b[1;32m    945\u001b[0m \u001b[0;34m\u001b[0m\u001b[0m\n\u001b[0;32m--> 946\u001b[0;31m         \u001b[0mself\u001b[0m\u001b[0;34m.\u001b[0m\u001b[0m_make_engine\u001b[0m\u001b[0;34m(\u001b[0m\u001b[0mself\u001b[0m\u001b[0;34m.\u001b[0m\u001b[0mengine\u001b[0m\u001b[0;34m)\u001b[0m\u001b[0;34m\u001b[0m\u001b[0;34m\u001b[0m\u001b[0m\n\u001b[0m\u001b[1;32m    947\u001b[0m \u001b[0;34m\u001b[0m\u001b[0m\n\u001b[1;32m    948\u001b[0m     \u001b[0;32mdef\u001b[0m \u001b[0mclose\u001b[0m\u001b[0;34m(\u001b[0m\u001b[0mself\u001b[0m\u001b[0;34m)\u001b[0m\u001b[0;34m:\u001b[0m\u001b[0;34m\u001b[0m\u001b[0;34m\u001b[0m\u001b[0m\n",
      "\u001b[0;32m~/opt/anaconda3/envs/learn-env/lib/python3.8/site-packages/pandas/io/parsers.py\u001b[0m in \u001b[0;36m_make_engine\u001b[0;34m(self, engine)\u001b[0m\n\u001b[1;32m   1176\u001b[0m     \u001b[0;32mdef\u001b[0m \u001b[0m_make_engine\u001b[0m\u001b[0;34m(\u001b[0m\u001b[0mself\u001b[0m\u001b[0;34m,\u001b[0m \u001b[0mengine\u001b[0m\u001b[0;34m=\u001b[0m\u001b[0;34m\"c\"\u001b[0m\u001b[0;34m)\u001b[0m\u001b[0;34m:\u001b[0m\u001b[0;34m\u001b[0m\u001b[0;34m\u001b[0m\u001b[0m\n\u001b[1;32m   1177\u001b[0m         \u001b[0;32mif\u001b[0m \u001b[0mengine\u001b[0m \u001b[0;34m==\u001b[0m \u001b[0;34m\"c\"\u001b[0m\u001b[0;34m:\u001b[0m\u001b[0;34m\u001b[0m\u001b[0;34m\u001b[0m\u001b[0m\n\u001b[0;32m-> 1178\u001b[0;31m             \u001b[0mself\u001b[0m\u001b[0;34m.\u001b[0m\u001b[0m_engine\u001b[0m \u001b[0;34m=\u001b[0m \u001b[0mCParserWrapper\u001b[0m\u001b[0;34m(\u001b[0m\u001b[0mself\u001b[0m\u001b[0;34m.\u001b[0m\u001b[0mf\u001b[0m\u001b[0;34m,\u001b[0m \u001b[0;34m**\u001b[0m\u001b[0mself\u001b[0m\u001b[0;34m.\u001b[0m\u001b[0moptions\u001b[0m\u001b[0;34m)\u001b[0m\u001b[0;34m\u001b[0m\u001b[0;34m\u001b[0m\u001b[0m\n\u001b[0m\u001b[1;32m   1179\u001b[0m         \u001b[0;32melse\u001b[0m\u001b[0;34m:\u001b[0m\u001b[0;34m\u001b[0m\u001b[0;34m\u001b[0m\u001b[0m\n\u001b[1;32m   1180\u001b[0m             \u001b[0;32mif\u001b[0m \u001b[0mengine\u001b[0m \u001b[0;34m==\u001b[0m \u001b[0;34m\"python\"\u001b[0m\u001b[0;34m:\u001b[0m\u001b[0;34m\u001b[0m\u001b[0;34m\u001b[0m\u001b[0m\n",
      "\u001b[0;32m~/opt/anaconda3/envs/learn-env/lib/python3.8/site-packages/pandas/io/parsers.py\u001b[0m in \u001b[0;36m__init__\u001b[0;34m(self, src, **kwds)\u001b[0m\n\u001b[1;32m   2006\u001b[0m         \u001b[0mkwds\u001b[0m\u001b[0;34m[\u001b[0m\u001b[0;34m\"usecols\"\u001b[0m\u001b[0;34m]\u001b[0m \u001b[0;34m=\u001b[0m \u001b[0mself\u001b[0m\u001b[0;34m.\u001b[0m\u001b[0musecols\u001b[0m\u001b[0;34m\u001b[0m\u001b[0;34m\u001b[0m\u001b[0m\n\u001b[1;32m   2007\u001b[0m \u001b[0;34m\u001b[0m\u001b[0m\n\u001b[0;32m-> 2008\u001b[0;31m         \u001b[0mself\u001b[0m\u001b[0;34m.\u001b[0m\u001b[0m_reader\u001b[0m \u001b[0;34m=\u001b[0m \u001b[0mparsers\u001b[0m\u001b[0;34m.\u001b[0m\u001b[0mTextReader\u001b[0m\u001b[0;34m(\u001b[0m\u001b[0msrc\u001b[0m\u001b[0;34m,\u001b[0m \u001b[0;34m**\u001b[0m\u001b[0mkwds\u001b[0m\u001b[0;34m)\u001b[0m\u001b[0;34m\u001b[0m\u001b[0;34m\u001b[0m\u001b[0m\n\u001b[0m\u001b[1;32m   2009\u001b[0m         \u001b[0mself\u001b[0m\u001b[0;34m.\u001b[0m\u001b[0munnamed_cols\u001b[0m \u001b[0;34m=\u001b[0m \u001b[0mself\u001b[0m\u001b[0;34m.\u001b[0m\u001b[0m_reader\u001b[0m\u001b[0;34m.\u001b[0m\u001b[0munnamed_cols\u001b[0m\u001b[0;34m\u001b[0m\u001b[0;34m\u001b[0m\u001b[0m\n\u001b[1;32m   2010\u001b[0m \u001b[0;34m\u001b[0m\u001b[0m\n",
      "\u001b[0;32mpandas/_libs/parsers.pyx\u001b[0m in \u001b[0;36mpandas._libs.parsers.TextReader.__cinit__\u001b[0;34m()\u001b[0m\n",
      "\u001b[0;32mpandas/_libs/parsers.pyx\u001b[0m in \u001b[0;36mpandas._libs.parsers.TextReader._setup_parser_source\u001b[0;34m()\u001b[0m\n",
      "\u001b[0;31mFileNotFoundError\u001b[0m: [Errno 2] No such file or directory: './Data/user_reviews.csv'"
     ]
    }
   ],
   "source": [
    "#Read in the user_reviews data file\n",
    "user_reviews_df = pd.read_csv(\"./Data/user_reviews.csv\", index_col=[0])"
   ]
  },
  {
   "cell_type": "code",
   "execution_count": 4,
   "metadata": {},
   "outputs": [
    {
     "name": "stdout",
     "output_type": "stream",
     "text": [
      "<class 'pandas.core.frame.DataFrame'>\n",
      "Int64Index: 598158 entries, 8 to 1132357\n",
      "Data columns (total 5 columns):\n",
      " #   Column     Non-Null Count   Dtype \n",
      "---  ------     --------------   ----- \n",
      " 0   user_id    598158 non-null  int64 \n",
      " 1   recipe_id  598158 non-null  int64 \n",
      " 2   date       598158 non-null  object\n",
      " 3   rating     598158 non-null  int64 \n",
      " 4   review     598154 non-null  object\n",
      "dtypes: int64(3), object(2)\n",
      "memory usage: 27.4+ MB\n"
     ]
    }
   ],
   "source": [
    "# Looking at the data from the \n",
    "user_reviews_df.info()"
   ]
  },
  {
   "cell_type": "markdown",
   "metadata": {},
   "source": [
    "We have 598,158 user ratings. There are four missing review column. Because this is such a small amount, we can drop these columns in case we want to later use review comments in some form. "
   ]
  },
  {
   "cell_type": "code",
   "execution_count": 5,
   "metadata": {},
   "outputs": [],
   "source": [
    "#Drop 4 missing reviews\n",
    "user_reviews_df.dropna(inplace=True)"
   ]
  },
  {
   "cell_type": "code",
   "execution_count": 6,
   "metadata": {},
   "outputs": [
    {
     "name": "stdout",
     "output_type": "stream",
     "text": [
      "<class 'pandas.core.frame.DataFrame'>\n",
      "Int64Index: 598154 entries, 8 to 1132357\n",
      "Data columns (total 5 columns):\n",
      " #   Column     Non-Null Count   Dtype \n",
      "---  ------     --------------   ----- \n",
      " 0   user_id    598154 non-null  int64 \n",
      " 1   recipe_id  598154 non-null  int64 \n",
      " 2   date       598154 non-null  object\n",
      " 3   rating     598154 non-null  int64 \n",
      " 4   review     598154 non-null  object\n",
      "dtypes: int64(3), object(2)\n",
      "memory usage: 27.4+ MB\n"
     ]
    }
   ],
   "source": [
    "#Check no missing values\n",
    "user_reviews_df.info()"
   ]
  },
  {
   "cell_type": "code",
   "execution_count": 7,
   "metadata": {},
   "outputs": [],
   "source": [
    "#Turn user_id, recipe_id, review to string\n",
    "user_reviews_df[\"review\"] = user_reviews_df[\"review\"].astype(str)\n",
    "user_reviews_df[\"user_id\"] = user_reviews_df[\"user_id\"].astype(str)\n",
    "user_reviews_df[\"recipe_id\"] = user_reviews_df[\"recipe_id\"].astype(str)"
   ]
  },
  {
   "cell_type": "code",
   "execution_count": 8,
   "metadata": {},
   "outputs": [],
   "source": [
    "#Turn rating into a float\n",
    "user_reviews_df[\"rating\"] = user_reviews_df[\"rating\"].astype(float)"
   ]
  },
  {
   "cell_type": "code",
   "execution_count": 9,
   "metadata": {},
   "outputs": [
    {
     "name": "stdout",
     "output_type": "stream",
     "text": [
      "<class 'pandas.core.frame.DataFrame'>\n",
      "Int64Index: 598154 entries, 8 to 1132357\n",
      "Data columns (total 5 columns):\n",
      " #   Column     Non-Null Count   Dtype  \n",
      "---  ------     --------------   -----  \n",
      " 0   user_id    598154 non-null  object \n",
      " 1   recipe_id  598154 non-null  object \n",
      " 2   date       598154 non-null  object \n",
      " 3   rating     598154 non-null  float64\n",
      " 4   review     598154 non-null  object \n",
      "dtypes: float64(1), object(4)\n",
      "memory usage: 27.4+ MB\n"
     ]
    }
   ],
   "source": [
    "#Check that the changes worked\n",
    "user_reviews_df.info()"
   ]
  },
  {
   "cell_type": "markdown",
   "metadata": {},
   "source": [
    "## Visualizing Rating Data"
   ]
  },
  {
   "cell_type": "code",
   "execution_count": 10,
   "metadata": {
    "scrolled": true
   },
   "outputs": [
    {
     "data": {
      "image/png": "[encoded data removed]",
      "text/plain": [
       "<Figure size 432x288 with 1 Axes>"
      ]
     },
     "metadata": {
      "needs_background": "light"
     },
     "output_type": "display_data"
    }
   ],
   "source": [
    "#Creating a bar chart to see the distribution of ratings\n",
    "rating_count = user_reviews_df[\"rating\"].value_counts().sort_index(ascending=False)\n",
    "\n",
    "plt.bar(rating_count.index, rating_count.values);"
   ]
  },
  {
   "cell_type": "code",
   "execution_count": 11,
   "metadata": {},
   "outputs": [
    {
     "data": {
      "text/plain": [
       "5.0    460937\n",
       "4.0     95038\n",
       "3.0     19168\n",
       "2.0      5548\n",
       "1.0      2770\n",
       "0.0     14693\n",
       "Name: rating, dtype: int64"
      ]
     },
     "execution_count": 11,
     "metadata": {},
     "output_type": "execute_result"
    }
   ],
   "source": [
    "rating_count"
   ]
  },
  {
   "cell_type": "markdown",
   "metadata": {},
   "source": [
    "77% of our new dataset includes 5 star reviews, which heavily skews the data and will affect the recommendation portal. \n",
    "\n",
    "We also notice that 2.4% of our dataset includes a 0 rating. It would be important to see if these are actually 0s or if they are imputed value for missing ratings. "
   ]
  },
  {
   "cell_type": "markdown",
   "metadata": {},
   "source": [
    "## Dealing with 0 Ratings"
   ]
  },
  {
   "cell_type": "code",
   "execution_count": 12,
   "metadata": {},
   "outputs": [
    {
     "data": {
      "text/html": [
       "<div>\n",
       "<style scoped>\n",
       "    .dataframe tbody tr th:only-of-type {\n",
       "        vertical-align: middle;\n",
       "    }\n",
       "\n",
       "    .dataframe tbody tr th {\n",
       "        vertical-align: top;\n",
       "    }\n",
       "\n",
       "    .dataframe thead th {\n",
       "        text-align: right;\n",
       "    }\n",
       "</style>\n",
       "<table border=\"1\" class=\"dataframe\">\n",
       "  <thead>\n",
       "    <tr style=\"text-align: right;\">\n",
       "      <th></th>\n",
       "      <th>user_id</th>\n",
       "      <th>recipe_id</th>\n",
       "      <th>date</th>\n",
       "      <th>rating</th>\n",
       "      <th>review</th>\n",
       "    </tr>\n",
       "  </thead>\n",
       "  <tbody>\n",
       "    <tr>\n",
       "      <th>12</th>\n",
       "      <td>468945</td>\n",
       "      <td>134728</td>\n",
       "      <td>2008-02-20</td>\n",
       "      <td>0.0</td>\n",
       "      <td>Made my own buttermilk w/ vinegar and milk.  U...</td>\n",
       "    </tr>\n",
       "    <tr>\n",
       "      <th>23</th>\n",
       "      <td>681408</td>\n",
       "      <td>225241</td>\n",
       "      <td>2008-03-14</td>\n",
       "      <td>0.0</td>\n",
       "      <td>This is a very good recipe.  We also want to c...</td>\n",
       "    </tr>\n",
       "    <tr>\n",
       "      <th>56</th>\n",
       "      <td>980899</td>\n",
       "      <td>79222</td>\n",
       "      <td>2010-10-18</td>\n",
       "      <td>0.0</td>\n",
       "      <td>I used half cream and half 1% milk, added anot...</td>\n",
       "    </tr>\n",
       "    <tr>\n",
       "      <th>539</th>\n",
       "      <td>93911</td>\n",
       "      <td>306919</td>\n",
       "      <td>2010-07-08</td>\n",
       "      <td>0.0</td>\n",
       "      <td>I haven't tried this recipe so I'm not rating ...</td>\n",
       "    </tr>\n",
       "    <tr>\n",
       "      <th>642</th>\n",
       "      <td>921361</td>\n",
       "      <td>232042</td>\n",
       "      <td>2014-10-03</td>\n",
       "      <td>0.0</td>\n",
       "      <td>Tasted great and was super easy to make. Thank...</td>\n",
       "    </tr>\n",
       "    <tr>\n",
       "      <th>...</th>\n",
       "      <td>...</td>\n",
       "      <td>...</td>\n",
       "      <td>...</td>\n",
       "      <td>...</td>\n",
       "      <td>...</td>\n",
       "    </tr>\n",
       "    <tr>\n",
       "      <th>1131752</th>\n",
       "      <td>194886</td>\n",
       "      <td>99731</td>\n",
       "      <td>2013-01-24</td>\n",
       "      <td>0.0</td>\n",
       "      <td>This is a great recipe, I thought I had review...</td>\n",
       "    </tr>\n",
       "    <tr>\n",
       "      <th>1131780</th>\n",
       "      <td>113509</td>\n",
       "      <td>130019</td>\n",
       "      <td>2012-04-20</td>\n",
       "      <td>0.0</td>\n",
       "      <td>Hubby and I thought this was good. Neither of ...</td>\n",
       "    </tr>\n",
       "    <tr>\n",
       "      <th>1131953</th>\n",
       "      <td>374506</td>\n",
       "      <td>39724</td>\n",
       "      <td>2008-03-19</td>\n",
       "      <td>0.0</td>\n",
       "      <td>Great!!! After the turkey was done I browned t...</td>\n",
       "    </tr>\n",
       "    <tr>\n",
       "      <th>1132016</th>\n",
       "      <td>329378</td>\n",
       "      <td>39902</td>\n",
       "      <td>2006-10-19</td>\n",
       "      <td>0.0</td>\n",
       "      <td>While the recipe calls for 3 cups of cheese, t...</td>\n",
       "    </tr>\n",
       "    <tr>\n",
       "      <th>1132031</th>\n",
       "      <td>811179</td>\n",
       "      <td>136702</td>\n",
       "      <td>2011-12-29</td>\n",
       "      <td>0.0</td>\n",
       "      <td>We made our gluten-free with GF flour and it w...</td>\n",
       "    </tr>\n",
       "  </tbody>\n",
       "</table>\n",
       "<p>14693 rows × 5 columns</p>\n",
       "</div>"
      ],
      "text/plain": [
       "        user_id recipe_id        date  rating  \\\n",
       "12       468945    134728  2008-02-20     0.0   \n",
       "23       681408    225241  2008-03-14     0.0   \n",
       "56       980899     79222  2010-10-18     0.0   \n",
       "539       93911    306919  2010-07-08     0.0   \n",
       "642      921361    232042  2014-10-03     0.0   \n",
       "...         ...       ...         ...     ...   \n",
       "1131752  194886     99731  2013-01-24     0.0   \n",
       "1131780  113509    130019  2012-04-20     0.0   \n",
       "1131953  374506     39724  2008-03-19     0.0   \n",
       "1132016  329378     39902  2006-10-19     0.0   \n",
       "1132031  811179    136702  2011-12-29     0.0   \n",
       "\n",
       "                                                    review  \n",
       "12       Made my own buttermilk w/ vinegar and milk.  U...  \n",
       "23       This is a very good recipe.  We also want to c...  \n",
       "56       I used half cream and half 1% milk, added anot...  \n",
       "539      I haven't tried this recipe so I'm not rating ...  \n",
       "642      Tasted great and was super easy to make. Thank...  \n",
       "...                                                    ...  \n",
       "1131752  This is a great recipe, I thought I had review...  \n",
       "1131780  Hubby and I thought this was good. Neither of ...  \n",
       "1131953  Great!!! After the turkey was done I browned t...  \n",
       "1132016  While the recipe calls for 3 cups of cheese, t...  \n",
       "1132031  We made our gluten-free with GF flour and it w...  \n",
       "\n",
       "[14693 rows x 5 columns]"
      ]
     },
     "execution_count": 12,
     "metadata": {},
     "output_type": "execute_result"
    }
   ],
   "source": [
    "#Looking at the 0 ratings to see if they are actually 0s or missing ratings\n",
    "user_reviews_df.loc[user_reviews_df[\"rating\"] == 0]"
   ]
  },
  {
   "cell_type": "markdown",
   "metadata": {},
   "source": [
    "It looks like the 0s are both a mix of positive and negative (or neutral reviews). While it is a small subset of our dataset it could be important to include these reviews considering the skew of our data. We could impute ratings based on the language used in the \"review\" column using KNN Imputer, but this could lead to data leakage concerns and long processing times. In this case we will just drop these data points."
   ]
  },
  {
   "cell_type": "code",
   "execution_count": 13,
   "metadata": {
    "scrolled": true
   },
   "outputs": [],
   "source": [
    "#Dropping rating that are 0 \n",
    "#df.drop(df.loc[df['line_race']==0].index, inplace=True)\n",
    "user_reviews_df.drop(user_reviews_df.loc[user_reviews_df[\"rating\"]==0].index, inplace=True)"
   ]
  },
  {
   "cell_type": "code",
   "execution_count": 14,
   "metadata": {},
   "outputs": [
    {
     "data": {
      "text/plain": [
       "5.0    460937\n",
       "4.0     95038\n",
       "3.0     19168\n",
       "2.0      5548\n",
       "1.0      2770\n",
       "Name: rating, dtype: int64"
      ]
     },
     "execution_count": 14,
     "metadata": {},
     "output_type": "execute_result"
    }
   ],
   "source": [
    "#Check thaat the 0s are gone\n",
    "user_reviews_df[\"rating\"].value_counts()"
   ]
  },
  {
   "cell_type": "code",
   "execution_count": 15,
   "metadata": {},
   "outputs": [
    {
     "data": {
      "text/plain": [
       "27208     1009\n",
       "89204      979\n",
       "32204      826\n",
       "39087      825\n",
       "69173      740\n",
       "          ... \n",
       "10866        1\n",
       "9340         1\n",
       "131032       1\n",
       "27976        1\n",
       "262485       1\n",
       "Name: recipe_id, Length: 53127, dtype: int64"
      ]
     },
     "execution_count": 15,
     "metadata": {},
     "output_type": "execute_result"
    }
   ],
   "source": [
    "#Need to recheck that our recipes all have five ratings\n",
    "user_reviews_df[\"recipe_id\"].value_counts()"
   ]
  },
  {
   "cell_type": "code",
   "execution_count": 16,
   "metadata": {},
   "outputs": [
    {
     "data": {
      "text/plain": [
       "53127"
      ]
     },
     "execution_count": 16,
     "metadata": {},
     "output_type": "execute_result"
    }
   ],
   "source": [
    "# Number of recipes in our data frame\n",
    "len(user_reviews_df[\"recipe_id\"].value_counts())"
   ]
  },
  {
   "cell_type": "code",
   "execution_count": 17,
   "metadata": {},
   "outputs": [
    {
     "data": {
      "text/plain": [
       "40527"
      ]
     },
     "execution_count": 17,
     "metadata": {},
     "output_type": "execute_result"
    }
   ],
   "source": [
    "# Creating a list of recipe_review_counts for each recipe\n",
    "# Remove recipes with less than 5 review counts\n",
    "\n",
    "recipe_review_counts = user_reviews_df[\"recipe_id\"].value_counts()\n",
    "\n",
    "user_reviews_df = user_reviews_df[user_reviews_df[\"recipe_id\"].isin(recipe_review_counts[recipe_review_counts >= 5].index)]\n",
    "\n",
    "# Check that recipes with under 5 reviews were removed\n",
    "\n",
    "len(user_reviews_df[\"recipe_id\"].value_counts())\n"
   ]
  },
  {
   "cell_type": "code",
   "execution_count": 18,
   "metadata": {},
   "outputs": [
    {
     "data": {
      "text/plain": [
       "0.7628324580721667"
      ]
     },
     "execution_count": 18,
     "metadata": {},
     "output_type": "execute_result"
    }
   ],
   "source": [
    "# See what percentage of our recipes were dropped \n",
    "40527/53127"
   ]
  },
  {
   "cell_type": "code",
   "execution_count": 20,
   "metadata": {},
   "outputs": [
    {
     "data": {
      "text/plain": [
       "37449         2789\n",
       "383346        2396\n",
       "424680        2145\n",
       "128473        2024\n",
       "89831         1893\n",
       "              ... \n",
       "263381           1\n",
       "142053           1\n",
       "603432           1\n",
       "2001550810       1\n",
       "467510           1\n",
       "Name: user_id, Length: 18943, dtype: int64"
      ]
     },
     "execution_count": 20,
     "metadata": {},
     "output_type": "execute_result"
    }
   ],
   "source": [
    "# Checking the amount of reviews per user. \n",
    "# For recommendation modeling we need at least 5 reviews per reader. \n",
    "\n",
    "user_reviews_df[\"user_id\"].value_counts()"
   ]
  },
  {
   "cell_type": "code",
   "execution_count": 19,
   "metadata": {},
   "outputs": [
    {
     "data": {
      "text/plain": [
       "17096"
      ]
     },
     "execution_count": 19,
     "metadata": {},
     "output_type": "execute_result"
    }
   ],
   "source": [
    "# Create a list review counts for each user \n",
    "# Keep only those with more than 5 in the dataframe \n",
    "review_counts = user_reviews_df[\"user_id\"].value_counts()\n",
    "user_reviews_df = user_reviews_df[user_reviews_df[\"user_id\"].isin(review_counts[review_counts >= 5].index)]\n",
    "\n",
    "# Check that users with under 5 reviews were removed\n",
    "len(user_reviews_df[\"user_id\"].value_counts())"
   ]
  },
  {
   "cell_type": "code",
   "execution_count": 20,
   "metadata": {},
   "outputs": [
    {
     "data": {
      "text/plain": [
       "0.9024969645779444"
      ]
     },
     "execution_count": 20,
     "metadata": {},
     "output_type": "execute_result"
    }
   ],
   "source": [
    "#See what percentage of our users are left in our data set\n",
    "17096/18943"
   ]
  },
  {
   "cell_type": "markdown",
   "metadata": {},
   "source": [
    "We lost a fair bit more of our data - about 25% of our recipes - and 10% of our users, but now we make sure we have users with at least five reviews. And the user data is now ready for Surprise. "
   ]
  },
  {
   "cell_type": "code",
   "execution_count": 21,
   "metadata": {},
   "outputs": [],
   "source": [
    "#Save off as a csv file\n",
    "#user_reviews_df.to_csv(\"./Data/user_reviews_no_zero.csv\")"
   ]
  },
  {
   "cell_type": "markdown",
   "metadata": {},
   "source": [
    "## Final User Data Set Exploration"
   ]
  },
  {
   "cell_type": "code",
   "execution_count": 22,
   "metadata": {},
   "outputs": [
    {
     "data": {
      "text/plain": [
       "37449     2789\n",
       "383346    2396\n",
       "424680    2145\n",
       "128473    2024\n",
       "89831     1893\n",
       "          ... \n",
       "903317       5\n",
       "739440       5\n",
       "47847        5\n",
       "327711       5\n",
       "209382       5\n",
       "Name: user_id, Length: 17096, dtype: int64"
      ]
     },
     "execution_count": 22,
     "metadata": {},
     "output_type": "execute_result"
    }
   ],
   "source": [
    "user_reviews_df[\"user_id\"].value_counts()"
   ]
  },
  {
   "cell_type": "code",
   "execution_count": 23,
   "metadata": {},
   "outputs": [
    {
     "data": {
      "text/plain": [
       "27208     990\n",
       "89204     959\n",
       "32204     806\n",
       "39087     806\n",
       "69173     728\n",
       "         ... \n",
       "392260      3\n",
       "55716       3\n",
       "86185       3\n",
       "342659      3\n",
       "102596      3\n",
       "Name: recipe_id, Length: 40526, dtype: int64"
      ]
     },
     "execution_count": 23,
     "metadata": {},
     "output_type": "execute_result"
    }
   ],
   "source": [
    "user_reviews_df[\"recipe_id\"].value_counts()"
   ]
  },
  {
   "cell_type": "markdown",
   "metadata": {},
   "source": [
    "Our final user data set with recipe reviews has 537,267 reviews on 40,526 recipes from 17,096 reviewers/users.  "
   ]
  },
  {
   "cell_type": "code",
   "execution_count": 8,
   "metadata": {},
   "outputs": [
    {
     "data": {
      "text/plain": [
       "5.0    426151\n",
       "4.0     86486\n",
       "3.0     17360\n",
       "2.0      4952\n",
       "1.0      2318\n",
       "Name: rating, dtype: int64"
      ]
     },
     "execution_count": 8,
     "metadata": {},
     "output_type": "execute_result"
    }
   ],
   "source": [
    "user_reviews_df[\"rating\"].value_counts()"
   ]
  },
  {
   "cell_type": "code",
   "execution_count": 10,
   "metadata": {},
   "outputs": [
    {
     "data": {
      "image/png": "[encoded data removed]",
      "text/plain": [
       "<Figure size 1152x576 with 1 Axes>"
      ]
     },
     "metadata": {
      "needs_background": "light"
     },
     "output_type": "display_data"
    }
   ],
   "source": [
    "data = 426151, 86486, 17360, 4952, 2318\n",
    "ratings = 5, 4, 3, 2, 1\n",
    "\n",
    "fig, ax = plt.subplots(figsize=(16, 8))\n",
    "plt.bar(ratings, data,  align='center', label=data, color=\"#1f77b4\")\n",
    "plt.ylabel(\"Count\", fontsize=16)\n",
    "plt.xlabel(\"Rating\", fontsize=16),\n",
    "plt.title(\"Distribution of Ratings\", fontsize=20);\n",
    "#plt.savefig(\"./Images/rating_dist\")"
   ]
  }
 ],
 "metadata": {
  "kernelspec": {
   "display_name": "Python (learn-env)",
   "language": "python",
   "name": "learn-env"
  },
  "language_info": {
   "codemirror_mode": {
    "name": "ipython",
    "version": 3
   },
   "file_extension": ".py",
   "mimetype": "text/x-python",
   "name": "python",
   "nbconvert_exporter": "python",
   "pygments_lexer": "ipython3",
   "version": "3.8.5"
  }
 },
 "nbformat": 4,
 "nbformat_minor": 4
}
