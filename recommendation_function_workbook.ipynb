{
 "cells": [
  {
   "cell_type": "code",
   "execution_count": 1,
   "metadata": {},
   "outputs": [],
   "source": [
    "import pandas as pd\n",
    "import pickle\n",
    "import matplotlib.pyplot as plt\n",
    "import seaborn as sns\n",
    "import numpy as np\n",
    "\n",
    "\n",
    "from surprise import Dataset, Reader, accuracy, NormalPredictor, KNNBasic, KNNWithMeans, KNNWithZScore, KNNBaseline, SVD, BaselineOnly, SVDpp, NMF, SlopeOne, CoClustering\n",
    "from surprise.accuracy import rmse\n",
    "from surprise.prediction_algorithms import SVD, SVDpp, NMF, BaselineOnly, NormalPredictor\n",
    "from IPython.core.display import HTML\n",
    "from surprise.model_selection.split import train_test_split as surprise_train_test_split\n",
    "from surprise.model_selection import GridSearchCV, cross_validate\n",
    "\n",
    "%matplotlib inline"
   ]
  },
  {
   "cell_type": "code",
   "execution_count": 69,
   "metadata": {},
   "outputs": [],
   "source": [
    "user_ratings_df = pd.read_csv(\"./Data/user_reviews_no_zero.csv\", index_col=[0])"
   ]
  },
  {
   "cell_type": "code",
   "execution_count": 70,
   "metadata": {},
   "outputs": [],
   "source": [
    "recipes_df = pd.read_csv(\"./Data/recipes_subcat_cleaned.csv\", index_col=[0])"
   ]
  },
  {
   "cell_type": "code",
   "execution_count": 4,
   "metadata": {
    "scrolled": false
   },
   "outputs": [
    {
     "data": {
      "text/html": [
       "<div>\n",
       "<style scoped>\n",
       "    .dataframe tbody tr th:only-of-type {\n",
       "        vertical-align: middle;\n",
       "    }\n",
       "\n",
       "    .dataframe tbody tr th {\n",
       "        vertical-align: top;\n",
       "    }\n",
       "\n",
       "    .dataframe thead th {\n",
       "        text-align: right;\n",
       "    }\n",
       "</style>\n",
       "<table border=\"1\" class=\"dataframe\">\n",
       "  <thead>\n",
       "    <tr style=\"text-align: right;\">\n",
       "      <th></th>\n",
       "      <th>name</th>\n",
       "      <th>recipe_id</th>\n",
       "      <th>minutes</th>\n",
       "      <th>description</th>\n",
       "      <th>ingredients</th>\n",
       "      <th>calories</th>\n",
       "      <th>total_fat_pdv</th>\n",
       "      <th>sugar_pdv</th>\n",
       "      <th>sodium_pdv</th>\n",
       "      <th>protein_pdv</th>\n",
       "      <th>saturated_fat_pdv</th>\n",
       "      <th>carbs_pdv</th>\n",
       "      <th>recipe_type</th>\n",
       "    </tr>\n",
       "  </thead>\n",
       "  <tbody>\n",
       "    <tr>\n",
       "      <th>0</th>\n",
       "      <td>arriba   baked winter squash mexican style</td>\n",
       "      <td>137739</td>\n",
       "      <td>55</td>\n",
       "      <td>autumn is my favorite time of year to cook! th...</td>\n",
       "      <td>['winter squash', 'mexican seasoning', 'mixed ...</td>\n",
       "      <td>51.5</td>\n",
       "      <td>0.0</td>\n",
       "      <td>13.0</td>\n",
       "      <td>0.0</td>\n",
       "      <td>2.0</td>\n",
       "      <td>0.0</td>\n",
       "      <td>4.0</td>\n",
       "      <td>['vegetarian', 'low cal', 'low carb']</td>\n",
       "    </tr>\n",
       "    <tr>\n",
       "      <th>1</th>\n",
       "      <td>a bit different  breakfast pizza</td>\n",
       "      <td>31490</td>\n",
       "      <td>30</td>\n",
       "      <td>this recipe calls for the crust to be prebaked...</td>\n",
       "      <td>['prepared pizza crust', 'sausage patty', 'egg...</td>\n",
       "      <td>173.4</td>\n",
       "      <td>18.0</td>\n",
       "      <td>0.0</td>\n",
       "      <td>17.0</td>\n",
       "      <td>22.0</td>\n",
       "      <td>35.0</td>\n",
       "      <td>1.0</td>\n",
       "      <td>['low cal', 'low carb', 'sugar free', 'not veg...</td>\n",
       "    </tr>\n",
       "    <tr>\n",
       "      <th>2</th>\n",
       "      <td>all in the kitchen  chili</td>\n",
       "      <td>112140</td>\n",
       "      <td>130</td>\n",
       "      <td>this modified version of 'mom's' chili was a h...</td>\n",
       "      <td>['ground beef', 'yellow onions', 'diced tomato...</td>\n",
       "      <td>269.8</td>\n",
       "      <td>22.0</td>\n",
       "      <td>32.0</td>\n",
       "      <td>48.0</td>\n",
       "      <td>39.0</td>\n",
       "      <td>27.0</td>\n",
       "      <td>5.0</td>\n",
       "      <td>['low cal', 'low carb', 'not vegetarian']</td>\n",
       "    </tr>\n",
       "    <tr>\n",
       "      <th>3</th>\n",
       "      <td>alouette  potatoes</td>\n",
       "      <td>59389</td>\n",
       "      <td>45</td>\n",
       "      <td>this is a super easy, great tasting, make ahea...</td>\n",
       "      <td>['spreadable cheese with garlic and herbs', 'n...</td>\n",
       "      <td>368.1</td>\n",
       "      <td>17.0</td>\n",
       "      <td>10.0</td>\n",
       "      <td>2.0</td>\n",
       "      <td>14.0</td>\n",
       "      <td>8.0</td>\n",
       "      <td>20.0</td>\n",
       "      <td>['vegetarian', 'low cal']</td>\n",
       "    </tr>\n",
       "    <tr>\n",
       "      <th>4</th>\n",
       "      <td>amish  tomato ketchup  for canning</td>\n",
       "      <td>44061</td>\n",
       "      <td>190</td>\n",
       "      <td>my dh's amish mother raised him on this recipe...</td>\n",
       "      <td>['tomato juice', 'apple cider vinegar', 'sugar...</td>\n",
       "      <td>352.9</td>\n",
       "      <td>1.0</td>\n",
       "      <td>337.0</td>\n",
       "      <td>23.0</td>\n",
       "      <td>3.0</td>\n",
       "      <td>0.0</td>\n",
       "      <td>28.0</td>\n",
       "      <td>['vegetarian', 'low cal']</td>\n",
       "    </tr>\n",
       "  </tbody>\n",
       "</table>\n",
       "</div>"
      ],
      "text/plain": [
       "                                         name  recipe_id  minutes  \\\n",
       "0  arriba   baked winter squash mexican style     137739       55   \n",
       "1            a bit different  breakfast pizza      31490       30   \n",
       "2                   all in the kitchen  chili     112140      130   \n",
       "3                          alouette  potatoes      59389       45   \n",
       "4          amish  tomato ketchup  for canning      44061      190   \n",
       "\n",
       "                                         description  \\\n",
       "0  autumn is my favorite time of year to cook! th...   \n",
       "1  this recipe calls for the crust to be prebaked...   \n",
       "2  this modified version of 'mom's' chili was a h...   \n",
       "3  this is a super easy, great tasting, make ahea...   \n",
       "4  my dh's amish mother raised him on this recipe...   \n",
       "\n",
       "                                         ingredients  calories  total_fat_pdv  \\\n",
       "0  ['winter squash', 'mexican seasoning', 'mixed ...      51.5            0.0   \n",
       "1  ['prepared pizza crust', 'sausage patty', 'egg...     173.4           18.0   \n",
       "2  ['ground beef', 'yellow onions', 'diced tomato...     269.8           22.0   \n",
       "3  ['spreadable cheese with garlic and herbs', 'n...     368.1           17.0   \n",
       "4  ['tomato juice', 'apple cider vinegar', 'sugar...     352.9            1.0   \n",
       "\n",
       "   sugar_pdv  sodium_pdv  protein_pdv  saturated_fat_pdv  carbs_pdv  \\\n",
       "0       13.0         0.0          2.0                0.0        4.0   \n",
       "1        0.0        17.0         22.0               35.0        1.0   \n",
       "2       32.0        48.0         39.0               27.0        5.0   \n",
       "3       10.0         2.0         14.0                8.0       20.0   \n",
       "4      337.0        23.0          3.0                0.0       28.0   \n",
       "\n",
       "                                         recipe_type  \n",
       "0              ['vegetarian', 'low cal', 'low carb']  \n",
       "1  ['low cal', 'low carb', 'sugar free', 'not veg...  \n",
       "2          ['low cal', 'low carb', 'not vegetarian']  \n",
       "3                          ['vegetarian', 'low cal']  \n",
       "4                          ['vegetarian', 'low cal']  "
      ]
     },
     "execution_count": 4,
     "metadata": {},
     "output_type": "execute_result"
    }
   ],
   "source": [
    "recipes_df.head()"
   ]
  },
  {
   "cell_type": "raw",
   "metadata": {},
   "source": [
    "def get_listformat(column):\n",
    "\n",
    "    recipes_df[column].strip(\"[\")\n",
    "    recipes_df[column].strip(\"]\")\n",
    "    recipes_df[column].str.split(\", \")\n",
    "    \n",
    "    return recipes_df[column]"
   ]
  },
  {
   "cell_type": "code",
   "execution_count": 71,
   "metadata": {
    "scrolled": false
   },
   "outputs": [],
   "source": [
    "#Clean the ingredients column so each row is a list of strings\n",
    "recipes_df[\"ingredients\"] = recipes_df[\"ingredients\"].str.replace(\"'\", \"\")\n",
    "recipes_df[\"ingredients\"] = recipes_df[\"ingredients\"].str.strip(\"[\")\n",
    "recipes_df[\"ingredients\"] = recipes_df[\"ingredients\"].str.strip(\"]\")\n",
    "recipes_df[\"ingredients\"] = recipes_df[\"ingredients\"].str.split(\", \")"
   ]
  },
  {
   "cell_type": "code",
   "execution_count": 72,
   "metadata": {
    "scrolled": true
   },
   "outputs": [],
   "source": [
    "#Clean the recipe_type column so each row is a list of strings\n",
    "recipes_df[\"recipe_type\"] = recipes_df[\"recipe_type\"].str.replace(\"'\", \"\")\n",
    "recipes_df[\"recipe_type\"] = recipes_df[\"recipe_type\"].str.strip(\"[\")\n",
    "recipes_df[\"recipe_type\"] = recipes_df[\"recipe_type\"].str.strip(\"]\")\n",
    "recipes_df[\"recipe_type\"] = recipes_df[\"recipe_type\"].str.split(\", \")"
   ]
  },
  {
   "cell_type": "markdown",
   "metadata": {},
   "source": [
    "## Setting up Surprise"
   ]
  },
  {
   "cell_type": "code",
   "execution_count": 161,
   "metadata": {},
   "outputs": [],
   "source": [
    "user_ratings_df[[\"user_id\", \"recipe_id\"]] = user_ratings_df[[\"user_id\", \"recipe_id\"]].astype(int)"
   ]
  },
  {
   "cell_type": "code",
   "execution_count": 162,
   "metadata": {},
   "outputs": [],
   "source": [
    "rating_surprise_df = user_ratings_df[[\"user_id\", \"recipe_id\", \"rating\"]]"
   ]
  },
  {
   "cell_type": "code",
   "execution_count": 163,
   "metadata": {},
   "outputs": [],
   "source": [
    "reader = Reader(rating_scale=(1, 5))\n",
    "surprise_data = Dataset.load_from_df(rating_surprise_df, reader)"
   ]
  },
  {
   "cell_type": "code",
   "execution_count": 164,
   "metadata": {},
   "outputs": [],
   "source": [
    "trainset_full = surprise_data.build_full_trainset()"
   ]
  },
  {
   "cell_type": "code",
   "execution_count": 165,
   "metadata": {},
   "outputs": [
    {
     "data": {
      "text/plain": [
       "<surprise.prediction_algorithms.matrix_factorization.SVD at 0x7f866275d5e0>"
      ]
     },
     "execution_count": 165,
     "metadata": {},
     "output_type": "execute_result"
    }
   ],
   "source": [
    "best_model = SVD(n_factors = 3,  n_epochs= 35, lr_all = .0025)\n",
    "best_model.fit(trainset_full)"
   ]
  },
  {
   "cell_type": "code",
   "execution_count": 157,
   "metadata": {},
   "outputs": [
    {
     "data": {
      "text/plain": [
       "user_id      0\n",
       "recipe_id    0\n",
       "rating       0\n",
       "dtype: int64"
      ]
     },
     "execution_count": 157,
     "metadata": {},
     "output_type": "execute_result"
    }
   ],
   "source": [
    "rating_surprise_df.isnull().sum()"
   ]
  },
  {
   "cell_type": "code",
   "execution_count": 166,
   "metadata": {
    "scrolled": true
   },
   "outputs": [
    {
     "data": {
      "text/plain": [
       "Prediction(uid=152118, iid=127155, r_ui=None, est=4.876801746492294, details={'was_impossible': False})"
      ]
     },
     "execution_count": 166,
     "metadata": {},
     "output_type": "execute_result"
    }
   ],
   "source": [
    "best_model.predict(152118, 127155)"
   ]
  },
  {
   "cell_type": "code",
   "execution_count": 167,
   "metadata": {},
   "outputs": [
    {
     "data": {
      "text/plain": [
       "Prediction(uid=152118, iid=79222, r_ui=None, est=4.794776004996293, details={'was_impossible': False})"
      ]
     },
     "execution_count": 167,
     "metadata": {},
     "output_type": "execute_result"
    }
   ],
   "source": [
    "best_model.predict(152118, 79222)"
   ]
  },
  {
   "cell_type": "code",
   "execution_count": 168,
   "metadata": {},
   "outputs": [
    {
     "name": "stdout",
     "output_type": "stream",
     "text": [
      "<class 'pandas.core.frame.DataFrame'>\n",
      "Int64Index: 537267 entries, 56680 to 1122988\n",
      "Data columns (total 1 columns):\n",
      " #   Column     Non-Null Count   Dtype\n",
      "---  ------     --------------   -----\n",
      " 0   recipe_id  537267 non-null  int64\n",
      "dtypes: int64(1)\n",
      "memory usage: 8.2 MB\n"
     ]
    }
   ],
   "source": [
    "## Subset data frame to show reviewers the products they have rated \n",
    "\n",
    "prior_ratings_df = pd.DataFrame(user_ratings_df.set_index(\"user_id\"))\n",
    "prior_ratings_df.drop(columns=[\"date\", \"rating\", \"review\"], inplace=True)\n",
    "prior_ratings_df.info()\n"
   ]
  },
  {
   "cell_type": "code",
   "execution_count": 61,
   "metadata": {},
   "outputs": [
    {
     "data": {
      "text/html": [
       "<div>\n",
       "<style scoped>\n",
       "    .dataframe tbody tr th:only-of-type {\n",
       "        vertical-align: middle;\n",
       "    }\n",
       "\n",
       "    .dataframe tbody tr th {\n",
       "        vertical-align: top;\n",
       "    }\n",
       "\n",
       "    .dataframe thead th {\n",
       "        text-align: right;\n",
       "    }\n",
       "</style>\n",
       "<table border=\"1\" class=\"dataframe\">\n",
       "  <thead>\n",
       "    <tr style=\"text-align: right;\">\n",
       "      <th></th>\n",
       "      <th>user_id</th>\n",
       "      <th>recipe_id</th>\n",
       "      <th>date</th>\n",
       "      <th>rating</th>\n",
       "      <th>review</th>\n",
       "    </tr>\n",
       "  </thead>\n",
       "  <tbody>\n",
       "    <tr>\n",
       "      <th>10</th>\n",
       "      <td>56680</td>\n",
       "      <td>79222</td>\n",
       "      <td>2006-11-11</td>\n",
       "      <td>5.0</td>\n",
       "      <td>Oh, This was wonderful!  Had a soup and salad ...</td>\n",
       "    </tr>\n",
       "    <tr>\n",
       "      <th>11</th>\n",
       "      <td>183565</td>\n",
       "      <td>79222</td>\n",
       "      <td>2006-02-13</td>\n",
       "      <td>5.0</td>\n",
       "      <td>Wow!  My family loves this recipe and it is a ...</td>\n",
       "    </tr>\n",
       "    <tr>\n",
       "      <th>12</th>\n",
       "      <td>101823</td>\n",
       "      <td>79222</td>\n",
       "      <td>2006-03-21</td>\n",
       "      <td>5.0</td>\n",
       "      <td>Excellent chowder.  This was the perfect warm-...</td>\n",
       "    </tr>\n",
       "    <tr>\n",
       "      <th>13</th>\n",
       "      <td>446143</td>\n",
       "      <td>79222</td>\n",
       "      <td>2008-02-01</td>\n",
       "      <td>4.0</td>\n",
       "      <td>Oh, how wonderful!  I doubled the crab, and ad...</td>\n",
       "    </tr>\n",
       "    <tr>\n",
       "      <th>14</th>\n",
       "      <td>226989</td>\n",
       "      <td>79222</td>\n",
       "      <td>2008-03-07</td>\n",
       "      <td>4.0</td>\n",
       "      <td>DH and I enjoyed this. However I used it only ...</td>\n",
       "    </tr>\n",
       "    <tr>\n",
       "      <th>15</th>\n",
       "      <td>868654</td>\n",
       "      <td>79222</td>\n",
       "      <td>2008-10-07</td>\n",
       "      <td>5.0</td>\n",
       "      <td>Along with the onions we added in a square of ...</td>\n",
       "    </tr>\n",
       "    <tr>\n",
       "      <th>16</th>\n",
       "      <td>302867</td>\n",
       "      <td>79222</td>\n",
       "      <td>2010-01-05</td>\n",
       "      <td>5.0</td>\n",
       "      <td>Delish!  Part of my New Years resolution....  ...</td>\n",
       "    </tr>\n",
       "    <tr>\n",
       "      <th>17</th>\n",
       "      <td>930021</td>\n",
       "      <td>79222</td>\n",
       "      <td>2010-06-25</td>\n",
       "      <td>5.0</td>\n",
       "      <td>My favorite chowder ever. I may try it with ot...</td>\n",
       "    </tr>\n",
       "    <tr>\n",
       "      <th>18</th>\n",
       "      <td>241697</td>\n",
       "      <td>79222</td>\n",
       "      <td>2010-07-10</td>\n",
       "      <td>5.0</td>\n",
       "      <td>Really great recipe!! Although I did not have ...</td>\n",
       "    </tr>\n",
       "    <tr>\n",
       "      <th>20</th>\n",
       "      <td>158966</td>\n",
       "      <td>79222</td>\n",
       "      <td>2010-10-20</td>\n",
       "      <td>5.0</td>\n",
       "      <td>10/18/10 Update. I have to rave again about th...</td>\n",
       "    </tr>\n",
       "    <tr>\n",
       "      <th>21</th>\n",
       "      <td>827374</td>\n",
       "      <td>79222</td>\n",
       "      <td>2010-11-29</td>\n",
       "      <td>3.0</td>\n",
       "      <td>We made this last night and really enjoyed it....</td>\n",
       "    </tr>\n",
       "    <tr>\n",
       "      <th>22</th>\n",
       "      <td>152118</td>\n",
       "      <td>79222</td>\n",
       "      <td>2011-01-02</td>\n",
       "      <td>5.0</td>\n",
       "      <td>I enjoyed this recipe.  The only change I made...</td>\n",
       "    </tr>\n",
       "    <tr>\n",
       "      <th>23</th>\n",
       "      <td>226081</td>\n",
       "      <td>127155</td>\n",
       "      <td>2005-06-29</td>\n",
       "      <td>5.0</td>\n",
       "      <td>this is my recipe from my website, www.finedin...</td>\n",
       "    </tr>\n",
       "    <tr>\n",
       "      <th>24</th>\n",
       "      <td>185285</td>\n",
       "      <td>127155</td>\n",
       "      <td>2005-08-11</td>\n",
       "      <td>5.0</td>\n",
       "      <td>This recipe contained ingredients I knew I lik...</td>\n",
       "    </tr>\n",
       "    <tr>\n",
       "      <th>25</th>\n",
       "      <td>180087</td>\n",
       "      <td>127155</td>\n",
       "      <td>2006-01-31</td>\n",
       "      <td>5.0</td>\n",
       "      <td>Great recipe.  We did use canned  crab, it was...</td>\n",
       "    </tr>\n",
       "    <tr>\n",
       "      <th>26</th>\n",
       "      <td>240552</td>\n",
       "      <td>127155</td>\n",
       "      <td>2008-03-03</td>\n",
       "      <td>5.0</td>\n",
       "      <td>What a wonderful delicious lunch! I made the f...</td>\n",
       "    </tr>\n",
       "    <tr>\n",
       "      <th>27</th>\n",
       "      <td>446143</td>\n",
       "      <td>127155</td>\n",
       "      <td>2008-06-24</td>\n",
       "      <td>5.0</td>\n",
       "      <td>DH liked these a lot  Also used the filling in...</td>\n",
       "    </tr>\n",
       "    <tr>\n",
       "      <th>28</th>\n",
       "      <td>9580</td>\n",
       "      <td>208980</td>\n",
       "      <td>2007-02-05</td>\n",
       "      <td>5.0</td>\n",
       "      <td>I saw this on 30 Minute Meals too!\\r\\nThis san...</td>\n",
       "    </tr>\n",
       "    <tr>\n",
       "      <th>29</th>\n",
       "      <td>462571</td>\n",
       "      <td>208980</td>\n",
       "      <td>2007-07-05</td>\n",
       "      <td>5.0</td>\n",
       "      <td>These were a snap to whip up and were fantasti...</td>\n",
       "    </tr>\n",
       "    <tr>\n",
       "      <th>30</th>\n",
       "      <td>376098</td>\n",
       "      <td>208980</td>\n",
       "      <td>2007-08-01</td>\n",
       "      <td>5.0</td>\n",
       "      <td>This was great! My husband said it tasted just...</td>\n",
       "    </tr>\n",
       "  </tbody>\n",
       "</table>\n",
       "</div>"
      ],
      "text/plain": [
       "   user_id recipe_id        date  rating  \\\n",
       "10   56680     79222  2006-11-11     5.0   \n",
       "11  183565     79222  2006-02-13     5.0   \n",
       "12  101823     79222  2006-03-21     5.0   \n",
       "13  446143     79222  2008-02-01     4.0   \n",
       "14  226989     79222  2008-03-07     4.0   \n",
       "15  868654     79222  2008-10-07     5.0   \n",
       "16  302867     79222  2010-01-05     5.0   \n",
       "17  930021     79222  2010-06-25     5.0   \n",
       "18  241697     79222  2010-07-10     5.0   \n",
       "20  158966     79222  2010-10-20     5.0   \n",
       "21  827374     79222  2010-11-29     3.0   \n",
       "22  152118     79222  2011-01-02     5.0   \n",
       "23  226081    127155  2005-06-29     5.0   \n",
       "24  185285    127155  2005-08-11     5.0   \n",
       "25  180087    127155  2006-01-31     5.0   \n",
       "26  240552    127155  2008-03-03     5.0   \n",
       "27  446143    127155  2008-06-24     5.0   \n",
       "28    9580    208980  2007-02-05     5.0   \n",
       "29  462571    208980  2007-07-05     5.0   \n",
       "30  376098    208980  2007-08-01     5.0   \n",
       "\n",
       "                                               review  \n",
       "10  Oh, This was wonderful!  Had a soup and salad ...  \n",
       "11  Wow!  My family loves this recipe and it is a ...  \n",
       "12  Excellent chowder.  This was the perfect warm-...  \n",
       "13  Oh, how wonderful!  I doubled the crab, and ad...  \n",
       "14  DH and I enjoyed this. However I used it only ...  \n",
       "15  Along with the onions we added in a square of ...  \n",
       "16  Delish!  Part of my New Years resolution....  ...  \n",
       "17  My favorite chowder ever. I may try it with ot...  \n",
       "18  Really great recipe!! Although I did not have ...  \n",
       "20  10/18/10 Update. I have to rave again about th...  \n",
       "21  We made this last night and really enjoyed it....  \n",
       "22  I enjoyed this recipe.  The only change I made...  \n",
       "23  this is my recipe from my website, www.finedin...  \n",
       "24  This recipe contained ingredients I knew I lik...  \n",
       "25  Great recipe.  We did use canned  crab, it was...  \n",
       "26  What a wonderful delicious lunch! I made the f...  \n",
       "27  DH liked these a lot  Also used the filling in...  \n",
       "28  I saw this on 30 Minute Meals too!\\r\\nThis san...  \n",
       "29  These were a snap to whip up and were fantasti...  \n",
       "30  This was great! My husband said it tasted just...  "
      ]
     },
     "execution_count": 61,
     "metadata": {},
     "output_type": "execute_result"
    }
   ],
   "source": [
    "user_ratings_df.head(20)"
   ]
  },
  {
   "cell_type": "markdown",
   "metadata": {},
   "source": [
    "## Creating Recommender Function "
   ]
  },
  {
   "cell_type": "code",
   "execution_count": 56,
   "metadata": {
    "scrolled": false
   },
   "outputs": [
    {
     "data": {
      "text/html": [
       "<div>\n",
       "<style scoped>\n",
       "    .dataframe tbody tr th:only-of-type {\n",
       "        vertical-align: middle;\n",
       "    }\n",
       "\n",
       "    .dataframe tbody tr th {\n",
       "        vertical-align: top;\n",
       "    }\n",
       "\n",
       "    .dataframe thead th {\n",
       "        text-align: right;\n",
       "    }\n",
       "</style>\n",
       "<table border=\"1\" class=\"dataframe\">\n",
       "  <thead>\n",
       "    <tr style=\"text-align: right;\">\n",
       "      <th></th>\n",
       "      <th>name</th>\n",
       "      <th>recipe_id</th>\n",
       "      <th>minutes</th>\n",
       "      <th>description</th>\n",
       "      <th>ingredients</th>\n",
       "      <th>calories</th>\n",
       "      <th>total_fat_pdv</th>\n",
       "      <th>sugar_pdv</th>\n",
       "      <th>sodium_pdv</th>\n",
       "      <th>protein_pdv</th>\n",
       "      <th>saturated_fat_pdv</th>\n",
       "      <th>carbs_pdv</th>\n",
       "      <th>recipe_type</th>\n",
       "    </tr>\n",
       "  </thead>\n",
       "  <tbody>\n",
       "    <tr>\n",
       "      <th>0</th>\n",
       "      <td>arriba   baked winter squash mexican style</td>\n",
       "      <td>137739</td>\n",
       "      <td>55</td>\n",
       "      <td>autumn is my favorite time of year to cook! th...</td>\n",
       "      <td>[winter squash, mexican seasoning, mixed spice...</td>\n",
       "      <td>51.5</td>\n",
       "      <td>0.0</td>\n",
       "      <td>13.0</td>\n",
       "      <td>0.0</td>\n",
       "      <td>2.0</td>\n",
       "      <td>0.0</td>\n",
       "      <td>4.0</td>\n",
       "      <td>[vegetarian, low cal, low carb]</td>\n",
       "    </tr>\n",
       "  </tbody>\n",
       "</table>\n",
       "</div>"
      ],
      "text/plain": [
       "                                         name  recipe_id  minutes  \\\n",
       "0  arriba   baked winter squash mexican style     137739       55   \n",
       "\n",
       "                                         description  \\\n",
       "0  autumn is my favorite time of year to cook! th...   \n",
       "\n",
       "                                         ingredients  calories  total_fat_pdv  \\\n",
       "0  [winter squash, mexican seasoning, mixed spice...      51.5            0.0   \n",
       "\n",
       "   sugar_pdv  sodium_pdv  protein_pdv  saturated_fat_pdv  carbs_pdv  \\\n",
       "0       13.0         0.0          2.0                0.0        4.0   \n",
       "\n",
       "                       recipe_type  \n",
       "0  [vegetarian, low cal, low carb]  "
      ]
     },
     "execution_count": 56,
     "metadata": {},
     "output_type": "execute_result"
    }
   ],
   "source": [
    "recipes_df.head(1)"
   ]
  },
  {
   "cell_type": "code",
   "execution_count": 87,
   "metadata": {},
   "outputs": [
    {
     "ename": "NameError",
     "evalue": "name 'reviewed' is not defined",
     "output_type": "error",
     "traceback": [
      "\u001b[0;31m---------------------------------------------------------------------------\u001b[0m",
      "\u001b[0;31mNameError\u001b[0m                                 Traceback (most recent call last)",
      "\u001b[0;32m<ipython-input-87-bd6baabead89>\u001b[0m in \u001b[0;36m<module>\u001b[0;34m\u001b[0m\n\u001b[1;32m      1\u001b[0m \u001b[0mnot_reviewed\u001b[0m \u001b[0;34m=\u001b[0m \u001b[0mrecipes_df\u001b[0m\u001b[0;34m.\u001b[0m\u001b[0mcopy\u001b[0m\u001b[0;34m(\u001b[0m\u001b[0;34m)\u001b[0m\u001b[0;34m\u001b[0m\u001b[0;34m\u001b[0m\u001b[0m\n\u001b[0;32m----> 2\u001b[0;31m \u001b[0mnot_reviewed\u001b[0m \u001b[0;34m=\u001b[0m \u001b[0mnot_reviewed\u001b[0m\u001b[0;34m[\u001b[0m\u001b[0mnot_reviewed\u001b[0m\u001b[0;34m.\u001b[0m\u001b[0mrecipe_id\u001b[0m\u001b[0;34m.\u001b[0m\u001b[0misin\u001b[0m\u001b[0;34m(\u001b[0m\u001b[0mreviewed\u001b[0m\u001b[0;34m)\u001b[0m \u001b[0;34m==\u001b[0m \u001b[0;32mFalse\u001b[0m\u001b[0;34m]\u001b[0m\u001b[0;34m\u001b[0m\u001b[0;34m\u001b[0m\u001b[0m\n\u001b[0m\u001b[1;32m      3\u001b[0m \u001b[0mnot_reviewed\u001b[0m\u001b[0;34m.\u001b[0m\u001b[0mreset_index\u001b[0m\u001b[0;34m(\u001b[0m\u001b[0minplace\u001b[0m\u001b[0;34m=\u001b[0m\u001b[0;32mTrue\u001b[0m\u001b[0;34m)\u001b[0m\u001b[0;34m\u001b[0m\u001b[0;34m\u001b[0m\u001b[0m\n",
      "\u001b[0;31mNameError\u001b[0m: name 'reviewed' is not defined"
     ]
    }
   ],
   "source": [
    "not_reviewed = recipes_df.copy()\n",
    "not_reviewed = not_reviewed[not_reviewed.recipe_id.isin(reviewed) == False]\n",
    "not_reviewed.reset_index(inplace=True)"
   ]
  },
  {
   "cell_type": "code",
   "execution_count": 101,
   "metadata": {},
   "outputs": [],
   "source": [
    "recipes_df[\"set_ingredients\"] = recipes_df[\"ingredients\"].apply(lambda x: set(x))\n"
   ]
  },
  {
   "cell_type": "code",
   "execution_count": 102,
   "metadata": {},
   "outputs": [
    {
     "data": {
      "text/plain": [
       "set"
      ]
     },
     "execution_count": 102,
     "metadata": {},
     "output_type": "execute_result"
    }
   ],
   "source": [
    "type(recipes_df[\"set_ingredients\"][0])"
   ]
  },
  {
   "cell_type": "code",
   "execution_count": 103,
   "metadata": {},
   "outputs": [],
   "source": [
    "not_reviewed = recipes_df.copy()"
   ]
  },
  {
   "cell_type": "code",
   "execution_count": 104,
   "metadata": {},
   "outputs": [],
   "source": [
    "not_reviewed = not_reviewed[not_reviewed.recipe_id.isin(reviewed) == False]\n",
    "not_reviewed.reset_index(inplace=True)\n",
    "    "
   ]
  },
  {
   "cell_type": "code",
   "execution_count": 140,
   "metadata": {},
   "outputs": [],
   "source": [
    "user = 183565\n",
    "ingredient_request = \"onions\"\n",
    "sub_cat_request = \"vegetarian\""
   ]
  },
  {
   "cell_type": "code",
   "execution_count": 138,
   "metadata": {},
   "outputs": [
    {
     "ename": "KeyError",
     "evalue": "183565",
     "output_type": "error",
     "traceback": [
      "\u001b[0;31m---------------------------------------------------------------------------\u001b[0m",
      "\u001b[0;31mKeyError\u001b[0m                                  Traceback (most recent call last)",
      "\u001b[0;32m~/opt/anaconda3/envs/learn-env/lib/python3.8/site-packages/pandas/core/indexes/base.py\u001b[0m in \u001b[0;36mget_loc\u001b[0;34m(self, key, method, tolerance)\u001b[0m\n\u001b[1;32m   2894\u001b[0m             \u001b[0;32mtry\u001b[0m\u001b[0;34m:\u001b[0m\u001b[0;34m\u001b[0m\u001b[0;34m\u001b[0m\u001b[0m\n\u001b[0;32m-> 2895\u001b[0;31m                 \u001b[0;32mreturn\u001b[0m \u001b[0mself\u001b[0m\u001b[0;34m.\u001b[0m\u001b[0m_engine\u001b[0m\u001b[0;34m.\u001b[0m\u001b[0mget_loc\u001b[0m\u001b[0;34m(\u001b[0m\u001b[0mcasted_key\u001b[0m\u001b[0;34m)\u001b[0m\u001b[0;34m\u001b[0m\u001b[0;34m\u001b[0m\u001b[0m\n\u001b[0m\u001b[1;32m   2896\u001b[0m             \u001b[0;32mexcept\u001b[0m \u001b[0mKeyError\u001b[0m \u001b[0;32mas\u001b[0m \u001b[0merr\u001b[0m\u001b[0;34m:\u001b[0m\u001b[0;34m\u001b[0m\u001b[0;34m\u001b[0m\u001b[0m\n",
      "\u001b[0;32mpandas/_libs/index.pyx\u001b[0m in \u001b[0;36mpandas._libs.index.IndexEngine.get_loc\u001b[0;34m()\u001b[0m\n",
      "\u001b[0;32mpandas/_libs/index.pyx\u001b[0m in \u001b[0;36mpandas._libs.index.IndexEngine.get_loc\u001b[0;34m()\u001b[0m\n",
      "\u001b[0;32mpandas/_libs/index.pyx\u001b[0m in \u001b[0;36mpandas._libs.index.IndexEngine._get_loc_duplicates\u001b[0;34m()\u001b[0m\n",
      "\u001b[0;32mpandas/_libs/index.pyx\u001b[0m in \u001b[0;36mpandas._libs.index.IndexEngine._maybe_get_bool_indexer\u001b[0;34m()\u001b[0m\n",
      "\u001b[0;32mpandas/_libs/index.pyx\u001b[0m in \u001b[0;36mpandas._libs.index.IndexEngine._unpack_bool_indexer\u001b[0;34m()\u001b[0m\n",
      "\u001b[0;31mKeyError\u001b[0m: 183565",
      "\nThe above exception was the direct cause of the following exception:\n",
      "\u001b[0;31mKeyError\u001b[0m                                  Traceback (most recent call last)",
      "\u001b[0;32m<ipython-input-138-0b2bcf945a32>\u001b[0m in \u001b[0;36m<module>\u001b[0;34m\u001b[0m\n\u001b[0;32m----> 1\u001b[0;31m \u001b[0mreviewed\u001b[0m \u001b[0;34m=\u001b[0m \u001b[0mlist\u001b[0m\u001b[0;34m(\u001b[0m\u001b[0mprior_ratings_df\u001b[0m\u001b[0;34m.\u001b[0m\u001b[0mloc\u001b[0m\u001b[0;34m[\u001b[0m\u001b[0muser\u001b[0m\u001b[0;34m,\u001b[0m\u001b[0;34m\"recipe_id\"\u001b[0m\u001b[0;34m]\u001b[0m\u001b[0;34m)\u001b[0m\u001b[0;34m\u001b[0m\u001b[0;34m\u001b[0m\u001b[0m\n\u001b[0m",
      "\u001b[0;32m~/opt/anaconda3/envs/learn-env/lib/python3.8/site-packages/pandas/core/indexing.py\u001b[0m in \u001b[0;36m__getitem__\u001b[0;34m(self, key)\u001b[0m\n\u001b[1;32m    871\u001b[0m                     \u001b[0;31m# AttributeError for IntervalTree get_value\u001b[0m\u001b[0;34m\u001b[0m\u001b[0;34m\u001b[0m\u001b[0;34m\u001b[0m\u001b[0m\n\u001b[1;32m    872\u001b[0m                     \u001b[0;32mpass\u001b[0m\u001b[0;34m\u001b[0m\u001b[0;34m\u001b[0m\u001b[0m\n\u001b[0;32m--> 873\u001b[0;31m             \u001b[0;32mreturn\u001b[0m \u001b[0mself\u001b[0m\u001b[0;34m.\u001b[0m\u001b[0m_getitem_tuple\u001b[0m\u001b[0;34m(\u001b[0m\u001b[0mkey\u001b[0m\u001b[0;34m)\u001b[0m\u001b[0;34m\u001b[0m\u001b[0;34m\u001b[0m\u001b[0m\n\u001b[0m\u001b[1;32m    874\u001b[0m         \u001b[0;32melse\u001b[0m\u001b[0;34m:\u001b[0m\u001b[0;34m\u001b[0m\u001b[0;34m\u001b[0m\u001b[0m\n\u001b[1;32m    875\u001b[0m             \u001b[0;31m# we by definition only have the 0th axis\u001b[0m\u001b[0;34m\u001b[0m\u001b[0;34m\u001b[0m\u001b[0;34m\u001b[0m\u001b[0m\n",
      "\u001b[0;32m~/opt/anaconda3/envs/learn-env/lib/python3.8/site-packages/pandas/core/indexing.py\u001b[0m in \u001b[0;36m_getitem_tuple\u001b[0;34m(self, tup)\u001b[0m\n\u001b[1;32m   1042\u001b[0m     \u001b[0;32mdef\u001b[0m \u001b[0m_getitem_tuple\u001b[0m\u001b[0;34m(\u001b[0m\u001b[0mself\u001b[0m\u001b[0;34m,\u001b[0m \u001b[0mtup\u001b[0m\u001b[0;34m:\u001b[0m \u001b[0mTuple\u001b[0m\u001b[0;34m)\u001b[0m\u001b[0;34m:\u001b[0m\u001b[0;34m\u001b[0m\u001b[0;34m\u001b[0m\u001b[0m\n\u001b[1;32m   1043\u001b[0m         \u001b[0;32mtry\u001b[0m\u001b[0;34m:\u001b[0m\u001b[0;34m\u001b[0m\u001b[0;34m\u001b[0m\u001b[0m\n\u001b[0;32m-> 1044\u001b[0;31m             \u001b[0;32mreturn\u001b[0m \u001b[0mself\u001b[0m\u001b[0;34m.\u001b[0m\u001b[0m_getitem_lowerdim\u001b[0m\u001b[0;34m(\u001b[0m\u001b[0mtup\u001b[0m\u001b[0;34m)\u001b[0m\u001b[0;34m\u001b[0m\u001b[0;34m\u001b[0m\u001b[0m\n\u001b[0m\u001b[1;32m   1045\u001b[0m         \u001b[0;32mexcept\u001b[0m \u001b[0mIndexingError\u001b[0m\u001b[0;34m:\u001b[0m\u001b[0;34m\u001b[0m\u001b[0;34m\u001b[0m\u001b[0m\n\u001b[1;32m   1046\u001b[0m             \u001b[0;32mpass\u001b[0m\u001b[0;34m\u001b[0m\u001b[0;34m\u001b[0m\u001b[0m\n",
      "\u001b[0;32m~/opt/anaconda3/envs/learn-env/lib/python3.8/site-packages/pandas/core/indexing.py\u001b[0m in \u001b[0;36m_getitem_lowerdim\u001b[0;34m(self, tup)\u001b[0m\n\u001b[1;32m    784\u001b[0m                 \u001b[0;31m# We don't need to check for tuples here because those are\u001b[0m\u001b[0;34m\u001b[0m\u001b[0;34m\u001b[0m\u001b[0;34m\u001b[0m\u001b[0m\n\u001b[1;32m    785\u001b[0m                 \u001b[0;31m#  caught by the _is_nested_tuple_indexer check above.\u001b[0m\u001b[0;34m\u001b[0m\u001b[0;34m\u001b[0m\u001b[0;34m\u001b[0m\u001b[0m\n\u001b[0;32m--> 786\u001b[0;31m                 \u001b[0msection\u001b[0m \u001b[0;34m=\u001b[0m \u001b[0mself\u001b[0m\u001b[0;34m.\u001b[0m\u001b[0m_getitem_axis\u001b[0m\u001b[0;34m(\u001b[0m\u001b[0mkey\u001b[0m\u001b[0;34m,\u001b[0m \u001b[0maxis\u001b[0m\u001b[0;34m=\u001b[0m\u001b[0mi\u001b[0m\u001b[0;34m)\u001b[0m\u001b[0;34m\u001b[0m\u001b[0;34m\u001b[0m\u001b[0m\n\u001b[0m\u001b[1;32m    787\u001b[0m \u001b[0;34m\u001b[0m\u001b[0m\n\u001b[1;32m    788\u001b[0m                 \u001b[0;31m# We should never have a scalar section here, because\u001b[0m\u001b[0;34m\u001b[0m\u001b[0;34m\u001b[0m\u001b[0;34m\u001b[0m\u001b[0m\n",
      "\u001b[0;32m~/opt/anaconda3/envs/learn-env/lib/python3.8/site-packages/pandas/core/indexing.py\u001b[0m in \u001b[0;36m_getitem_axis\u001b[0;34m(self, key, axis)\u001b[0m\n\u001b[1;32m   1108\u001b[0m         \u001b[0;31m# fall thru to straight lookup\u001b[0m\u001b[0;34m\u001b[0m\u001b[0;34m\u001b[0m\u001b[0;34m\u001b[0m\u001b[0m\n\u001b[1;32m   1109\u001b[0m         \u001b[0mself\u001b[0m\u001b[0;34m.\u001b[0m\u001b[0m_validate_key\u001b[0m\u001b[0;34m(\u001b[0m\u001b[0mkey\u001b[0m\u001b[0;34m,\u001b[0m \u001b[0maxis\u001b[0m\u001b[0;34m)\u001b[0m\u001b[0;34m\u001b[0m\u001b[0;34m\u001b[0m\u001b[0m\n\u001b[0;32m-> 1110\u001b[0;31m         \u001b[0;32mreturn\u001b[0m \u001b[0mself\u001b[0m\u001b[0;34m.\u001b[0m\u001b[0m_get_label\u001b[0m\u001b[0;34m(\u001b[0m\u001b[0mkey\u001b[0m\u001b[0;34m,\u001b[0m \u001b[0maxis\u001b[0m\u001b[0;34m=\u001b[0m\u001b[0maxis\u001b[0m\u001b[0;34m)\u001b[0m\u001b[0;34m\u001b[0m\u001b[0;34m\u001b[0m\u001b[0m\n\u001b[0m\u001b[1;32m   1111\u001b[0m \u001b[0;34m\u001b[0m\u001b[0m\n\u001b[1;32m   1112\u001b[0m     \u001b[0;32mdef\u001b[0m \u001b[0m_get_slice_axis\u001b[0m\u001b[0;34m(\u001b[0m\u001b[0mself\u001b[0m\u001b[0;34m,\u001b[0m \u001b[0mslice_obj\u001b[0m\u001b[0;34m:\u001b[0m \u001b[0mslice\u001b[0m\u001b[0;34m,\u001b[0m \u001b[0maxis\u001b[0m\u001b[0;34m:\u001b[0m \u001b[0mint\u001b[0m\u001b[0;34m)\u001b[0m\u001b[0;34m:\u001b[0m\u001b[0;34m\u001b[0m\u001b[0;34m\u001b[0m\u001b[0m\n",
      "\u001b[0;32m~/opt/anaconda3/envs/learn-env/lib/python3.8/site-packages/pandas/core/indexing.py\u001b[0m in \u001b[0;36m_get_label\u001b[0;34m(self, label, axis)\u001b[0m\n\u001b[1;32m   1057\u001b[0m     \u001b[0;32mdef\u001b[0m \u001b[0m_get_label\u001b[0m\u001b[0;34m(\u001b[0m\u001b[0mself\u001b[0m\u001b[0;34m,\u001b[0m \u001b[0mlabel\u001b[0m\u001b[0;34m,\u001b[0m \u001b[0maxis\u001b[0m\u001b[0;34m:\u001b[0m \u001b[0mint\u001b[0m\u001b[0;34m)\u001b[0m\u001b[0;34m:\u001b[0m\u001b[0;34m\u001b[0m\u001b[0;34m\u001b[0m\u001b[0m\n\u001b[1;32m   1058\u001b[0m         \u001b[0;31m# GH#5667 this will fail if the label is not present in the axis.\u001b[0m\u001b[0;34m\u001b[0m\u001b[0;34m\u001b[0m\u001b[0;34m\u001b[0m\u001b[0m\n\u001b[0;32m-> 1059\u001b[0;31m         \u001b[0;32mreturn\u001b[0m \u001b[0mself\u001b[0m\u001b[0;34m.\u001b[0m\u001b[0mobj\u001b[0m\u001b[0;34m.\u001b[0m\u001b[0mxs\u001b[0m\u001b[0;34m(\u001b[0m\u001b[0mlabel\u001b[0m\u001b[0;34m,\u001b[0m \u001b[0maxis\u001b[0m\u001b[0;34m=\u001b[0m\u001b[0maxis\u001b[0m\u001b[0;34m)\u001b[0m\u001b[0;34m\u001b[0m\u001b[0;34m\u001b[0m\u001b[0m\n\u001b[0m\u001b[1;32m   1060\u001b[0m \u001b[0;34m\u001b[0m\u001b[0m\n\u001b[1;32m   1061\u001b[0m     \u001b[0;32mdef\u001b[0m \u001b[0m_handle_lowerdim_multi_index_axis0\u001b[0m\u001b[0;34m(\u001b[0m\u001b[0mself\u001b[0m\u001b[0;34m,\u001b[0m \u001b[0mtup\u001b[0m\u001b[0;34m:\u001b[0m \u001b[0mTuple\u001b[0m\u001b[0;34m)\u001b[0m\u001b[0;34m:\u001b[0m\u001b[0;34m\u001b[0m\u001b[0;34m\u001b[0m\u001b[0m\n",
      "\u001b[0;32m~/opt/anaconda3/envs/learn-env/lib/python3.8/site-packages/pandas/core/generic.py\u001b[0m in \u001b[0;36mxs\u001b[0;34m(self, key, axis, level, drop_level)\u001b[0m\n\u001b[1;32m   3489\u001b[0m             \u001b[0mloc\u001b[0m\u001b[0;34m,\u001b[0m \u001b[0mnew_index\u001b[0m \u001b[0;34m=\u001b[0m \u001b[0mself\u001b[0m\u001b[0;34m.\u001b[0m\u001b[0mindex\u001b[0m\u001b[0;34m.\u001b[0m\u001b[0mget_loc_level\u001b[0m\u001b[0;34m(\u001b[0m\u001b[0mkey\u001b[0m\u001b[0;34m,\u001b[0m \u001b[0mdrop_level\u001b[0m\u001b[0;34m=\u001b[0m\u001b[0mdrop_level\u001b[0m\u001b[0;34m)\u001b[0m\u001b[0;34m\u001b[0m\u001b[0;34m\u001b[0m\u001b[0m\n\u001b[1;32m   3490\u001b[0m         \u001b[0;32melse\u001b[0m\u001b[0;34m:\u001b[0m\u001b[0;34m\u001b[0m\u001b[0;34m\u001b[0m\u001b[0m\n\u001b[0;32m-> 3491\u001b[0;31m             \u001b[0mloc\u001b[0m \u001b[0;34m=\u001b[0m \u001b[0mself\u001b[0m\u001b[0;34m.\u001b[0m\u001b[0mindex\u001b[0m\u001b[0;34m.\u001b[0m\u001b[0mget_loc\u001b[0m\u001b[0;34m(\u001b[0m\u001b[0mkey\u001b[0m\u001b[0;34m)\u001b[0m\u001b[0;34m\u001b[0m\u001b[0;34m\u001b[0m\u001b[0m\n\u001b[0m\u001b[1;32m   3492\u001b[0m \u001b[0;34m\u001b[0m\u001b[0m\n\u001b[1;32m   3493\u001b[0m             \u001b[0;32mif\u001b[0m \u001b[0misinstance\u001b[0m\u001b[0;34m(\u001b[0m\u001b[0mloc\u001b[0m\u001b[0;34m,\u001b[0m \u001b[0mnp\u001b[0m\u001b[0;34m.\u001b[0m\u001b[0mndarray\u001b[0m\u001b[0;34m)\u001b[0m\u001b[0;34m:\u001b[0m\u001b[0;34m\u001b[0m\u001b[0;34m\u001b[0m\u001b[0m\n",
      "\u001b[0;32m~/opt/anaconda3/envs/learn-env/lib/python3.8/site-packages/pandas/core/indexes/base.py\u001b[0m in \u001b[0;36mget_loc\u001b[0;34m(self, key, method, tolerance)\u001b[0m\n\u001b[1;32m   2895\u001b[0m                 \u001b[0;32mreturn\u001b[0m \u001b[0mself\u001b[0m\u001b[0;34m.\u001b[0m\u001b[0m_engine\u001b[0m\u001b[0;34m.\u001b[0m\u001b[0mget_loc\u001b[0m\u001b[0;34m(\u001b[0m\u001b[0mcasted_key\u001b[0m\u001b[0;34m)\u001b[0m\u001b[0;34m\u001b[0m\u001b[0;34m\u001b[0m\u001b[0m\n\u001b[1;32m   2896\u001b[0m             \u001b[0;32mexcept\u001b[0m \u001b[0mKeyError\u001b[0m \u001b[0;32mas\u001b[0m \u001b[0merr\u001b[0m\u001b[0;34m:\u001b[0m\u001b[0;34m\u001b[0m\u001b[0;34m\u001b[0m\u001b[0m\n\u001b[0;32m-> 2897\u001b[0;31m                 \u001b[0;32mraise\u001b[0m \u001b[0mKeyError\u001b[0m\u001b[0;34m(\u001b[0m\u001b[0mkey\u001b[0m\u001b[0;34m)\u001b[0m \u001b[0;32mfrom\u001b[0m \u001b[0merr\u001b[0m\u001b[0;34m\u001b[0m\u001b[0;34m\u001b[0m\u001b[0m\n\u001b[0m\u001b[1;32m   2898\u001b[0m \u001b[0;34m\u001b[0m\u001b[0m\n\u001b[1;32m   2899\u001b[0m         \u001b[0;32mif\u001b[0m \u001b[0mtolerance\u001b[0m \u001b[0;32mis\u001b[0m \u001b[0;32mnot\u001b[0m \u001b[0;32mNone\u001b[0m\u001b[0;34m:\u001b[0m\u001b[0;34m\u001b[0m\u001b[0;34m\u001b[0m\u001b[0m\n",
      "\u001b[0;31mKeyError\u001b[0m: 183565"
     ]
    }
   ],
   "source": [
    "reviewed = list(prior_ratings_df.loc[user,\"recipe_id\"])"
   ]
  },
  {
   "cell_type": "code",
   "execution_count": 130,
   "metadata": {},
   "outputs": [],
   "source": [
    "recipes_w_ingredient = []\n",
    "for index, row in recipes_df.iterrows():\n",
    "    if ingredient_request in row[\"set_ingredients\"]:\n",
    "        recipes_w_ingredient.append(row[\"recipe_id\"])\n",
    " "
   ]
  },
  {
   "cell_type": "code",
   "execution_count": 141,
   "metadata": {},
   "outputs": [],
   "source": [
    "recipes_w_ingredient_subcat = []\n",
    "for index, row in recipes_df.iterrows():\n",
    "    if ingredient_request in row[\"set_ingredients\"] and sub_cat_request in row[\"recipe_type\"]:\n",
    "        recipes_w_ingredient_subcat.append(row[\"recipe_id\"])"
   ]
  },
  {
   "cell_type": "code",
   "execution_count": 142,
   "metadata": {},
   "outputs": [
    {
     "data": {
      "text/plain": [
       "3181"
      ]
     },
     "execution_count": 142,
     "metadata": {},
     "output_type": "execute_result"
    }
   ],
   "source": [
    "len(recipes_w_ingredient_subcat)"
   ]
  },
  {
   "cell_type": "code",
   "execution_count": 131,
   "metadata": {},
   "outputs": [],
   "source": [
    "ingredient_recipes = not_reviewed.copy()\n",
    "#loc, iloc statement (conditional with loc where value is in the list)\n",
    "#ingredient_recipes = \n",
    "ingredient_recipes = ingredient_recipes[ingredient_recipes.recipe_id.isin(recipes_w_ingredient)] #== True]\n",
    "ingredient_recipes.reset_index(inplace=True)\n",
    "    "
   ]
  },
  {
   "cell_type": "code",
   "execution_count": 132,
   "metadata": {},
   "outputs": [
    {
     "data": {
      "text/html": [
       "<div>\n",
       "<style scoped>\n",
       "    .dataframe tbody tr th:only-of-type {\n",
       "        vertical-align: middle;\n",
       "    }\n",
       "\n",
       "    .dataframe tbody tr th {\n",
       "        vertical-align: top;\n",
       "    }\n",
       "\n",
       "    .dataframe thead th {\n",
       "        text-align: right;\n",
       "    }\n",
       "</style>\n",
       "<table border=\"1\" class=\"dataframe\">\n",
       "  <thead>\n",
       "    <tr style=\"text-align: right;\">\n",
       "      <th></th>\n",
       "      <th>level_0</th>\n",
       "      <th>index</th>\n",
       "      <th>name</th>\n",
       "      <th>recipe_id</th>\n",
       "      <th>minutes</th>\n",
       "      <th>description</th>\n",
       "      <th>ingredients</th>\n",
       "      <th>calories</th>\n",
       "      <th>total_fat_pdv</th>\n",
       "      <th>sugar_pdv</th>\n",
       "      <th>sodium_pdv</th>\n",
       "      <th>protein_pdv</th>\n",
       "      <th>saturated_fat_pdv</th>\n",
       "      <th>carbs_pdv</th>\n",
       "      <th>recipe_type</th>\n",
       "      <th>set_ingredients</th>\n",
       "    </tr>\n",
       "  </thead>\n",
       "  <tbody>\n",
       "    <tr>\n",
       "      <th>0</th>\n",
       "      <td>64</td>\n",
       "      <td>64</td>\n",
       "      <td>mr  grant you took half veal prince orloff</td>\n",
       "      <td>43164</td>\n",
       "      <td>120</td>\n",
       "      <td>i couldn't resist! named in honor of one of my all time favorite</td>\n",
       "      <td>[veal roast, butter, oil, carrots, onions, parsley sprigs, bay leaf, thyme, salt, pepper, bacon]</td>\n",
       "      <td>510.6</td>\n",
       "      <td>50.0</td>\n",
       "      <td>10.0</td>\n",
       "      <td>21.0</td>\n",
       "      <td>90.0</td>\n",
       "      <td>70.0</td>\n",
       "      <td>1.0</td>\n",
       "      <td>[low carb, not vegetarian]</td>\n",
       "      <td>{butter, parsley sprigs, salt, veal roast, oil, bay leaf, bacon, onions, pepper, carrots, thyme}</td>\n",
       "    </tr>\n",
       "    <tr>\n",
       "      <th>1</th>\n",
       "      <td>86</td>\n",
       "      <td>86</td>\n",
       "      <td>smoked  salmon  cracker spread</td>\n",
       "      <td>99024</td>\n",
       "      <td>65</td>\n",
       "      <td>from the land of lakes cookbook via a friend who knows how i like to play. great as an appetizer spread, rolled in a tortilla, or in sandwiches. lots of possibilities for innovation here! cook time is chilling time.</td>\n",
       "      <td>[cream cheese, salmon, salt, lemon juice, onions, liquid smoke]</td>\n",
       "      <td>132.4</td>\n",
       "      <td>14.0</td>\n",
       "      <td>0.0</td>\n",
       "      <td>8.0</td>\n",
       "      <td>21.0</td>\n",
       "      <td>26.0</td>\n",
       "      <td>0.0</td>\n",
       "      <td>[low cal, low carb, sugar free, not vegetarian]</td>\n",
       "      <td>{cream cheese, salt, lemon juice, salmon, onions, liquid smoke}</td>\n",
       "    </tr>\n",
       "    <tr>\n",
       "      <th>2</th>\n",
       "      <td>109</td>\n",
       "      <td>109</td>\n",
       "      <td>zupa ze swiezych grzybow  polish mushroom soup</td>\n",
       "      <td>105069</td>\n",
       "      <td>40</td>\n",
       "      <td>posted in response to a request. from my grandmother's recipe files. it's rich and delicious.</td>\n",
       "      <td>[wild mushrooms, onions, butter, lemon, juice of, water, beef broth, sour cream, flour, salt and pepper, fresh dill]</td>\n",
       "      <td>176.6</td>\n",
       "      <td>19.0</td>\n",
       "      <td>11.0</td>\n",
       "      <td>26.0</td>\n",
       "      <td>12.0</td>\n",
       "      <td>37.0</td>\n",
       "      <td>3.0</td>\n",
       "      <td>[low cal, low carb, not vegetarian]</td>\n",
       "      <td>{butter, juice of, salt and pepper, wild mushrooms, fresh dill, lemon, water, beef broth, sour cream, flour, onions}</td>\n",
       "    </tr>\n",
       "    <tr>\n",
       "      <th>3</th>\n",
       "      <td>134</td>\n",
       "      <td>134</td>\n",
       "      <td>ara s potato  oup</td>\n",
       "      <td>69190</td>\n",
       "      <td>135</td>\n",
       "      <td>i made this recipe myself when i was 13. i was on here trying to find a recipe for potato soup because i liked my mom's so much.  when i was looking, i couldn't find a simple recipe for it that looked good, so i decided to make my own.  now, my soup tastes even better than my mom's and i always make it for family.</td>\n",
       "      <td>[cream of chicken soup, cream of celery soup, potatoes, onions, celery, carrots, water, butter, milk, bouillon cubes, potato flakes]</td>\n",
       "      <td>346.7</td>\n",
       "      <td>21.0</td>\n",
       "      <td>23.0</td>\n",
       "      <td>53.0</td>\n",
       "      <td>17.0</td>\n",
       "      <td>35.0</td>\n",
       "      <td>16.0</td>\n",
       "      <td>[low cal, not vegetarian]</td>\n",
       "      <td>{butter, bouillon cubes, water, cream of celery soup, celery, milk, potato flakes, cream of chicken soup, onions, carrots, potatoes}</td>\n",
       "    </tr>\n",
       "    <tr>\n",
       "      <th>4</th>\n",
       "      <td>136</td>\n",
       "      <td>136</td>\n",
       "      <td>lplermagrone</td>\n",
       "      <td>522861</td>\n",
       "      <td>50</td>\n",
       "      <td>älplermagronethe name doesn't translate perfectly into english. magrone is of course macaroni, but älpler doesn't only refer to the mountains and the people who live there, but more specifically to the men who would go up into the high pastures with the cows every summer. they had plenty of milk and cheese available to make this rich and delicious dish. this is traditionally serverd with fried onions on top and apple slices or sauce on the side. the cooking time is approximate. you can saute your onions while cooking the macaroni. a straight tubular pasta is what is commonly used penne, mostaccioli or rigatoni, would all work well.</td>\n",
       "      <td>[milk, salt, macaroni, cheese, fresh coarse ground black pepper, butter, onions, garlic cloves]</td>\n",
       "      <td>1003.8</td>\n",
       "      <td>72.0</td>\n",
       "      <td>21.0</td>\n",
       "      <td>103.0</td>\n",
       "      <td>69.0</td>\n",
       "      <td>143.0</td>\n",
       "      <td>37.0</td>\n",
       "      <td>[vegetarian]</td>\n",
       "      <td>{cheese, butter, fresh coarse ground black pepper, salt, milk, garlic cloves, onions, macaroni}</td>\n",
       "    </tr>\n",
       "    <tr>\n",
       "      <th>...</th>\n",
       "      <td>...</td>\n",
       "      <td>...</td>\n",
       "      <td>...</td>\n",
       "      <td>...</td>\n",
       "      <td>...</td>\n",
       "      <td>...</td>\n",
       "      <td>...</td>\n",
       "      <td>...</td>\n",
       "      <td>...</td>\n",
       "      <td>...</td>\n",
       "      <td>...</td>\n",
       "      <td>...</td>\n",
       "      <td>...</td>\n",
       "      <td>...</td>\n",
       "      <td>...</td>\n",
       "      <td>...</td>\n",
       "    </tr>\n",
       "    <tr>\n",
       "      <th>9867</th>\n",
       "      <td>231581</td>\n",
       "      <td>231590</td>\n",
       "      <td>zuppa du jour</td>\n",
       "      <td>326419</td>\n",
       "      <td>15</td>\n",
       "      <td>i received an email from the www.sparkrecipes.com website this morning with this recipe featured.  here is what the chef says:  fantastic soup, try with other veggies that you like!  note:  the only change that i am going to try is to use jennie-o lean turkey bacon.</td>\n",
       "      <td>[bacon, onions, garlic cloves, celery, carrot, mushroom, red pepper flakes, salt, pepper, oregano, basil, low-sodium low-fat chicken broth, stewed tomatoes, orzo pasta]</td>\n",
       "      <td>154.9</td>\n",
       "      <td>12.0</td>\n",
       "      <td>30.0</td>\n",
       "      <td>16.0</td>\n",
       "      <td>9.0</td>\n",
       "      <td>13.0</td>\n",
       "      <td>5.0</td>\n",
       "      <td>[low cal, low carb, not vegetarian]</td>\n",
       "      <td>{stewed tomatoes, oregano, orzo pasta, mushroom, carrot, red pepper flakes, low-sodium low-fat chicken broth, salt, celery, bacon, garlic cloves, basil, onions, pepper}</td>\n",
       "    </tr>\n",
       "    <tr>\n",
       "      <th>9868</th>\n",
       "      <td>231613</td>\n",
       "      <td>231622</td>\n",
       "      <td>zwiebelbrotchen onion rolls</td>\n",
       "      <td>424875</td>\n",
       "      <td>210</td>\n",
       "      <td>from das grosse buch vom backen; for zaar tour 6. i was translating german so i hope this is right, lol.  coasty helped with that dratted metric.</td>\n",
       "      <td>[onions, sesame oil, yeast, water, sugar, milk, butter, flour, celery salt]</td>\n",
       "      <td>157.9</td>\n",
       "      <td>3.0</td>\n",
       "      <td>7.0</td>\n",
       "      <td>0.0</td>\n",
       "      <td>8.0</td>\n",
       "      <td>5.0</td>\n",
       "      <td>9.0</td>\n",
       "      <td>[vegetarian, low cal, low carb]</td>\n",
       "      <td>{sugar, butter, yeast, sesame oil, water, celery salt, milk, flour, onions}</td>\n",
       "    </tr>\n",
       "    <tr>\n",
       "      <th>9869</th>\n",
       "      <td>231614</td>\n",
       "      <td>231623</td>\n",
       "      <td>zwiebelfleisch  onion beef</td>\n",
       "      <td>86005</td>\n",
       "      <td>55</td>\n",
       "      <td>a hearty, rib-sticking german dish posted in response to a recipe request. cooking time is approximate.</td>\n",
       "      <td>[round steaks, butter, onions, marjoram, garlic clove, vinegar, water, flour, thyme, lemon, salt and pepper]</td>\n",
       "      <td>629.0</td>\n",
       "      <td>58.0</td>\n",
       "      <td>28.0</td>\n",
       "      <td>9.0</td>\n",
       "      <td>99.0</td>\n",
       "      <td>88.0</td>\n",
       "      <td>6.0</td>\n",
       "      <td>[low carb, not vegetarian]</td>\n",
       "      <td>{butter, salt and pepper, vinegar, water, lemon, onions, round steaks, garlic clove, flour, marjoram, thyme}</td>\n",
       "    </tr>\n",
       "    <tr>\n",
       "      <th>9870</th>\n",
       "      <td>231616</td>\n",
       "      <td>231625</td>\n",
       "      <td>zwiebeln salat  swiss onion salad</td>\n",
       "      <td>455209</td>\n",
       "      <td>10</td>\n",
       "      <td>adapted from pan american's compete round the world cookbook.  this can be served hot or cold.</td>\n",
       "      <td>[butter, onions, flour, salt, vinegar]</td>\n",
       "      <td>113.5</td>\n",
       "      <td>11.0</td>\n",
       "      <td>17.0</td>\n",
       "      <td>19.0</td>\n",
       "      <td>2.0</td>\n",
       "      <td>24.0</td>\n",
       "      <td>3.0</td>\n",
       "      <td>[vegetarian, low cal, low carb]</td>\n",
       "      <td>{butter, vinegar, salt, flour, onions}</td>\n",
       "    </tr>\n",
       "    <tr>\n",
       "      <th>9871</th>\n",
       "      <td>231617</td>\n",
       "      <td>231626</td>\n",
       "      <td>zwiebelsuppe  clear german onion soup</td>\n",
       "      <td>61748</td>\n",
       "      <td>35</td>\n",
       "      <td>this is very different from french onion soup. the broth is very clear and smaller rounds of bread float on top of soup. adapted from schoener essen magazine, translated from the german. perfect choice for a dinner party.</td>\n",
       "      <td>[onions, red onions, fresh garlic, olive oil, fresh marjoram, dry white wine, chicken broth, sandwich bread, parmesan cheese, salt, pepper]</td>\n",
       "      <td>252.0</td>\n",
       "      <td>17.0</td>\n",
       "      <td>21.0</td>\n",
       "      <td>44.0</td>\n",
       "      <td>21.0</td>\n",
       "      <td>14.0</td>\n",
       "      <td>7.0</td>\n",
       "      <td>[low cal, low carb, not vegetarian]</td>\n",
       "      <td>{red onions, fresh marjoram, fresh garlic, chicken broth, sandwich bread, dry white wine, salt, parmesan cheese, onions, pepper, olive oil}</td>\n",
       "    </tr>\n",
       "  </tbody>\n",
       "</table>\n",
       "<p>9872 rows × 16 columns</p>\n",
       "</div>"
      ],
      "text/plain": [
       "      level_0   index                                            name  \\\n",
       "0          64      64      mr  grant you took half veal prince orloff   \n",
       "1          86      86                  smoked  salmon  cracker spread   \n",
       "2         109     109  zupa ze swiezych grzybow  polish mushroom soup   \n",
       "3         134     134                               ara s potato  oup   \n",
       "4         136     136                                    lplermagrone   \n",
       "...       ...     ...                                             ...   \n",
       "9867   231581  231590                                   zuppa du jour   \n",
       "9868   231613  231622                     zwiebelbrotchen onion rolls   \n",
       "9869   231614  231623                      zwiebelfleisch  onion beef   \n",
       "9870   231616  231625               zwiebeln salat  swiss onion salad   \n",
       "9871   231617  231626           zwiebelsuppe  clear german onion soup   \n",
       "\n",
       "      recipe_id  minutes  \\\n",
       "0         43164      120   \n",
       "1         99024       65   \n",
       "2        105069       40   \n",
       "3         69190      135   \n",
       "4        522861       50   \n",
       "...         ...      ...   \n",
       "9867     326419       15   \n",
       "9868     424875      210   \n",
       "9869      86005       55   \n",
       "9870     455209       10   \n",
       "9871      61748       35   \n",
       "\n",
       "                                                                                                                                                                                                                                                                                                                                                                                                                                                                                                                                                                                                                                                          description  \\\n",
       "0                                                                                                                                                                                                                                                                                                                                                                                                                                                                                                                                                                                                   i couldn't resist! named in honor of one of my all time favorite    \n",
       "1                                                                                                                                                                                                                                                                                                                                                                                                                                             from the land of lakes cookbook via a friend who knows how i like to play. great as an appetizer spread, rolled in a tortilla, or in sandwiches. lots of possibilities for innovation here! cook time is chilling time.   \n",
       "2                                                                                                                                                                                                                                                                                                                                                                                                                                                                                                                                                                       posted in response to a request. from my grandmother's recipe files. it's rich and delicious.   \n",
       "3                                                                                                                                                                                                                                                                                                                                         i made this recipe myself when i was 13. i was on here trying to find a recipe for potato soup because i liked my mom's so much.  when i was looking, i couldn't find a simple recipe for it that looked good, so i decided to make my own.  now, my soup tastes even better than my mom's and i always make it for family.   \n",
       "4     älplermagronethe name doesn't translate perfectly into english. magrone is of course macaroni, but älpler doesn't only refer to the mountains and the people who live there, but more specifically to the men who would go up into the high pastures with the cows every summer. they had plenty of milk and cheese available to make this rich and delicious dish. this is traditionally serverd with fried onions on top and apple slices or sauce on the side. the cooking time is approximate. you can saute your onions while cooking the macaroni. a straight tubular pasta is what is commonly used penne, mostaccioli or rigatoni, would all work well.   \n",
       "...                                                                                                                                                                                                                                                                                                                                                                                                                                                                                                                                                                                                                                                               ...   \n",
       "9867                                                                                                                                                                                                                                                                                                                                                                                       i received an email from the www.sparkrecipes.com website this morning with this recipe featured.  here is what the chef says:  fantastic soup, try with other veggies that you like!  note:  the only change that i am going to try is to use jennie-o lean turkey bacon.   \n",
       "9868                                                                                                                                                                                                                                                                                                                                                                                                                                                                                                                from das grosse buch vom backen; for zaar tour 6. i was translating german so i hope this is right, lol.  coasty helped with that dratted metric.   \n",
       "9869                                                                                                                                                                                                                                                                                                                                                                                                                                                                                                                                                          a hearty, rib-sticking german dish posted in response to a recipe request. cooking time is approximate.   \n",
       "9870                                                                                                                                                                                                                                                                                                                                                                                                                                                                                                                                                                   adapted from pan american's compete round the world cookbook.  this can be served hot or cold.   \n",
       "9871                                                                                                                                                                                                                                                                                                                                                                                                                                    this is very different from french onion soup. the broth is very clear and smaller rounds of bread float on top of soup. adapted from schoener essen magazine, translated from the german. perfect choice for a dinner party.   \n",
       "\n",
       "                                                                                                                                                                   ingredients  \\\n",
       "0                                                                             [veal roast, butter, oil, carrots, onions, parsley sprigs, bay leaf, thyme, salt, pepper, bacon]   \n",
       "1                                                                                                              [cream cheese, salmon, salt, lemon juice, onions, liquid smoke]   \n",
       "2                                                         [wild mushrooms, onions, butter, lemon, juice of, water, beef broth, sour cream, flour, salt and pepper, fresh dill]   \n",
       "3                                         [cream of chicken soup, cream of celery soup, potatoes, onions, celery, carrots, water, butter, milk, bouillon cubes, potato flakes]   \n",
       "4                                                                              [milk, salt, macaroni, cheese, fresh coarse ground black pepper, butter, onions, garlic cloves]   \n",
       "...                                                                                                                                                                        ...   \n",
       "9867  [bacon, onions, garlic cloves, celery, carrot, mushroom, red pepper flakes, salt, pepper, oregano, basil, low-sodium low-fat chicken broth, stewed tomatoes, orzo pasta]   \n",
       "9868                                                                                               [onions, sesame oil, yeast, water, sugar, milk, butter, flour, celery salt]   \n",
       "9869                                                              [round steaks, butter, onions, marjoram, garlic clove, vinegar, water, flour, thyme, lemon, salt and pepper]   \n",
       "9870                                                                                                                                    [butter, onions, flour, salt, vinegar]   \n",
       "9871                               [onions, red onions, fresh garlic, olive oil, fresh marjoram, dry white wine, chicken broth, sandwich bread, parmesan cheese, salt, pepper]   \n",
       "\n",
       "      calories  total_fat_pdv  sugar_pdv  sodium_pdv  protein_pdv  \\\n",
       "0        510.6           50.0       10.0        21.0         90.0   \n",
       "1        132.4           14.0        0.0         8.0         21.0   \n",
       "2        176.6           19.0       11.0        26.0         12.0   \n",
       "3        346.7           21.0       23.0        53.0         17.0   \n",
       "4       1003.8           72.0       21.0       103.0         69.0   \n",
       "...        ...            ...        ...         ...          ...   \n",
       "9867     154.9           12.0       30.0        16.0          9.0   \n",
       "9868     157.9            3.0        7.0         0.0          8.0   \n",
       "9869     629.0           58.0       28.0         9.0         99.0   \n",
       "9870     113.5           11.0       17.0        19.0          2.0   \n",
       "9871     252.0           17.0       21.0        44.0         21.0   \n",
       "\n",
       "      saturated_fat_pdv  carbs_pdv  \\\n",
       "0                  70.0        1.0   \n",
       "1                  26.0        0.0   \n",
       "2                  37.0        3.0   \n",
       "3                  35.0       16.0   \n",
       "4                 143.0       37.0   \n",
       "...                 ...        ...   \n",
       "9867               13.0        5.0   \n",
       "9868                5.0        9.0   \n",
       "9869               88.0        6.0   \n",
       "9870               24.0        3.0   \n",
       "9871               14.0        7.0   \n",
       "\n",
       "                                          recipe_type  \\\n",
       "0                          [low carb, not vegetarian]   \n",
       "1     [low cal, low carb, sugar free, not vegetarian]   \n",
       "2                 [low cal, low carb, not vegetarian]   \n",
       "3                           [low cal, not vegetarian]   \n",
       "4                                        [vegetarian]   \n",
       "...                                               ...   \n",
       "9867              [low cal, low carb, not vegetarian]   \n",
       "9868                  [vegetarian, low cal, low carb]   \n",
       "9869                       [low carb, not vegetarian]   \n",
       "9870                  [vegetarian, low cal, low carb]   \n",
       "9871              [low cal, low carb, not vegetarian]   \n",
       "\n",
       "                                                                                                                                                               set_ingredients  \n",
       "0                                                                             {butter, parsley sprigs, salt, veal roast, oil, bay leaf, bacon, onions, pepper, carrots, thyme}  \n",
       "1                                                                                                              {cream cheese, salt, lemon juice, salmon, onions, liquid smoke}  \n",
       "2                                                         {butter, juice of, salt and pepper, wild mushrooms, fresh dill, lemon, water, beef broth, sour cream, flour, onions}  \n",
       "3                                         {butter, bouillon cubes, water, cream of celery soup, celery, milk, potato flakes, cream of chicken soup, onions, carrots, potatoes}  \n",
       "4                                                                              {cheese, butter, fresh coarse ground black pepper, salt, milk, garlic cloves, onions, macaroni}  \n",
       "...                                                                                                                                                                        ...  \n",
       "9867  {stewed tomatoes, oregano, orzo pasta, mushroom, carrot, red pepper flakes, low-sodium low-fat chicken broth, salt, celery, bacon, garlic cloves, basil, onions, pepper}  \n",
       "9868                                                                                               {sugar, butter, yeast, sesame oil, water, celery salt, milk, flour, onions}  \n",
       "9869                                                              {butter, salt and pepper, vinegar, water, lemon, onions, round steaks, garlic clove, flour, marjoram, thyme}  \n",
       "9870                                                                                                                                    {butter, vinegar, salt, flour, onions}  \n",
       "9871                               {red onions, fresh marjoram, fresh garlic, chicken broth, sandwich bread, dry white wine, salt, parmesan cheese, onions, pepper, olive oil}  \n",
       "\n",
       "[9872 rows x 16 columns]"
      ]
     },
     "execution_count": 132,
     "metadata": {},
     "output_type": "execute_result"
    }
   ],
   "source": [
    "ingredient_recipes"
   ]
  },
  {
   "cell_type": "code",
   "execution_count": 133,
   "metadata": {},
   "outputs": [],
   "source": [
    "ingredient_recipes[\"predicted_rating\"] = ingredient_recipes[\"recipe_id\"].apply(lambda x: best_model.predict(user, x).est)\n",
    "ingredient_recipes.sort_values(by=\"predicted_rating\", ascending=False, inplace=True)\n",
    "ingredient_recipes = ingredient_recipes[[\"name\", \"minutes\", \"description\", \"ingredients\", \"recipe_type\", \"predicted_rating\"]] "
   ]
  },
  {
   "cell_type": "code",
   "execution_count": 134,
   "metadata": {},
   "outputs": [
    {
     "data": {
      "text/plain": [
       "4.888764    9872\n",
       "Name: predicted_rating, dtype: int64"
      ]
     },
     "execution_count": 134,
     "metadata": {},
     "output_type": "execute_result"
    }
   ],
   "source": [
    "ingredient_recipes[\"predicted_rating\"].value_counts()"
   ]
  },
  {
   "cell_type": "code",
   "execution_count": 147,
   "metadata": {
    "scrolled": true
   },
   "outputs": [],
   "source": [
    "predictions = best_model.predict(183565, 99024)"
   ]
  },
  {
   "cell_type": "code",
   "execution_count": 148,
   "metadata": {},
   "outputs": [
    {
     "data": {
      "text/plain": [
       "Prediction(uid=183565, iid=99024, r_ui=None, est=4.729493901542436, details={'was_impossible': False})"
      ]
     },
     "execution_count": 148,
     "metadata": {},
     "output_type": "execute_result"
    }
   ],
   "source": [
    "predictions"
   ]
  },
  {
   "cell_type": "code",
   "execution_count": 124,
   "metadata": {},
   "outputs": [],
   "source": [
    "user1 = user_ratings_df[user_ratings_df[\"user_id\"] == \"827374\"]\n"
   ]
  },
  {
   "cell_type": "code",
   "execution_count": 127,
   "metadata": {},
   "outputs": [
    {
     "data": {
      "text/plain": [
       "0    4.0\n",
       "dtype: float64"
      ]
     },
     "execution_count": 127,
     "metadata": {},
     "output_type": "execute_result"
    }
   ],
   "source": [
    "user1[\"rating\"].mode()"
   ]
  },
  {
   "cell_type": "code",
   "execution_count": 126,
   "metadata": {},
   "outputs": [
    {
     "data": {
      "text/plain": [
       "4.729493901542436"
      ]
     },
     "execution_count": 126,
     "metadata": {},
     "output_type": "execute_result"
    }
   ],
   "source": [
    "user_ratings_df[\"rating\"].mean()"
   ]
  },
  {
   "cell_type": "code",
   "execution_count": 181,
   "metadata": {},
   "outputs": [],
   "source": [
    "def recommended_recipes():\n",
    "    #set up to not truncate display\n",
    "    pd.set_option(\"display.max_colwidth\", None)\n",
    "    \n",
    "    user = int(input(\"user_id: \"))\n",
    "    ingredient_request = input(\"What ingredients do you need to use?  \")\n",
    "    #n_ingredients = int(input(\"How many ingredients do you want to match? \"))\n",
    "    sub_cat_request = input(\"Recipe type? \")\n",
    "    \n",
    "    # Set up a list for each user of recipes alredy reviewed \n",
    "    reviewed = list(prior_ratings_df.loc[user,\"recipe_id\"])\n",
    "    \n",
    "    # Create a data frame that does not include recipes already reviewed \n",
    "    not_reviewed = recipes_df.copy()\n",
    "    not_reviewed = not_reviewed[not_reviewed.recipe_id.isin(reviewed) == False]\n",
    "    not_reviewed.reset_index(inplace=True)\n",
    "    \n",
    "    #Create a list from not_reviewed that only includes recipe with the requested ingredient\n",
    "    #recipes_w_ingredient = []\n",
    "    #for index, row in recipes_df.iterrows():\n",
    "        #if ingredient_request in row[\"set_ingredients\"]:\n",
    "            #recipes_w_ingredient.append(row[\"recipe_id\"])\n",
    "            \n",
    "            \n",
    "    #subcategory added to function\n",
    "    recipes_w_ingredient_subcat = []\n",
    "    for index, row in recipes_df.iterrows():\n",
    "        if ingredient_request in row[\"set_ingredients\"] and sub_cat_request in row[\"recipe_type\"]:\n",
    "            recipes_w_ingredient_subcat.append(row[\"recipe_id\"])\n",
    "    \n",
    "    ingredient_recipes = not_reviewed.copy()\n",
    "    #loc, iloc statement (conditional with loc where value is in the list\n",
    "    ingredient_recipes = ingredient_recipes[ingredient_recipes.recipe_id.isin(recipes_w_ingredient_subcat)]\n",
    "    ingredient_recipes.reset_index(inplace=True)\n",
    "    \n",
    "    #not_reviewed = not_reviewed[not_reviewed[\"ingredients\"].isin(ingredient_request) == True]\n",
    "    \n",
    "    ingredient_recipes[\"predicted_rating\"] = ingredient_recipes[\"recipe_id\"].apply(lambda x: best_model.predict(int(user), x).est)\n",
    "    ingredient_recipes.sort_values(by=\"predicted_rating\", ascending=False, inplace=True)\n",
    "    ingredient_recipes = ingredient_recipes[[\"name\", \"minutes\", \"description\", \"ingredients\", \"recipe_type\", \"predicted_rating\"]] \n",
    "    \n",
    "    return ingredient_recipes.head(10)\n",
    "    \n",
    "    "
   ]
  },
  {
   "cell_type": "code",
   "execution_count": 186,
   "metadata": {
    "scrolled": true
   },
   "outputs": [
    {
     "name": "stdout",
     "output_type": "stream",
     "text": [
      "user_id: 827374\n",
      "What ingredients do you need to use?  cheese\n",
      "Recipe type? low carb\n"
     ]
    },
    {
     "data": {
      "text/html": [
       "<div>\n",
       "<style scoped>\n",
       "    .dataframe tbody tr th:only-of-type {\n",
       "        vertical-align: middle;\n",
       "    }\n",
       "\n",
       "    .dataframe tbody tr th {\n",
       "        vertical-align: top;\n",
       "    }\n",
       "\n",
       "    .dataframe thead th {\n",
       "        text-align: right;\n",
       "    }\n",
       "</style>\n",
       "<table border=\"1\" class=\"dataframe\">\n",
       "  <thead>\n",
       "    <tr style=\"text-align: right;\">\n",
       "      <th></th>\n",
       "      <th>name</th>\n",
       "      <th>minutes</th>\n",
       "      <th>description</th>\n",
       "      <th>ingredients</th>\n",
       "      <th>recipe_type</th>\n",
       "      <th>predicted_rating</th>\n",
       "    </tr>\n",
       "  </thead>\n",
       "  <tbody>\n",
       "    <tr>\n",
       "      <th>139</th>\n",
       "      <td>beer burgers with beer braised onions</td>\n",
       "      <td>60</td>\n",
       "      <td>an excellent burger and the onions piled on top of the burger are great.  this recipe is one of my dh's favorites.</td>\n",
       "      <td>[butter, onion, beer, sugar, salt, ground chuck, tabasco sauce, worcestershire sauce, salt and pepper, hamburger buns, cheese]</td>\n",
       "      <td>[low carb, not vegetarian]</td>\n",
       "      <td>4.586301</td>\n",
       "    </tr>\n",
       "    <tr>\n",
       "      <th>1160</th>\n",
       "      <td>slow cooker pork chili verde</td>\n",
       "      <td>430</td>\n",
       "      <td>this is a great recipe to throw in the crock pot before work with very little prep work.</td>\n",
       "      <td>[olive oil, onion, garlic cloves, boneless pork shoulder, green enchilada sauce, jalapeno peppers, flour tortillas, cheese, sour cream, salsa]</td>\n",
       "      <td>[low carb, not vegetarian]</td>\n",
       "      <td>4.560646</td>\n",
       "    </tr>\n",
       "    <tr>\n",
       "      <th>847</th>\n",
       "      <td>magic omelette</td>\n",
       "      <td>10</td>\n",
       "      <td>this isn't so much a recipe as a tip. most of us make omelettes the same way: wait until the eggs are nearly cooked, then add cheese, vegetables, meat, etc., counting on the heat of the eggs to heat them, and in doing so unnecessarily overcooking the eggs. if, instead, you cover your egg pan with a pot lid, you can add the omelette filling from the outset and it cooks with the eggs, so your omelette's already done at the point where you'd normally add the filling. and get this - you never have to touch a utensil! try it and i bet you'll never cook an omelette without a lid again.</td>\n",
       "      <td>[butter, eggs, water, cheese, ham, chives, salt, pepper]</td>\n",
       "      <td>[low cal, low carb, not vegetarian]</td>\n",
       "      <td>4.560097</td>\n",
       "    </tr>\n",
       "    <tr>\n",
       "      <th>468</th>\n",
       "      <td>crustless swiss chard quiche</td>\n",
       "      <td>60</td>\n",
       "      <td>i have been working on perfecting the perfect crustless quiche recipe for years. i always use spinach, but i bought some rainbow swiss chard at the local farmer's market today, and i thought i'd give it a try in quiche.  i used rainbow chard (pink/yellow/white/orange stems---- beautiful), but you can use any chard (or try substituting other greens)  i do notice that fresh greens give a much better taste  than frozen greens though!</td>\n",
       "      <td>[olive oil, sweet onion, swiss chard, cheese, eggs, skim milk, salt, pepper]</td>\n",
       "      <td>[vegetarian, low cal, low carb]</td>\n",
       "      <td>4.559858</td>\n",
       "    </tr>\n",
       "    <tr>\n",
       "      <th>1218</th>\n",
       "      <td>steak  or chicken  fajitas</td>\n",
       "      <td>20</td>\n",
       "      <td>these are so quick and tasty. you can use strips of boneless chicken breast instead of the beef. feel free to double the marinade. the flavor is so great for such a short marination time. you can can do them up ahead of time and have the meat sit longer if you wish.</td>\n",
       "      <td>[top sirloin steak, olive oil, lime juice, garlic clove, chili powder, cumin, hot pepper flakes, black pepper, salt, flour tortillas, onion, sweet peppers, salsa, sour cream, cheese, chopped tomato]</td>\n",
       "      <td>[low cal, low carb, not vegetarian]</td>\n",
       "      <td>4.544741</td>\n",
       "    </tr>\n",
       "    <tr>\n",
       "      <th>647</th>\n",
       "      <td>garlic grilled cheese</td>\n",
       "      <td>8</td>\n",
       "      <td>ahhh... gaaahlic! who doesn't love it? i was making a variation of the potato chip chicken recipe and melted a bit too much margarine. so i stuck it in the fridge and made this grilled cheese the next day. i'll never make plain grilled cheese again!</td>\n",
       "      <td>[bread, cheese, margarine, garlic salt]</td>\n",
       "      <td>[vegetarian, low carb]</td>\n",
       "      <td>4.542237</td>\n",
       "    </tr>\n",
       "    <tr>\n",
       "      <th>1004</th>\n",
       "      <td>pizza lunchable   oamc</td>\n",
       "      <td>30</td>\n",
       "      <td>this recipe is in response to my son's desperate pleas for those lunchables that are unhealthy, expensive, and full of ingredients i can't pronounce...lol. since i refuse to buy them, i came up with this idea instead to compromise with him.</td>\n",
       "      <td>[pizza dough, pizza sauce, cheese, ziploc bags]</td>\n",
       "      <td>[vegetarian, low cal, low carb]</td>\n",
       "      <td>4.538666</td>\n",
       "    </tr>\n",
       "    <tr>\n",
       "      <th>1320</th>\n",
       "      <td>tomato and cheese quesadilla</td>\n",
       "      <td>10</td>\n",
       "      <td>a very easy to make lunch. if following a gluten free diet ensure gluten-free corn tortillas are used. you can make these in your frypan or flat sandwich toaster (the type that does not cut your bread). you can also add cooked shredded chicken, ham, avocado,onion, capsicums/peppers, herbs, salsa, chilli sauce-basically any ingredients that you would like in a toasted sandwich.</td>\n",
       "      <td>[corn tortillas, cheese, tomatoes]</td>\n",
       "      <td>[vegetarian, low cal, low carb]</td>\n",
       "      <td>4.536997</td>\n",
       "    </tr>\n",
       "    <tr>\n",
       "      <th>1122</th>\n",
       "      <td>scalloped turnips</td>\n",
       "      <td>25</td>\n",
       "      <td>mrs. carl albert submitted this in a 1971 cookbook called favorite recipes of our first ladies.  her husband was speaker of the house and she said this is one of his favorite recipes because \"he is a country boy and loves fresh vegetables and greens\" -  haven't made it yet. this recipe calls for grated cheese but doesn't specify which one so if you make it, let us know what cheese you used and how it was.* i think i would peel the turnips and for the white sauce- it doesn't say how to make it- ie. if you should make it over heat or if you should melt the butter- if you had success with a method, please tell us what you did!  thanks!</td>\n",
       "      <td>[turnips, butter, flour, milk, salt, pepper, cheese]</td>\n",
       "      <td>[vegetarian, low cal, low carb]</td>\n",
       "      <td>4.534542</td>\n",
       "    </tr>\n",
       "    <tr>\n",
       "      <th>816</th>\n",
       "      <td>leftover rice muffins</td>\n",
       "      <td>40</td>\n",
       "      <td>serve as appitizers, for lunches, great finger food</td>\n",
       "      <td>[rice, cheese, black olives, onions, ham, egg]</td>\n",
       "      <td>[low cal, low carb, sugar free, not vegetarian]</td>\n",
       "      <td>4.526750</td>\n",
       "    </tr>\n",
       "  </tbody>\n",
       "</table>\n",
       "</div>"
      ],
      "text/plain": [
       "                                       name  minutes  \\\n",
       "139   beer burgers with beer braised onions       60   \n",
       "1160           slow cooker pork chili verde      430   \n",
       "847                          magic omelette       10   \n",
       "468            crustless swiss chard quiche       60   \n",
       "1218             steak  or chicken  fajitas       20   \n",
       "647                   garlic grilled cheese        8   \n",
       "1004                 pizza lunchable   oamc       30   \n",
       "1320           tomato and cheese quesadilla       10   \n",
       "1122                      scalloped turnips       25   \n",
       "816                   leftover rice muffins       40   \n",
       "\n",
       "                                                                                                                                                                                                                                                                                                                                                                                                                                                                                                                                                                                                                                                           description  \\\n",
       "139                                                                                                                                                                                                                                                                                                                                                                                                                                                                                                                                                 an excellent burger and the onions piled on top of the burger are great.  this recipe is one of my dh's favorites.   \n",
       "1160                                                                                                                                                                                                                                                                                                                                                                                                                                                                                                                                                                          this is a great recipe to throw in the crock pot before work with very little prep work.   \n",
       "847                                                         this isn't so much a recipe as a tip. most of us make omelettes the same way: wait until the eggs are nearly cooked, then add cheese, vegetables, meat, etc., counting on the heat of the eggs to heat them, and in doing so unnecessarily overcooking the eggs. if, instead, you cover your egg pan with a pot lid, you can add the omelette filling from the outset and it cooks with the eggs, so your omelette's already done at the point where you'd normally add the filling. and get this - you never have to touch a utensil! try it and i bet you'll never cook an omelette without a lid again.   \n",
       "468                                                                                                                                                                                                                 i have been working on perfecting the perfect crustless quiche recipe for years. i always use spinach, but i bought some rainbow swiss chard at the local farmer's market today, and i thought i'd give it a try in quiche.  i used rainbow chard (pink/yellow/white/orange stems---- beautiful), but you can use any chard (or try substituting other greens)  i do notice that fresh greens give a much better taste  than frozen greens though!   \n",
       "1218                                                                                                                                                                                                                                                                                                                                                                                        these are so quick and tasty. you can use strips of boneless chicken breast instead of the beef. feel free to double the marinade. the flavor is so great for such a short marination time. you can can do them up ahead of time and have the meat sit longer if you wish.   \n",
       "647                                                                                                                                                                                                                                                                                                                                                                                                          ahhh... gaaahlic! who doesn't love it? i was making a variation of the potato chip chicken recipe and melted a bit too much margarine. so i stuck it in the fridge and made this grilled cheese the next day. i'll never make plain grilled cheese again!   \n",
       "1004                                                                                                                                                                                                                                                                                                                                                                                                                  this recipe is in response to my son's desperate pleas for those lunchables that are unhealthy, expensive, and full of ingredients i can't pronounce...lol. since i refuse to buy them, i came up with this idea instead to compromise with him.   \n",
       "1320                                                                                                                                                                                                                                                                       a very easy to make lunch. if following a gluten free diet ensure gluten-free corn tortillas are used. you can make these in your frypan or flat sandwich toaster (the type that does not cut your bread). you can also add cooked shredded chicken, ham, avocado,onion, capsicums/peppers, herbs, salsa, chilli sauce-basically any ingredients that you would like in a toasted sandwich.   \n",
       "1122  mrs. carl albert submitted this in a 1971 cookbook called favorite recipes of our first ladies.  her husband was speaker of the house and she said this is one of his favorite recipes because \"he is a country boy and loves fresh vegetables and greens\" -  haven't made it yet. this recipe calls for grated cheese but doesn't specify which one so if you make it, let us know what cheese you used and how it was.* i think i would peel the turnips and for the white sauce- it doesn't say how to make it- ie. if you should make it over heat or if you should melt the butter- if you had success with a method, please tell us what you did!  thanks!   \n",
       "816                                                                                                                                                                                                                                                                                                                                                                                                                                                                                                                                                                                                                serve as appitizers, for lunches, great finger food   \n",
       "\n",
       "                                                                                                                                                                                                 ingredients  \\\n",
       "139                                                                           [butter, onion, beer, sugar, salt, ground chuck, tabasco sauce, worcestershire sauce, salt and pepper, hamburger buns, cheese]   \n",
       "1160                                                          [olive oil, onion, garlic cloves, boneless pork shoulder, green enchilada sauce, jalapeno peppers, flour tortillas, cheese, sour cream, salsa]   \n",
       "847                                                                                                                                                 [butter, eggs, water, cheese, ham, chives, salt, pepper]   \n",
       "468                                                                                                                             [olive oil, sweet onion, swiss chard, cheese, eggs, skim milk, salt, pepper]   \n",
       "1218  [top sirloin steak, olive oil, lime juice, garlic clove, chili powder, cumin, hot pepper flakes, black pepper, salt, flour tortillas, onion, sweet peppers, salsa, sour cream, cheese, chopped tomato]   \n",
       "647                                                                                                                                                                  [bread, cheese, margarine, garlic salt]   \n",
       "1004                                                                                                                                                         [pizza dough, pizza sauce, cheese, ziploc bags]   \n",
       "1320                                                                                                                                                                      [corn tortillas, cheese, tomatoes]   \n",
       "1122                                                                                                                                                    [turnips, butter, flour, milk, salt, pepper, cheese]   \n",
       "816                                                                                                                                                           [rice, cheese, black olives, onions, ham, egg]   \n",
       "\n",
       "                                          recipe_type  predicted_rating  \n",
       "139                        [low carb, not vegetarian]          4.586301  \n",
       "1160                       [low carb, not vegetarian]          4.560646  \n",
       "847               [low cal, low carb, not vegetarian]          4.560097  \n",
       "468                   [vegetarian, low cal, low carb]          4.559858  \n",
       "1218              [low cal, low carb, not vegetarian]          4.544741  \n",
       "647                            [vegetarian, low carb]          4.542237  \n",
       "1004                  [vegetarian, low cal, low carb]          4.538666  \n",
       "1320                  [vegetarian, low cal, low carb]          4.536997  \n",
       "1122                  [vegetarian, low cal, low carb]          4.534542  \n",
       "816   [low cal, low carb, sugar free, not vegetarian]          4.526750  "
      ]
     },
     "execution_count": 186,
     "metadata": {},
     "output_type": "execute_result"
    }
   ],
   "source": [
    "recommended_recipes()"
   ]
  },
  {
   "cell_type": "code",
   "execution_count": null,
   "metadata": {},
   "outputs": [],
   "source": []
  }
 ],
 "metadata": {
  "kernelspec": {
   "display_name": "Python (learn-env)",
   "language": "python",
   "name": "learn-env"
  },
  "language_info": {
   "codemirror_mode": {
    "name": "ipython",
    "version": 3
   },
   "file_extension": ".py",
   "mimetype": "text/x-python",
   "name": "python",
   "nbconvert_exporter": "python",
   "pygments_lexer": "ipython3",
   "version": "3.8.5"
  }
 },
 "nbformat": 4,
 "nbformat_minor": 4
}
