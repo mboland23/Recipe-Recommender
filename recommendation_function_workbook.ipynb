{
 "cells": [
  {
   "cell_type": "code",
   "execution_count": 2,
   "metadata": {},
   "outputs": [],
   "source": [
    "import pandas as pd\n",
    "import pickle\n",
    "import matplotlib.pyplot as plt\n",
    "import seaborn as sns\n",
    "import numpy as np\n",
    "\n",
    "\n",
    "from surprise import Dataset, Reader, accuracy, NormalPredictor, KNNBasic, KNNWithMeans, KNNWithZScore, KNNBaseline, SVD, BaselineOnly, SVDpp, NMF, SlopeOne, CoClustering\n",
    "from surprise.accuracy import rmse\n",
    "from surprise.prediction_algorithms import SVD, SVDpp, NMF, BaselineOnly, NormalPredictor\n",
    "from IPython.core.display import HTML\n",
    "from surprise.model_selection.split import train_test_split as surprise_train_test_split\n",
    "from surprise.model_selection import GridSearchCV, cross_validate\n",
    "\n",
    "%matplotlib inline"
   ]
  },
  {
   "cell_type": "code",
   "execution_count": 3,
   "metadata": {},
   "outputs": [],
   "source": [
    "user_ratings_df = pd.read_csv(\"./Data/user_reviews_no_zero.csv\", index_col=[0])"
   ]
  },
  {
   "cell_type": "code",
   "execution_count": 4,
   "metadata": {},
   "outputs": [],
   "source": [
    "recipes_df = pd.read_csv(\"./Data/recipes_subcat_cleaned.csv\", index_col=[0])"
   ]
  },
  {
   "cell_type": "code",
   "execution_count": null,
   "metadata": {
    "scrolled": false
   },
   "outputs": [],
   "source": [
    "recipes_df.head()"
   ]
  },
  {
   "cell_type": "code",
   "execution_count": 5,
   "metadata": {
    "scrolled": false
   },
   "outputs": [],
   "source": [
    "#Clean the ingredients column so each row is a list of strings\n",
    "recipes_df[\"ingredients\"] = recipes_df[\"ingredients\"].str.replace(\"'\", \"\")\n",
    "recipes_df[\"ingredients\"] = recipes_df[\"ingredients\"].str.strip(\"[\")\n",
    "recipes_df[\"ingredients\"] = recipes_df[\"ingredients\"].str.strip(\"]\")\n",
    "recipes_df[\"ingredients\"] = recipes_df[\"ingredients\"].str.split(\", \")"
   ]
  },
  {
   "cell_type": "code",
   "execution_count": 6,
   "metadata": {
    "scrolled": true
   },
   "outputs": [],
   "source": [
    "#Clean the recipe_type column so each row is a list of strings\n",
    "recipes_df[\"recipe_type\"] = recipes_df[\"recipe_type\"].str.replace(\"'\", \"\")\n",
    "recipes_df[\"recipe_type\"] = recipes_df[\"recipe_type\"].str.strip(\"[\")\n",
    "recipes_df[\"recipe_type\"] = recipes_df[\"recipe_type\"].str.strip(\"]\")\n",
    "recipes_df[\"recipe_type\"] = recipes_df[\"recipe_type\"].str.split(\", \")"
   ]
  },
  {
   "cell_type": "markdown",
   "metadata": {},
   "source": [
    "## Setting up Surprise"
   ]
  },
  {
   "cell_type": "code",
   "execution_count": 7,
   "metadata": {},
   "outputs": [],
   "source": [
    "user_ratings_df[[\"user_id\", \"recipe_id\"]] = user_ratings_df[[\"user_id\", \"recipe_id\"]].astype(int)"
   ]
  },
  {
   "cell_type": "code",
   "execution_count": 8,
   "metadata": {},
   "outputs": [],
   "source": [
    "rating_surprise_df = user_ratings_df[[\"user_id\", \"recipe_id\", \"rating\"]]"
   ]
  },
  {
   "cell_type": "code",
   "execution_count": 9,
   "metadata": {},
   "outputs": [],
   "source": [
    "reader = Reader(rating_scale=(1, 5))\n",
    "surprise_data = Dataset.load_from_df(rating_surprise_df, reader)"
   ]
  },
  {
   "cell_type": "code",
   "execution_count": 10,
   "metadata": {},
   "outputs": [],
   "source": [
    "trainset_full = surprise_data.build_full_trainset()"
   ]
  },
  {
   "cell_type": "code",
   "execution_count": 11,
   "metadata": {},
   "outputs": [
    {
     "data": {
      "text/plain": [
       "<surprise.prediction_algorithms.matrix_factorization.SVD at 0x7fa8ef530370>"
      ]
     },
     "execution_count": 11,
     "metadata": {},
     "output_type": "execute_result"
    }
   ],
   "source": [
    "best_model = SVD(n_factors = 3,  n_epochs= 35, lr_all = .0025)\n",
    "best_model.fit(trainset_full)"
   ]
  },
  {
   "cell_type": "code",
   "execution_count": 12,
   "metadata": {},
   "outputs": [
    {
     "name": "stdout",
     "output_type": "stream",
     "text": [
      "<class 'pandas.core.frame.DataFrame'>\n",
      "Int64Index: 537267 entries, 56680 to 1122988\n",
      "Data columns (total 1 columns):\n",
      " #   Column     Non-Null Count   Dtype\n",
      "---  ------     --------------   -----\n",
      " 0   recipe_id  537267 non-null  int64\n",
      "dtypes: int64(1)\n",
      "memory usage: 8.2 MB\n"
     ]
    }
   ],
   "source": [
    "## Subset data frame to show reviewers the products they have rated \n",
    "\n",
    "prior_ratings_df = pd.DataFrame(user_ratings_df.set_index(\"user_id\"))\n",
    "prior_ratings_df.drop(columns=[\"date\", \"rating\", \"review\"], inplace=True)\n",
    "prior_ratings_df.info()\n"
   ]
  },
  {
   "cell_type": "markdown",
   "metadata": {},
   "source": [
    "## Creating Recommender Function "
   ]
  },
  {
   "cell_type": "code",
   "execution_count": null,
   "metadata": {
    "scrolled": false
   },
   "outputs": [],
   "source": [
    "recipes_df.head(1)"
   ]
  },
  {
   "cell_type": "code",
   "execution_count": null,
   "metadata": {
    "scrolled": true
   },
   "outputs": [],
   "source": [
    "not_reviewed = recipes_df.copy()\n",
    "not_reviewed = not_reviewed[not_reviewed.recipe_id.isin(reviewed) == False]\n",
    "not_reviewed.reset_index(inplace=True)"
   ]
  },
  {
   "cell_type": "code",
   "execution_count": 13,
   "metadata": {},
   "outputs": [],
   "source": [
    "# Create a new column that converts the list of ingredients to a set to improve efficiencies in the function\n",
    "recipes_df[\"set_ingredients\"] = recipes_df[\"ingredients\"].apply(lambda x: set(x))\n"
   ]
  },
  {
   "cell_type": "code",
   "execution_count": 14,
   "metadata": {},
   "outputs": [
    {
     "data": {
      "text/plain": [
       "set"
      ]
     },
     "execution_count": 14,
     "metadata": {},
     "output_type": "execute_result"
    }
   ],
   "source": [
    "# Sanity check\n",
    "type(recipes_df[\"set_ingredients\"][0])"
   ]
  },
  {
   "cell_type": "code",
   "execution_count": null,
   "metadata": {},
   "outputs": [],
   "source": [
    "not_reviewed = recipes_df.copy()"
   ]
  },
  {
   "cell_type": "code",
   "execution_count": null,
   "metadata": {},
   "outputs": [],
   "source": [
    "not_reviewed = not_reviewed[not_reviewed.recipe_id.isin(reviewed) == False]\n",
    "not_reviewed.reset_index(inplace=True)\n",
    "    "
   ]
  },
  {
   "cell_type": "code",
   "execution_count": null,
   "metadata": {},
   "outputs": [],
   "source": [
    "user = 183565\n",
    "ingredient_request = \"onions\"\n",
    "sub_cat_request = \"vegetarian\""
   ]
  },
  {
   "cell_type": "code",
   "execution_count": null,
   "metadata": {},
   "outputs": [],
   "source": [
    "recipes_w_ingredient = []\n",
    "for index, row in recipes_df.iterrows():\n",
    "    if ingredient_request in row[\"set_ingredients\"]:\n",
    "        recipes_w_ingredient.append(row[\"recipe_id\"])\n",
    " "
   ]
  },
  {
   "cell_type": "code",
   "execution_count": null,
   "metadata": {},
   "outputs": [],
   "source": [
    "recipes_w_ingredient_subcat = []\n",
    "for index, row in recipes_df.iterrows():\n",
    "    if ingredient_request in row[\"set_ingredients\"] and sub_cat_request in row[\"recipe_type\"]:\n",
    "        recipes_w_ingredient_subcat.append(row[\"recipe_id\"])"
   ]
  },
  {
   "cell_type": "code",
   "execution_count": null,
   "metadata": {},
   "outputs": [],
   "source": [
    "len(recipes_w_ingredient_subcat)"
   ]
  },
  {
   "cell_type": "code",
   "execution_count": null,
   "metadata": {},
   "outputs": [],
   "source": [
    "ingredient_recipes = not_reviewed.copy()\n",
    "#loc, iloc statement (conditional with loc where value is in the list)\n",
    "#ingredient_recipes = \n",
    "ingredient_recipes = ingredient_recipes[ingredient_recipes.recipe_id.isin(recipes_w_ingredient)] #== True]\n",
    "ingredient_recipes.reset_index(inplace=True)\n",
    "    "
   ]
  },
  {
   "cell_type": "code",
   "execution_count": null,
   "metadata": {},
   "outputs": [],
   "source": [
    "ingredient_recipes"
   ]
  },
  {
   "cell_type": "code",
   "execution_count": null,
   "metadata": {},
   "outputs": [],
   "source": [
    "ingredient_recipes[\"predicted_rating\"] = ingredient_recipes[\"recipe_id\"].apply(lambda x: best_model.predict(user, x).est)\n",
    "ingredient_recipes.sort_values(by=\"predicted_rating\", ascending=False, inplace=True)\n",
    "ingredient_recipes = ingredient_recipes[[\"name\", \"minutes\", \"description\", \"ingredients\", \"recipe_type\", \"predicted_rating\"]] "
   ]
  },
  {
   "cell_type": "code",
   "execution_count": null,
   "metadata": {
    "scrolled": true
   },
   "outputs": [],
   "source": [
    "predictions = best_model.predict(183565, 99024)"
   ]
  },
  {
   "cell_type": "code",
   "execution_count": null,
   "metadata": {},
   "outputs": [],
   "source": [
    "predictions"
   ]
  },
  {
   "cell_type": "code",
   "execution_count": null,
   "metadata": {},
   "outputs": [],
   "source": [
    "user1 = user_ratings_df[user_ratings_df[\"user_id\"] == \"827374\"]\n"
   ]
  },
  {
   "cell_type": "code",
   "execution_count": null,
   "metadata": {},
   "outputs": [],
   "source": [
    "user1[\"rating\"].mode()"
   ]
  },
  {
   "cell_type": "code",
   "execution_count": null,
   "metadata": {},
   "outputs": [],
   "source": [
    "user_ratings_df[\"rating\"].mean()"
   ]
  },
  {
   "cell_type": "code",
   "execution_count": null,
   "metadata": {},
   "outputs": [],
   "source": [
    "user_ratings_df.head()"
   ]
  },
  {
   "cell_type": "code",
   "execution_count": null,
   "metadata": {},
   "outputs": [],
   "source": [
    "def recommended_recipes():\n",
    "    #set up to not truncate display\n",
    "    pd.set_option(\"display.max_colwidth\", None)\n",
    "    \n",
    "    # Set up user inputs \n",
    "    user = int(input(\"user_id: \"))\n",
    "    ingredient_request = input(\"What ingredients do you need to use?  \")\n",
    "    sub_cat_request = input(\"Recipe type? \")\n",
    "    num = int(input(\"How many recipes would you like to see? \"))\n",
    "    \n",
    "    # Set up dictionary to account for variations of ingredients \n",
    "    \n",
    "    \n",
    "    \n",
    "    # Set up a list for each user of recipes alredy reviewed \n",
    "    reviewed = list(prior_ratings_df.loc[user,\"recipe_id\"])\n",
    "    \n",
    "    # Create a data frame that does not include recipes already reviewed \n",
    "    not_reviewed = recipes_df.copy()\n",
    "    not_reviewed = not_reviewed[not_reviewed.recipe_id.isin(reviewed) == False]\n",
    "    not_reviewed.reset_index(inplace=True)\n",
    "            \n",
    "            \n",
    "    # Iterate through each row using a for loop to create list that contains recipe_ids tht match ingredient and type\n",
    "    recipes_w_ingredient_subcat = []\n",
    "    for index, row in recipes_df.iterrows():\n",
    "        if ingredient_request in row[\"set_ingredients\"] and sub_cat_request in row[\"recipe_type\"]:\n",
    "            recipes_w_ingredient_subcat.append(row[\"recipe_id\"])\n",
    "    \n",
    "    # Create a copy of not_reviewed df that only contains recipe_ids that are in the recipe_w_ingredient_subcat list\n",
    "    ingredient_recipes = not_reviewed.copy()\n",
    "    ingredient_recipes = ingredient_recipes[ingredient_recipes.recipe_id.isin(recipes_w_ingredient_subcat)]\n",
    "    ingredient_recipes.reset_index(inplace=True)\n",
    "    \n",
    "\n",
    "    # Create predicted rating for each recipe_id using the best_model, sort by highest rating\n",
    "    ingredient_recipes[\"predicted_rating\"] = ingredient_recipes[\"recipe_id\"].apply(lambda x: best_model.predict(int(user), x).est)\n",
    "    ingredient_recipes.sort_values(by=\"predicted_rating\", ascending=False, inplace=True)\n",
    "    ingredient_recipes = ingredient_recipes[[\"name\", \"minutes\", \"ingredients\", \"recipe_type\", \"predicted_rating\"]] \n",
    "    \n",
    "    return ingredient_recipes.head(num)\n",
    "    \n",
    "    "
   ]
  },
  {
   "cell_type": "code",
   "execution_count": null,
   "metadata": {},
   "outputs": [],
   "source": []
  },
  {
   "cell_type": "code",
   "execution_count": null,
   "metadata": {},
   "outputs": [],
   "source": []
  },
  {
   "cell_type": "code",
   "execution_count": null,
   "metadata": {
    "scrolled": true
   },
   "outputs": [],
   "source": [
    "recommended_recipes()"
   ]
  },
  {
   "cell_type": "code",
   "execution_count": null,
   "metadata": {
    "scrolled": true
   },
   "outputs": [],
   "source": [
    "recommended_recipes()"
   ]
  },
  {
   "cell_type": "code",
   "execution_count": null,
   "metadata": {},
   "outputs": [],
   "source": []
  },
  {
   "cell_type": "markdown",
   "metadata": {},
   "source": [
    "## Working on Function"
   ]
  },
  {
   "cell_type": "code",
   "execution_count": null,
   "metadata": {},
   "outputs": [],
   "source": [
    "print(sorted(recipes_df[\"ingredients\"][0:50]))"
   ]
  },
  {
   "cell_type": "code",
   "execution_count": 23,
   "metadata": {},
   "outputs": [],
   "source": [
    "ingredient_request = \"chicken\"\n",
    "sub_cat_request = \"non vegetarian\"\n",
    "recipes_w_ingredient_subcat = []"
   ]
  },
  {
   "cell_type": "code",
   "execution_count": 15,
   "metadata": {},
   "outputs": [],
   "source": [
    "# Setting up dictionary to account for variations of ingredients \n",
    "\n",
    "ingredient_variations = {\"chicken\" : [\"chicken\", \"chicken breast\"],\n",
    "                        \"tomato\": [\"tomato\", \"diced tomato\", \"crushed tomato\", \"chopped tomato\", \"heirloom tomato\"],\n",
    "                        \"onion\": [\"onion\",\"yellow onion\", \"red onion\", \"sweet onion\", \"vidailia onion\", \"chopped onion\", \"diced onion\"],\n",
    "                        \"garlic\": [\"garlic\", \"peeled garlic\", \"crushed garlic\", \"garlic clove\", \"garlic cloves\", \"head of garlic\", \"minced garlic\"],\n",
    "                        \"lettuce\": [\"lettuce\", \"lettuce leaf\", \"romaine lettuce\", \"red leaf lettuce\", \"garden lettuce\"],\n",
    "                        \"shallot\": [\"shallot\", \"diced shallot\", \"quartered shallot\", \"chopped shallot\"],\n",
    "                        \"potato\": [\"potato\", \"diced potato\", \"quartered potato\", \"mashed potato\", \"red potato\", \"yellow potato\", \"yukon gold potato\", \"gold potato\"],\n",
    "                        \"shrimp\": [\"shrimp\",\"raw shrimp\", \"deveined shrimp\", \"peeled shrimp\"],\n",
    "                        \"celery\": [\"celery\", \"rib of celery\", \"chopped celery\"],\n",
    "                         }"
   ]
  },
  {
   "cell_type": "code",
   "execution_count": 24,
   "metadata": {},
   "outputs": [],
   "source": [
    "for index, row in recipes_df.iterrows():\n",
    "    if ingredient_request in ingredient_variations.keys() \n",
    "    \n",
    "    if set(ingredient_request).intersection(ingredient_variations) in row[\"set_ingredients\"] and sub_cat_request in row[\"recipe_type\"]:\n",
    "        recipes_w_ingredient_subcat.append(row[\"recipe_id\"])"
   ]
  },
  {
   "cell_type": "code",
   "execution_count": 25,
   "metadata": {},
   "outputs": [
    {
     "data": {
      "text/plain": [
       "[]"
      ]
     },
     "execution_count": 25,
     "metadata": {},
     "output_type": "execute_result"
    }
   ],
   "source": [
    "recipes_w_ingredient_subcat"
   ]
  },
  {
   "cell_type": "code",
   "execution_count": null,
   "metadata": {},
   "outputs": [],
   "source": []
  }
 ],
 "metadata": {
  "kernelspec": {
   "display_name": "Python (learn-env)",
   "language": "python",
   "name": "learn-env"
  },
  "language_info": {
   "codemirror_mode": {
    "name": "ipython",
    "version": 3
   },
   "file_extension": ".py",
   "mimetype": "text/x-python",
   "name": "python",
   "nbconvert_exporter": "python",
   "pygments_lexer": "ipython3",
   "version": "3.8.5"
  }
 },
 "nbformat": 4,
 "nbformat_minor": 4
}
