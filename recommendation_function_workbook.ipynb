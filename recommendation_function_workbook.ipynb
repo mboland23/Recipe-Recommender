{
 "cells": [
  {
   "cell_type": "code",
   "execution_count": 31,
   "metadata": {},
   "outputs": [],
   "source": [
    "import pandas as pd\n",
    "import pickle\n",
    "import matplotlib.pyplot as plt\n",
    "import seaborn as sns\n",
    "import numpy as np\n",
    "import joblib\n",
    "\n",
    "from surprise import Dataset, Reader, accuracy, NormalPredictor, KNNBasic, KNNWithMeans, KNNWithZScore, KNNBaseline, SVD, BaselineOnly, SVDpp, NMF, SlopeOne, CoClustering\n",
    "from surprise.accuracy import rmse\n",
    "from surprise.prediction_algorithms import SVD, SVDpp, NMF, BaselineOnly, NormalPredictor\n",
    "from IPython.core.display import HTML\n",
    "from surprise.model_selection.split import train_test_split as surprise_train_test_split\n",
    "from surprise.model_selection import GridSearchCV, cross_validate\n",
    "\n",
    "%matplotlib inline"
   ]
  },
  {
   "cell_type": "code",
   "execution_count": 3,
   "metadata": {
    "scrolled": true
   },
   "outputs": [],
   "source": [
    "user_ratings_df = pd.read_csv(\"./Data/user_reviews_no_zero.csv\", index_col=[0])"
   ]
  },
  {
   "cell_type": "code",
   "execution_count": 37,
   "metadata": {},
   "outputs": [],
   "source": [
    "recipes_df = pd.read_csv(\"./Data/recipes_subcat_cleaned 2.csv\", index_col=[0])"
   ]
  },
  {
   "cell_type": "code",
   "execution_count": 38,
   "metadata": {
    "scrolled": false
   },
   "outputs": [
    {
     "data": {
      "text/html": [
       "<div>\n",
       "<style scoped>\n",
       "    .dataframe tbody tr th:only-of-type {\n",
       "        vertical-align: middle;\n",
       "    }\n",
       "\n",
       "    .dataframe tbody tr th {\n",
       "        vertical-align: top;\n",
       "    }\n",
       "\n",
       "    .dataframe thead th {\n",
       "        text-align: right;\n",
       "    }\n",
       "</style>\n",
       "<table border=\"1\" class=\"dataframe\">\n",
       "  <thead>\n",
       "    <tr style=\"text-align: right;\">\n",
       "      <th></th>\n",
       "      <th>name</th>\n",
       "      <th>recipe_id</th>\n",
       "      <th>minutes</th>\n",
       "      <th>description</th>\n",
       "      <th>ingredients</th>\n",
       "      <th>calories</th>\n",
       "      <th>total_fat_pdv</th>\n",
       "      <th>sugar_pdv</th>\n",
       "      <th>sodium_pdv</th>\n",
       "      <th>protein_pdv</th>\n",
       "      <th>saturated_fat_pdv</th>\n",
       "      <th>carbs_pdv</th>\n",
       "      <th>recipe_type</th>\n",
       "    </tr>\n",
       "  </thead>\n",
       "  <tbody>\n",
       "    <tr>\n",
       "      <th>0</th>\n",
       "      <td>arriba   baked winter squash mexican style</td>\n",
       "      <td>137739</td>\n",
       "      <td>55</td>\n",
       "      <td>autumn is my favorite time of year to cook! this recipe \\r\\ncan be prepared either spicy or sweet, your choice!\\r\\ntwo of my posted mexican-inspired seasoning mix recipes are offered as suggestions.</td>\n",
       "      <td>['winter squash', 'mexican seasoning', 'mixed spice', 'honey', 'butter', 'olive oil', 'salt']</td>\n",
       "      <td>51.5</td>\n",
       "      <td>0.0</td>\n",
       "      <td>13.0</td>\n",
       "      <td>0.0</td>\n",
       "      <td>2.0</td>\n",
       "      <td>0.0</td>\n",
       "      <td>4.0</td>\n",
       "      <td>['vegetarian', 'any', 'low cal', 'low carb']</td>\n",
       "    </tr>\n",
       "    <tr>\n",
       "      <th>1</th>\n",
       "      <td>a bit different  breakfast pizza</td>\n",
       "      <td>31490</td>\n",
       "      <td>30</td>\n",
       "      <td>this recipe calls for the crust to be prebaked a bit before adding ingredients. feel free to change sausage to ham or bacon. this warms well in the microwave for those late risers.</td>\n",
       "      <td>['prepared pizza crust', 'sausage patty', 'eggs', 'milk', 'salt and pepper', 'cheese']</td>\n",
       "      <td>173.4</td>\n",
       "      <td>18.0</td>\n",
       "      <td>0.0</td>\n",
       "      <td>17.0</td>\n",
       "      <td>22.0</td>\n",
       "      <td>35.0</td>\n",
       "      <td>1.0</td>\n",
       "      <td>['any', 'low cal', 'low carb', 'sugar free', 'not vegetarian']</td>\n",
       "    </tr>\n",
       "    <tr>\n",
       "      <th>2</th>\n",
       "      <td>all in the kitchen  chili</td>\n",
       "      <td>112140</td>\n",
       "      <td>130</td>\n",
       "      <td>this modified version of 'mom's' chili was a hit at our 2004 christmas party. we made an extra large pot to have some left to freeze but it never made it to the freezer. it was a favorite by all. perfect for any cold and rainy day. you won't find this one in a cookbook. it is truly an original.</td>\n",
       "      <td>['ground beef', 'yellow onions', 'diced tomatoes', 'tomato paste', 'tomato soup', 'rotel tomatoes', 'kidney beans', 'water', 'chili powder', 'ground cumin', 'salt', 'lettuce', 'cheddar cheese']</td>\n",
       "      <td>269.8</td>\n",
       "      <td>22.0</td>\n",
       "      <td>32.0</td>\n",
       "      <td>48.0</td>\n",
       "      <td>39.0</td>\n",
       "      <td>27.0</td>\n",
       "      <td>5.0</td>\n",
       "      <td>['any', 'low cal', 'low carb', 'not vegetarian']</td>\n",
       "    </tr>\n",
       "    <tr>\n",
       "      <th>3</th>\n",
       "      <td>alouette  potatoes</td>\n",
       "      <td>59389</td>\n",
       "      <td>45</td>\n",
       "      <td>this is a super easy, great tasting, make ahead side dish that looks like you spent a lot more time preparing than you actually do. plus, most everything is done in advance. the times do not reflect the standing time of the potatoes.</td>\n",
       "      <td>['spreadable cheese with garlic and herbs', 'new potatoes', 'shallots', 'parsley', 'tarragon', 'olive oil', 'red wine vinegar', 'salt', 'pepper', 'red bell pepper', 'yellow bell pepper']</td>\n",
       "      <td>368.1</td>\n",
       "      <td>17.0</td>\n",
       "      <td>10.0</td>\n",
       "      <td>2.0</td>\n",
       "      <td>14.0</td>\n",
       "      <td>8.0</td>\n",
       "      <td>20.0</td>\n",
       "      <td>['vegetarian', 'any', 'low cal']</td>\n",
       "    </tr>\n",
       "    <tr>\n",
       "      <th>4</th>\n",
       "      <td>amish  tomato ketchup  for canning</td>\n",
       "      <td>44061</td>\n",
       "      <td>190</td>\n",
       "      <td>my dh's amish mother raised him on this recipe. he much prefers it over store-bought ketchup. it was a taste i had to acquire, but now my ds's also prefer this type of ketchup. enjoy!</td>\n",
       "      <td>['tomato juice', 'apple cider vinegar', 'sugar', 'salt', 'pepper', 'clove oil', 'cinnamon oil', 'dry mustard']</td>\n",
       "      <td>352.9</td>\n",
       "      <td>1.0</td>\n",
       "      <td>337.0</td>\n",
       "      <td>23.0</td>\n",
       "      <td>3.0</td>\n",
       "      <td>0.0</td>\n",
       "      <td>28.0</td>\n",
       "      <td>['vegetarian', 'any', 'low cal']</td>\n",
       "    </tr>\n",
       "  </tbody>\n",
       "</table>\n",
       "</div>"
      ],
      "text/plain": [
       "                                         name  recipe_id  minutes  \\\n",
       "0  arriba   baked winter squash mexican style     137739       55   \n",
       "1            a bit different  breakfast pizza      31490       30   \n",
       "2                   all in the kitchen  chili     112140      130   \n",
       "3                          alouette  potatoes      59389       45   \n",
       "4          amish  tomato ketchup  for canning      44061      190   \n",
       "\n",
       "                                                                                                                                                                                                                                                                                               description  \\\n",
       "0                                                                                                   autumn is my favorite time of year to cook! this recipe \\r\\ncan be prepared either spicy or sweet, your choice!\\r\\ntwo of my posted mexican-inspired seasoning mix recipes are offered as suggestions.   \n",
       "1                                                                                                                     this recipe calls for the crust to be prebaked a bit before adding ingredients. feel free to change sausage to ham or bacon. this warms well in the microwave for those late risers.   \n",
       "2  this modified version of 'mom's' chili was a hit at our 2004 christmas party. we made an extra large pot to have some left to freeze but it never made it to the freezer. it was a favorite by all. perfect for any cold and rainy day. you won't find this one in a cookbook. it is truly an original.   \n",
       "3                                                                this is a super easy, great tasting, make ahead side dish that looks like you spent a lot more time preparing than you actually do. plus, most everything is done in advance. the times do not reflect the standing time of the potatoes.   \n",
       "4                                                                                                                  my dh's amish mother raised him on this recipe. he much prefers it over store-bought ketchup. it was a taste i had to acquire, but now my ds's also prefer this type of ketchup. enjoy!   \n",
       "\n",
       "                                                                                                                                                                                         ingredients  \\\n",
       "0                                                                                                      ['winter squash', 'mexican seasoning', 'mixed spice', 'honey', 'butter', 'olive oil', 'salt']   \n",
       "1                                                                                                             ['prepared pizza crust', 'sausage patty', 'eggs', 'milk', 'salt and pepper', 'cheese']   \n",
       "2  ['ground beef', 'yellow onions', 'diced tomatoes', 'tomato paste', 'tomato soup', 'rotel tomatoes', 'kidney beans', 'water', 'chili powder', 'ground cumin', 'salt', 'lettuce', 'cheddar cheese']   \n",
       "3         ['spreadable cheese with garlic and herbs', 'new potatoes', 'shallots', 'parsley', 'tarragon', 'olive oil', 'red wine vinegar', 'salt', 'pepper', 'red bell pepper', 'yellow bell pepper']   \n",
       "4                                                                                     ['tomato juice', 'apple cider vinegar', 'sugar', 'salt', 'pepper', 'clove oil', 'cinnamon oil', 'dry mustard']   \n",
       "\n",
       "   calories  total_fat_pdv  sugar_pdv  sodium_pdv  protein_pdv  \\\n",
       "0      51.5            0.0       13.0         0.0          2.0   \n",
       "1     173.4           18.0        0.0        17.0         22.0   \n",
       "2     269.8           22.0       32.0        48.0         39.0   \n",
       "3     368.1           17.0       10.0         2.0         14.0   \n",
       "4     352.9            1.0      337.0        23.0          3.0   \n",
       "\n",
       "   saturated_fat_pdv  carbs_pdv  \\\n",
       "0                0.0        4.0   \n",
       "1               35.0        1.0   \n",
       "2               27.0        5.0   \n",
       "3                8.0       20.0   \n",
       "4                0.0       28.0   \n",
       "\n",
       "                                                      recipe_type  \n",
       "0                    ['vegetarian', 'any', 'low cal', 'low carb']  \n",
       "1  ['any', 'low cal', 'low carb', 'sugar free', 'not vegetarian']  \n",
       "2                ['any', 'low cal', 'low carb', 'not vegetarian']  \n",
       "3                                ['vegetarian', 'any', 'low cal']  \n",
       "4                                ['vegetarian', 'any', 'low cal']  "
      ]
     },
     "execution_count": 38,
     "metadata": {},
     "output_type": "execute_result"
    }
   ],
   "source": [
    "recipes_df.head()"
   ]
  },
  {
   "cell_type": "code",
   "execution_count": 7,
   "metadata": {
    "scrolled": true
   },
   "outputs": [
    {
     "data": {
      "text/html": [
       "<div>\n",
       "<style scoped>\n",
       "    .dataframe tbody tr th:only-of-type {\n",
       "        vertical-align: middle;\n",
       "    }\n",
       "\n",
       "    .dataframe tbody tr th {\n",
       "        vertical-align: top;\n",
       "    }\n",
       "\n",
       "    .dataframe thead th {\n",
       "        text-align: right;\n",
       "    }\n",
       "</style>\n",
       "<table border=\"1\" class=\"dataframe\">\n",
       "  <thead>\n",
       "    <tr style=\"text-align: right;\">\n",
       "      <th></th>\n",
       "      <th>user_id</th>\n",
       "      <th>recipe_id</th>\n",
       "      <th>date</th>\n",
       "      <th>rating</th>\n",
       "      <th>review</th>\n",
       "    </tr>\n",
       "  </thead>\n",
       "  <tbody>\n",
       "    <tr>\n",
       "      <th>10</th>\n",
       "      <td>56680</td>\n",
       "      <td>79222</td>\n",
       "      <td>2006-11-11</td>\n",
       "      <td>5.0</td>\n",
       "      <td>Oh, This was wonderful!  Had a soup and salad ...</td>\n",
       "    </tr>\n",
       "    <tr>\n",
       "      <th>11</th>\n",
       "      <td>183565</td>\n",
       "      <td>79222</td>\n",
       "      <td>2006-02-13</td>\n",
       "      <td>5.0</td>\n",
       "      <td>Wow!  My family loves this recipe and it is a ...</td>\n",
       "    </tr>\n",
       "    <tr>\n",
       "      <th>12</th>\n",
       "      <td>101823</td>\n",
       "      <td>79222</td>\n",
       "      <td>2006-03-21</td>\n",
       "      <td>5.0</td>\n",
       "      <td>Excellent chowder.  This was the perfect warm-...</td>\n",
       "    </tr>\n",
       "    <tr>\n",
       "      <th>13</th>\n",
       "      <td>446143</td>\n",
       "      <td>79222</td>\n",
       "      <td>2008-02-01</td>\n",
       "      <td>4.0</td>\n",
       "      <td>Oh, how wonderful!  I doubled the crab, and ad...</td>\n",
       "    </tr>\n",
       "    <tr>\n",
       "      <th>14</th>\n",
       "      <td>226989</td>\n",
       "      <td>79222</td>\n",
       "      <td>2008-03-07</td>\n",
       "      <td>4.0</td>\n",
       "      <td>DH and I enjoyed this. However I used it only ...</td>\n",
       "    </tr>\n",
       "  </tbody>\n",
       "</table>\n",
       "</div>"
      ],
      "text/plain": [
       "    user_id  recipe_id        date  rating  \\\n",
       "10    56680      79222  2006-11-11     5.0   \n",
       "11   183565      79222  2006-02-13     5.0   \n",
       "12   101823      79222  2006-03-21     5.0   \n",
       "13   446143      79222  2008-02-01     4.0   \n",
       "14   226989      79222  2008-03-07     4.0   \n",
       "\n",
       "                                               review  \n",
       "10  Oh, This was wonderful!  Had a soup and salad ...  \n",
       "11  Wow!  My family loves this recipe and it is a ...  \n",
       "12  Excellent chowder.  This was the perfect warm-...  \n",
       "13  Oh, how wonderful!  I doubled the crab, and ad...  \n",
       "14  DH and I enjoyed this. However I used it only ...  "
      ]
     },
     "execution_count": 7,
     "metadata": {},
     "output_type": "execute_result"
    }
   ],
   "source": [
    "user_ratings_df.head()"
   ]
  },
  {
   "cell_type": "code",
   "execution_count": 39,
   "metadata": {
    "scrolled": false
   },
   "outputs": [],
   "source": [
    "#Clean the ingredients column so each row is a list of strings\n",
    "recipes_df[\"ingredients\"] = recipes_df[\"ingredients\"].str.replace(\"'\", \"\")\n",
    "recipes_df[\"ingredients\"] = recipes_df[\"ingredients\"].str.strip(\"[\")\n",
    "recipes_df[\"ingredients\"] = recipes_df[\"ingredients\"].str.strip(\"]\")\n",
    "recipes_df[\"ingredients\"] = recipes_df[\"ingredients\"].str.split(\", \")"
   ]
  },
  {
   "cell_type": "code",
   "execution_count": 40,
   "metadata": {
    "scrolled": true
   },
   "outputs": [],
   "source": [
    "#Clean the recipe_type column so each row is a list of strings\n",
    "recipes_df[\"recipe_type\"] = recipes_df[\"recipe_type\"].str.replace(\"'\", \"\")\n",
    "recipes_df[\"recipe_type\"] = recipes_df[\"recipe_type\"].str.strip(\"[\")\n",
    "recipes_df[\"recipe_type\"] = recipes_df[\"recipe_type\"].str.strip(\"]\")\n",
    "recipes_df[\"recipe_type\"] = recipes_df[\"recipe_type\"].str.split(\", \")"
   ]
  },
  {
   "cell_type": "markdown",
   "metadata": {},
   "source": [
    "## Setting up Surprise"
   ]
  },
  {
   "cell_type": "code",
   "execution_count": 41,
   "metadata": {},
   "outputs": [],
   "source": [
    "user_ratings_df[[\"user_id\", \"recipe_id\"]] = user_ratings_df[[\"user_id\", \"recipe_id\"]].astype(int)"
   ]
  },
  {
   "cell_type": "code",
   "execution_count": 42,
   "metadata": {},
   "outputs": [],
   "source": [
    "rating_surprise_df = user_ratings_df[[\"user_id\", \"recipe_id\", \"rating\"]]"
   ]
  },
  {
   "cell_type": "code",
   "execution_count": 43,
   "metadata": {},
   "outputs": [],
   "source": [
    "reader = Reader(rating_scale=(1, 5))\n",
    "surprise_data = Dataset.load_from_df(rating_surprise_df, reader)"
   ]
  },
  {
   "cell_type": "code",
   "execution_count": 44,
   "metadata": {},
   "outputs": [],
   "source": [
    "trainset_full = surprise_data.build_full_trainset()"
   ]
  },
  {
   "cell_type": "code",
   "execution_count": 45,
   "metadata": {},
   "outputs": [
    {
     "data": {
      "text/plain": [
       "<surprise.prediction_algorithms.matrix_factorization.SVD at 0x7fd0aaa004c0>"
      ]
     },
     "execution_count": 45,
     "metadata": {},
     "output_type": "execute_result"
    }
   ],
   "source": [
    "best_model = SVD(n_factors = 3,  n_epochs= 35, lr_all = .0025)\n",
    "best_model.fit(trainset_full)"
   ]
  },
  {
   "cell_type": "code",
   "execution_count": 32,
   "metadata": {},
   "outputs": [],
   "source": [
    "#best_model_file = open(\"best_model_file.pkl\", \"wb\")\n",
    "#joblib.dump(best_model, best_model_file)\n",
    "#best_model_file.close()"
   ]
  },
  {
   "cell_type": "code",
   "execution_count": 16,
   "metadata": {},
   "outputs": [],
   "source": [
    "# Pickle the Model\n",
    "#filename = \"best_model.sav\"\n",
    "#pickle.dump(best_model, open(filename, \"wb\"))"
   ]
  },
  {
   "cell_type": "code",
   "execution_count": 46,
   "metadata": {
    "scrolled": true
   },
   "outputs": [
    {
     "name": "stdout",
     "output_type": "stream",
     "text": [
      "<class 'pandas.core.frame.DataFrame'>\n",
      "Int64Index: 537267 entries, 56680 to 1122988\n",
      "Data columns (total 1 columns):\n",
      " #   Column     Non-Null Count   Dtype\n",
      "---  ------     --------------   -----\n",
      " 0   recipe_id  537267 non-null  int64\n",
      "dtypes: int64(1)\n",
      "memory usage: 8.2 MB\n"
     ]
    }
   ],
   "source": [
    "## Subset data frame to show reviewers the products they have rated \n",
    "\n",
    "prior_ratings_df = pd.DataFrame(user_ratings_df.set_index(\"user_id\"))\n",
    "prior_ratings_df.drop(columns=[\"date\", \"rating\", \"review\"], inplace=True)\n",
    "prior_ratings_df.info()\n"
   ]
  },
  {
   "cell_type": "markdown",
   "metadata": {},
   "source": [
    "## Creating Recommender Function "
   ]
  },
  {
   "cell_type": "code",
   "execution_count": 47,
   "metadata": {},
   "outputs": [],
   "source": [
    "# Create a new column that converts the list of ingredients to a set to improve efficiencies in the function\n",
    "recipes_df[\"set_ingredients\"] = recipes_df[\"ingredients\"].apply(lambda x: set(x))\n"
   ]
  },
  {
   "cell_type": "code",
   "execution_count": 48,
   "metadata": {},
   "outputs": [
    {
     "data": {
      "text/plain": [
       "set"
      ]
     },
     "execution_count": 48,
     "metadata": {},
     "output_type": "execute_result"
    }
   ],
   "source": [
    "# Sanity check\n",
    "type(recipes_df[\"set_ingredients\"][0])"
   ]
  },
  {
   "cell_type": "code",
   "execution_count": 88,
   "metadata": {},
   "outputs": [],
   "source": [
    "def recommended_recipes():\n",
    "    #set up to not truncate display\n",
    "    pd.set_option(\"display.max_colwidth\", None)\n",
    "    \n",
    "    # Set up user inputs \n",
    "    user = int(input(\"user_id: \"))\n",
    "    ingredient_request = input(\"What ingredients do you need to use?  \")\n",
    "    sub_cat_request = input(\"Recipe type? \")\n",
    "    num = int(input(\"How many recipes would you like to see? \"))\n",
    "    \n",
    "    # Set up dictionary to account for variations of ingredients \n",
    "    ingredient_variations = {\"chicken\" : [\"chicken\", \"chicken breast\"],\n",
    "                        \"tomato\": [\"tomato\", \"diced tomato\", \"crushed tomato\", \"chopped tomato\", \"heirloom tomato\"],\n",
    "                        \"onion\": [\"onion\",\"yellow onion\", \"red onion\", \"sweet onion\", \"vidailia onion\", \"chopped onion\", \"diced onion\"],\n",
    "                        \"garlic\": [\"garlic\", \"peeled garlic\", \"crushed garlic\", \"garlic clove\", \"garlic cloves\", \"head of garlic\", \"minced garlic\"],\n",
    "                        \"lettuce\": [\"lettuce\", \"lettuce leaf\", \"romaine lettuce\", \"red leaf lettuce\", \"garden lettuce\"],\n",
    "                        \"shallot\": [\"shallot\", \"diced shallot\", \"quartered shallot\", \"chopped shallot\"],\n",
    "                        \"potato\": [\"potato\", \"diced potato\", \"quartered potato\", \"mashed potato\", \"red potato\", \"yellow potato\", \"yukon gold potato\", \"gold potato\"],\n",
    "                        \"shrimp\": [\"shrimp\",\"raw shrimp\", \"deveined shrimp\", \"peeled shrimp\"],\n",
    "                        \"celery\": [\"celery\", \"rib of celery\", \"chopped celery\"],\n",
    "                        \"bell pepper\": [\"bell pepper\", \"green bell pepper\", \"red bell pepper\", \"diced pepper\", \"chopped pepper\"]\n",
    "                        }\n",
    "    \n",
    "    \n",
    "    # Set up a list for each user of recipes alredy reviewed \n",
    "    reviewed = list(prior_ratings_df.loc[user,\"recipe_id\"])\n",
    "    \n",
    "    # Create a data frame that does not include recipes already reviewed \n",
    "    not_reviewed = recipes_df.copy()\n",
    "    not_reviewed = not_reviewed[not_reviewed.recipe_id.isin(reviewed) == False]\n",
    "    not_reviewed.reset_index(inplace=True)\n",
    "            \n",
    "            \n",
    "    # Iterate through each row using a for loop to create list that contains recipe_ids tht match ingredient and type\n",
    "    # Create the empty list of recipes\n",
    "    recipes_w_ingredient_subcat = []\n",
    "    #Set ingredient_request equal to the values in dict if ingredient_request is a key, if not set equal to itself\n",
    "    #ingredient_request = ingredient_variations.get(ingredient_request, str(ingredient_request))\n",
    "    #ingredient_request = set(ingredient_request)\n",
    "    ingredient_request = ingredient_variations.get(ingredient_request, set([ingredient_request]))\n",
    "    if type(ingredient_request) != set: \n",
    "        ingredient_request = set(ingredient_request)\n",
    "    #loop through recipes finding where ingredient_request matches with set_ingredients and recipe_type\n",
    "    for index, row in recipes_df.iterrows():\n",
    "        if ingredient_request.intersection(row[\"set_ingredients\"]) and sub_cat_request in row[\"recipe_type\"]:\n",
    "            recipes_w_ingredient_subcat.append(row[\"recipe_id\"])\n",
    "    \n",
    "    # Create a copy of not_reviewed df that only contains recipe_ids that are in the recipe_w_ingredient_subcat list\n",
    "    ingredient_recipes = not_reviewed.copy()\n",
    "    ingredient_recipes = ingredient_recipes[ingredient_recipes.recipe_id.isin(recipes_w_ingredient_subcat)]\n",
    "    ingredient_recipes.reset_index(inplace=True)\n",
    "    \n",
    "\n",
    "    # Create predicted rating for each recipe_id using the best_model, sort by highest rating\n",
    "    ingredient_recipes[\"predicted_rating\"] = ingredient_recipes[\"recipe_id\"].apply(lambda x: best_model.predict(int(user), x).est)\n",
    "    ingredient_recipes.sort_values(by=\"predicted_rating\", ascending=False, inplace=True)\n",
    "    ingredient_recipes = ingredient_recipes[[\"name\", \"minutes\", \"ingredients\", \"recipe_type\", \"predicted_rating\"]] \n",
    "    \n",
    "    return ingredient_recipes.head(num)\n",
    "    \n",
    "    "
   ]
  },
  {
   "cell_type": "markdown",
   "metadata": {},
   "source": [
    "Now let's test out the function using the same user with a user_id = 462571 and see the different results for the ingredient tomato based on the recipe type. Note that the dictionary of ingredient_variations has worked as the results include recipes with chopped tomato, diced tomoato, etc. "
   ]
  },
  {
   "cell_type": "code",
   "execution_count": 50,
   "metadata": {
    "scrolled": true
   },
   "outputs": [
    {
     "name": "stdout",
     "output_type": "stream",
     "text": [
      "user_id: 462571\n",
      "What ingredients do you need to use?  tomato\n",
      "Recipe type? vegetarian\n",
      "How many recipes would you like to see? 4\n"
     ]
    },
    {
     "data": {
      "text/html": [
       "<div>\n",
       "<style scoped>\n",
       "    .dataframe tbody tr th:only-of-type {\n",
       "        vertical-align: middle;\n",
       "    }\n",
       "\n",
       "    .dataframe tbody tr th {\n",
       "        vertical-align: top;\n",
       "    }\n",
       "\n",
       "    .dataframe thead th {\n",
       "        text-align: right;\n",
       "    }\n",
       "</style>\n",
       "<table border=\"1\" class=\"dataframe\">\n",
       "  <thead>\n",
       "    <tr style=\"text-align: right;\">\n",
       "      <th></th>\n",
       "      <th>name</th>\n",
       "      <th>minutes</th>\n",
       "      <th>ingredients</th>\n",
       "      <th>recipe_type</th>\n",
       "      <th>predicted_rating</th>\n",
       "    </tr>\n",
       "  </thead>\n",
       "  <tbody>\n",
       "    <tr>\n",
       "      <th>285</th>\n",
       "      <td>three cheese enchiladas</td>\n",
       "      <td>40</td>\n",
       "      <td>[monterey jack cheese, cheddar cheese, cream cheese, pace picante sauce, red bell pepper, green onion, cumin, flour tortillas, lettuce, chopped tomato]</td>\n",
       "      <td>[vegetarian, any]</td>\n",
       "      <td>4.513537</td>\n",
       "    </tr>\n",
       "    <tr>\n",
       "      <th>149</th>\n",
       "      <td>layered hummus dip</td>\n",
       "      <td>15</td>\n",
       "      <td>[hummus, cumin, chopped tomato, garlic salt, cucumber, fresh ground pepper, feta cheese, kalamata olives, parsley]</td>\n",
       "      <td>[vegetarian, any, low cal, low carb]</td>\n",
       "      <td>4.508063</td>\n",
       "    </tr>\n",
       "    <tr>\n",
       "      <th>113</th>\n",
       "      <td>garbanzo bean salad with feta cheese</td>\n",
       "      <td>15</td>\n",
       "      <td>[garbanzo beans, seedless cucumber, chopped tomato, red onion, olive oil, red wine vinegar, capers, fresh parsley, dried oregano, salt and pepper, feta cheese, kalamata olive]</td>\n",
       "      <td>[vegetarian, any, low cal, low carb]</td>\n",
       "      <td>4.485478</td>\n",
       "    </tr>\n",
       "    <tr>\n",
       "      <th>57</th>\n",
       "      <td>chili cheese omelette burritos</td>\n",
       "      <td>15</td>\n",
       "      <td>[chili, cheddar cheese, eggs, water, salt and pepper, butter, flour tortillas, onion, diced tomato, sour cream, salsa]</td>\n",
       "      <td>[vegetarian, any, low carb]</td>\n",
       "      <td>4.483624</td>\n",
       "    </tr>\n",
       "  </tbody>\n",
       "</table>\n",
       "</div>"
      ],
      "text/plain": [
       "                                     name  minutes  \\\n",
       "285               three cheese enchiladas       40   \n",
       "149                    layered hummus dip       15   \n",
       "113  garbanzo bean salad with feta cheese       15   \n",
       "57         chili cheese omelette burritos       15   \n",
       "\n",
       "                                                                                                                                                                         ingredients  \\\n",
       "285                          [monterey jack cheese, cheddar cheese, cream cheese, pace picante sauce, red bell pepper, green onion, cumin, flour tortillas, lettuce, chopped tomato]   \n",
       "149                                                               [hummus, cumin, chopped tomato, garlic salt, cucumber, fresh ground pepper, feta cheese, kalamata olives, parsley]   \n",
       "113  [garbanzo beans, seedless cucumber, chopped tomato, red onion, olive oil, red wine vinegar, capers, fresh parsley, dried oregano, salt and pepper, feta cheese, kalamata olive]   \n",
       "57                                                            [chili, cheddar cheese, eggs, water, salt and pepper, butter, flour tortillas, onion, diced tomato, sour cream, salsa]   \n",
       "\n",
       "                              recipe_type  predicted_rating  \n",
       "285                     [vegetarian, any]          4.513537  \n",
       "149  [vegetarian, any, low cal, low carb]          4.508063  \n",
       "113  [vegetarian, any, low cal, low carb]          4.485478  \n",
       "57            [vegetarian, any, low carb]          4.483624  "
      ]
     },
     "execution_count": 50,
     "metadata": {},
     "output_type": "execute_result"
    }
   ],
   "source": [
    "recommended_recipes()"
   ]
  },
  {
   "cell_type": "code",
   "execution_count": 51,
   "metadata": {},
   "outputs": [
    {
     "name": "stdout",
     "output_type": "stream",
     "text": [
      "user_id: 462571\n",
      "What ingredients do you need to use?  tomato\n",
      "Recipe type? not vegetarian\n",
      "How many recipes would you like to see? 4\n"
     ]
    },
    {
     "data": {
      "text/html": [
       "<div>\n",
       "<style scoped>\n",
       "    .dataframe tbody tr th:only-of-type {\n",
       "        vertical-align: middle;\n",
       "    }\n",
       "\n",
       "    .dataframe tbody tr th {\n",
       "        vertical-align: top;\n",
       "    }\n",
       "\n",
       "    .dataframe thead th {\n",
       "        text-align: right;\n",
       "    }\n",
       "</style>\n",
       "<table border=\"1\" class=\"dataframe\">\n",
       "  <thead>\n",
       "    <tr style=\"text-align: right;\">\n",
       "      <th></th>\n",
       "      <th>name</th>\n",
       "      <th>minutes</th>\n",
       "      <th>ingredients</th>\n",
       "      <th>recipe_type</th>\n",
       "      <th>predicted_rating</th>\n",
       "    </tr>\n",
       "  </thead>\n",
       "  <tbody>\n",
       "    <tr>\n",
       "      <th>152</th>\n",
       "      <td>dorito taco salad</td>\n",
       "      <td>20</td>\n",
       "      <td>[ground beef, lettuce, chopped tomato, cheddar cheese, red onion, taco seasoning, ranch style beans, catalina dressing, doritos]</td>\n",
       "      <td>[any, not vegetarian]</td>\n",
       "      <td>4.514272</td>\n",
       "    </tr>\n",
       "    <tr>\n",
       "      <th>363</th>\n",
       "      <td>quesadillas for one or two</td>\n",
       "      <td>15</td>\n",
       "      <td>[oil, flour tortillas, cheddar cheese, chopped tomato, green chili, guacamole, green onion, green bell pepper, black olives, sour cream, salsa, refried beans, chicken, turkey, ham, beef, crabmeat, shrimp]</td>\n",
       "      <td>[any, low cal, low carb, not vegetarian]</td>\n",
       "      <td>4.502716</td>\n",
       "    </tr>\n",
       "    <tr>\n",
       "      <th>215</th>\n",
       "      <td>great white chili  supposed to be by willie nelson</td>\n",
       "      <td>270</td>\n",
       "      <td>[white beans, chicken broth, chicken base, onions, oil, garlic, diced green chilies, ground cumin, dried oregano leaves, cayenne pepper, cilantro, cooked chicken, sour cream, monterey jack cheese, green onion, chopped tomato]</td>\n",
       "      <td>[any, not vegetarian]</td>\n",
       "      <td>4.495441</td>\n",
       "    </tr>\n",
       "    <tr>\n",
       "      <th>438</th>\n",
       "      <td>steak  or chicken  fajitas</td>\n",
       "      <td>20</td>\n",
       "      <td>[top sirloin steak, olive oil, lime juice, garlic clove, chili powder, cumin, hot pepper flakes, black pepper, salt, flour tortillas, onion, sweet peppers, salsa, sour cream, cheese, chopped tomato]</td>\n",
       "      <td>[any, low cal, low carb, not vegetarian]</td>\n",
       "      <td>4.488345</td>\n",
       "    </tr>\n",
       "  </tbody>\n",
       "</table>\n",
       "</div>"
      ],
      "text/plain": [
       "                                                   name  minutes  \\\n",
       "152                                   dorito taco salad       20   \n",
       "363                          quesadillas for one or two       15   \n",
       "215  great white chili  supposed to be by willie nelson      270   \n",
       "438                          steak  or chicken  fajitas       20   \n",
       "\n",
       "                                                                                                                                                                                                                           ingredients  \\\n",
       "152                                                                                                   [ground beef, lettuce, chopped tomato, cheddar cheese, red onion, taco seasoning, ranch style beans, catalina dressing, doritos]   \n",
       "363                       [oil, flour tortillas, cheddar cheese, chopped tomato, green chili, guacamole, green onion, green bell pepper, black olives, sour cream, salsa, refried beans, chicken, turkey, ham, beef, crabmeat, shrimp]   \n",
       "215  [white beans, chicken broth, chicken base, onions, oil, garlic, diced green chilies, ground cumin, dried oregano leaves, cayenne pepper, cilantro, cooked chicken, sour cream, monterey jack cheese, green onion, chopped tomato]   \n",
       "438                             [top sirloin steak, olive oil, lime juice, garlic clove, chili powder, cumin, hot pepper flakes, black pepper, salt, flour tortillas, onion, sweet peppers, salsa, sour cream, cheese, chopped tomato]   \n",
       "\n",
       "                                  recipe_type  predicted_rating  \n",
       "152                     [any, not vegetarian]          4.514272  \n",
       "363  [any, low cal, low carb, not vegetarian]          4.502716  \n",
       "215                     [any, not vegetarian]          4.495441  \n",
       "438  [any, low cal, low carb, not vegetarian]          4.488345  "
      ]
     },
     "execution_count": 51,
     "metadata": {},
     "output_type": "execute_result"
    }
   ],
   "source": [
    "recommended_recipes()"
   ]
  },
  {
   "cell_type": "markdown",
   "metadata": {},
   "source": [
    "We can also run the function with different recipe ingredients for this user and see how the recommendations change. Let's try with chicken and beef and allow the subcategory to be equal to \"any\" - meaning any recipe type is allowed. "
   ]
  },
  {
   "cell_type": "code",
   "execution_count": 52,
   "metadata": {},
   "outputs": [
    {
     "name": "stdout",
     "output_type": "stream",
     "text": [
      "user_id: 462571\n",
      "What ingredients do you need to use?  chicken\n",
      "Recipe type? any\n",
      "How many recipes would you like to see? 4\n"
     ]
    },
    {
     "data": {
      "text/html": [
       "<div>\n",
       "<style scoped>\n",
       "    .dataframe tbody tr th:only-of-type {\n",
       "        vertical-align: middle;\n",
       "    }\n",
       "\n",
       "    .dataframe tbody tr th {\n",
       "        vertical-align: top;\n",
       "    }\n",
       "\n",
       "    .dataframe thead th {\n",
       "        text-align: right;\n",
       "    }\n",
       "</style>\n",
       "<table border=\"1\" class=\"dataframe\">\n",
       "  <thead>\n",
       "    <tr style=\"text-align: right;\">\n",
       "      <th></th>\n",
       "      <th>name</th>\n",
       "      <th>minutes</th>\n",
       "      <th>ingredients</th>\n",
       "      <th>recipe_type</th>\n",
       "      <th>predicted_rating</th>\n",
       "    </tr>\n",
       "  </thead>\n",
       "  <tbody>\n",
       "    <tr>\n",
       "      <th>399</th>\n",
       "      <td>chicken and cheese french bread pizza</td>\n",
       "      <td>30</td>\n",
       "      <td>[butter, cheddar cheese, parmesan cheese, garlic, dried italian seasoning, french bread, chicken, salt, pepper, mozzarella cheese, red bell pepper, green onion]</td>\n",
       "      <td>[any, not vegetarian]</td>\n",
       "      <td>4.566741</td>\n",
       "    </tr>\n",
       "    <tr>\n",
       "      <th>976</th>\n",
       "      <td>couscous jambalaya</td>\n",
       "      <td>40</td>\n",
       "      <td>[raw shrimp, chicken breast, creole seasoning, olive oil, andouille sausages, onion, green bell pepper, celery, garlic, italian plum tomato, bay leaves, worcestershire sauce, hot pepper sauce, chicken stock, salt, fresh ground black pepper, couscous, paprika, garlic powder, black pepper, onion powder, cayenne pepper, dried oregano leaves, dried leaf thyme]</td>\n",
       "      <td>[any, low cal, not vegetarian]</td>\n",
       "      <td>4.549372</td>\n",
       "    </tr>\n",
       "    <tr>\n",
       "      <th>96</th>\n",
       "      <td>autumn chicken salad</td>\n",
       "      <td>20</td>\n",
       "      <td>[chicken, red seedless grapes, celery ribs, red delicious apple, pecan halves, mayonnaise, honey mustard, salt, pepper, lettuce leaf]</td>\n",
       "      <td>[any, low cal, low carb, not vegetarian]</td>\n",
       "      <td>4.528772</td>\n",
       "    </tr>\n",
       "    <tr>\n",
       "      <th>107</th>\n",
       "      <td>b stilla</td>\n",
       "      <td>130</td>\n",
       "      <td>[butter, chicken, parsley, onion, saffron thread, whole almond, icing sugar, eggs, pepper, cinnamon, phyllo pastry]</td>\n",
       "      <td>[any, not vegetarian]</td>\n",
       "      <td>4.518940</td>\n",
       "    </tr>\n",
       "  </tbody>\n",
       "</table>\n",
       "</div>"
      ],
      "text/plain": [
       "                                      name  minutes  \\\n",
       "399  chicken and cheese french bread pizza       30   \n",
       "976                     couscous jambalaya       40   \n",
       "96                    autumn chicken salad       20   \n",
       "107                               b stilla      130   \n",
       "\n",
       "                                                                                                                                                                                                                                                                                                                                                                ingredients  \\\n",
       "399                                                                                                                                                                                                        [butter, cheddar cheese, parmesan cheese, garlic, dried italian seasoning, french bread, chicken, salt, pepper, mozzarella cheese, red bell pepper, green onion]   \n",
       "976  [raw shrimp, chicken breast, creole seasoning, olive oil, andouille sausages, onion, green bell pepper, celery, garlic, italian plum tomato, bay leaves, worcestershire sauce, hot pepper sauce, chicken stock, salt, fresh ground black pepper, couscous, paprika, garlic powder, black pepper, onion powder, cayenne pepper, dried oregano leaves, dried leaf thyme]   \n",
       "96                                                                                                                                                                                                                                    [chicken, red seedless grapes, celery ribs, red delicious apple, pecan halves, mayonnaise, honey mustard, salt, pepper, lettuce leaf]   \n",
       "107                                                                                                                                                                                                                                                     [butter, chicken, parsley, onion, saffron thread, whole almond, icing sugar, eggs, pepper, cinnamon, phyllo pastry]   \n",
       "\n",
       "                                  recipe_type  predicted_rating  \n",
       "399                     [any, not vegetarian]          4.566741  \n",
       "976            [any, low cal, not vegetarian]          4.549372  \n",
       "96   [any, low cal, low carb, not vegetarian]          4.528772  \n",
       "107                     [any, not vegetarian]          4.518940  "
      ]
     },
     "execution_count": 52,
     "metadata": {},
     "output_type": "execute_result"
    }
   ],
   "source": [
    "recommended_recipes()"
   ]
  },
  {
   "cell_type": "code",
   "execution_count": 87,
   "metadata": {
    "scrolled": false
   },
   "outputs": [
    {
     "name": "stdout",
     "output_type": "stream",
     "text": [
      "user_id: 462571\n",
      "What ingredients do you need to use?  beef\n",
      "Recipe type? any\n",
      "How many recipes would you like to see? 4\n"
     ]
    },
    {
     "data": {
      "text/html": [
       "<div>\n",
       "<style scoped>\n",
       "    .dataframe tbody tr th:only-of-type {\n",
       "        vertical-align: middle;\n",
       "    }\n",
       "\n",
       "    .dataframe tbody tr th {\n",
       "        vertical-align: top;\n",
       "    }\n",
       "\n",
       "    .dataframe thead th {\n",
       "        text-align: right;\n",
       "    }\n",
       "</style>\n",
       "<table border=\"1\" class=\"dataframe\">\n",
       "  <thead>\n",
       "    <tr style=\"text-align: right;\">\n",
       "      <th></th>\n",
       "      <th>name</th>\n",
       "      <th>minutes</th>\n",
       "      <th>ingredients</th>\n",
       "      <th>recipe_type</th>\n",
       "      <th>predicted_rating</th>\n",
       "    </tr>\n",
       "  </thead>\n",
       "  <tbody>\n",
       "    <tr>\n",
       "      <th>316</th>\n",
       "      <td>homemade stock</td>\n",
       "      <td>125</td>\n",
       "      <td>[water, bay leaf, peppercorns, oregano, thyme, basil, dill, salt, onion, carrot, broccoli stem, spinach leaves, fresh parsley, celery, green beans, tomatoes, mushroom, garlic cloves, shallot, leek, turnip, chicken piece, beef]</td>\n",
       "      <td>[any, low cal, low carb, not vegetarian]</td>\n",
       "      <td>4.529465</td>\n",
       "    </tr>\n",
       "    <tr>\n",
       "      <th>88</th>\n",
       "      <td>beef ramen stir fry</td>\n",
       "      <td>20</td>\n",
       "      <td>[beef, red bell pepper, green bell pepper, ramen noodles, snow peas, broccoli, teriyaki sauce, vegetable oil, garlic powder, ginger powder]</td>\n",
       "      <td>[any, low carb, not vegetarian]</td>\n",
       "      <td>4.527217</td>\n",
       "    </tr>\n",
       "    <tr>\n",
       "      <th>458</th>\n",
       "      <td>quesadillas for one or two</td>\n",
       "      <td>15</td>\n",
       "      <td>[oil, flour tortillas, cheddar cheese, chopped tomato, green chili, guacamole, green onion, green bell pepper, black olives, sour cream, salsa, refried beans, chicken, turkey, ham, beef, crabmeat, shrimp]</td>\n",
       "      <td>[any, low cal, low carb, not vegetarian]</td>\n",
       "      <td>4.502716</td>\n",
       "    </tr>\n",
       "    <tr>\n",
       "      <th>304</th>\n",
       "      <td>hash</td>\n",
       "      <td>20</td>\n",
       "      <td>[potatoes, onion, beef, salt and pepper, vegetable oil, butter]</td>\n",
       "      <td>[any, not vegetarian]</td>\n",
       "      <td>4.494467</td>\n",
       "    </tr>\n",
       "  </tbody>\n",
       "</table>\n",
       "</div>"
      ],
      "text/plain": [
       "                           name  minutes  \\\n",
       "316              homemade stock      125   \n",
       "88          beef ramen stir fry       20   \n",
       "458  quesadillas for one or two       15   \n",
       "304                        hash       20   \n",
       "\n",
       "                                                                                                                                                                                                                            ingredients  \\\n",
       "316  [water, bay leaf, peppercorns, oregano, thyme, basil, dill, salt, onion, carrot, broccoli stem, spinach leaves, fresh parsley, celery, green beans, tomatoes, mushroom, garlic cloves, shallot, leek, turnip, chicken piece, beef]   \n",
       "88                                                                                          [beef, red bell pepper, green bell pepper, ramen noodles, snow peas, broccoli, teriyaki sauce, vegetable oil, garlic powder, ginger powder]   \n",
       "458                        [oil, flour tortillas, cheddar cheese, chopped tomato, green chili, guacamole, green onion, green bell pepper, black olives, sour cream, salsa, refried beans, chicken, turkey, ham, beef, crabmeat, shrimp]   \n",
       "304                                                                                                                                                                     [potatoes, onion, beef, salt and pepper, vegetable oil, butter]   \n",
       "\n",
       "                                  recipe_type  predicted_rating  \n",
       "316  [any, low cal, low carb, not vegetarian]          4.529465  \n",
       "88            [any, low carb, not vegetarian]          4.527217  \n",
       "458  [any, low cal, low carb, not vegetarian]          4.502716  \n",
       "304                     [any, not vegetarian]          4.494467  "
      ]
     },
     "execution_count": 87,
     "metadata": {},
     "output_type": "execute_result"
    }
   ],
   "source": [
    "recommended_recipes()"
   ]
  }
 ],
 "metadata": {
  "kernelspec": {
   "display_name": "Python (learn-env)",
   "language": "python",
   "name": "learn-env"
  },
  "language_info": {
   "codemirror_mode": {
    "name": "ipython",
    "version": 3
   },
   "file_extension": ".py",
   "mimetype": "text/x-python",
   "name": "python",
   "nbconvert_exporter": "python",
   "pygments_lexer": "ipython3",
   "version": "3.8.5"
  }
 },
 "nbformat": 4,
 "nbformat_minor": 4
}
