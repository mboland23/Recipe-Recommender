{
 "cells": [
  {
   "cell_type": "code",
   "execution_count": 1,
   "metadata": {},
   "outputs": [],
   "source": [
    "import pandas as pd\n",
    "import pickle\n",
    "import matplotlib.pyplot as plt\n",
    "import seaborn as sns\n",
    "import numpy as np\n",
    "\n",
    "from sklearn.model_selection import train_test_split\n",
    "from sklearn.impute import KNNImputer\n",
    "from sklearn.feature_extraction.text import TfidfVectorizer\n",
    "from sklearn.feature_extraction.text import CountVectorizer\n",
    "from sklearn.metrics.pairwise import cosine_similarity\n",
    "\n",
    "from surprise import Dataset, Reader, accuracy, NormalPredictor, KNNBasic, KNNWithMeans, KNNWithZScore, KNNBaseline, SVD, BaselineOnly, SVDpp, NMF, SlopeOne, CoClustering\n",
    "from surprise.accuracy import rmse\n",
    "from surprise.prediction_algorithms import SVD, SVDpp, NMF, BaselineOnly, NormalPredictor\n",
    "from IPython.core.display import HTML\n",
    "\n",
    "from nltk.stem.wordnet import WordNetLemmatizer\n",
    "from nltk.tokenize import RegexpTokenizer\n",
    "from nltk import FreqDist\n",
    "from nltk import word_tokenize\n",
    "from nltk.corpus import stopwords\n",
    "import string\n",
    "from nltk.collocations import *\n",
    "import re\n",
    "import nltk\n",
    "\n",
    "%matplotlib inline"
   ]
  },
  {
   "cell_type": "code",
   "execution_count": 2,
   "metadata": {},
   "outputs": [],
   "source": [
    "user_reviews_df = pd.read_csv(\"./Data/user_reviews.csv\")"
   ]
  },
  {
   "cell_type": "code",
   "execution_count": 3,
   "metadata": {},
   "outputs": [
    {
     "name": "stdout",
     "output_type": "stream",
     "text": [
      "<class 'pandas.core.frame.DataFrame'>\n",
      "RangeIndex: 598158 entries, 0 to 598157\n",
      "Data columns (total 6 columns):\n",
      " #   Column      Non-Null Count   Dtype \n",
      "---  ------      --------------   ----- \n",
      " 0   Unnamed: 0  598158 non-null  int64 \n",
      " 1   user_id     598158 non-null  int64 \n",
      " 2   recipe_id   598158 non-null  int64 \n",
      " 3   date        598158 non-null  object\n",
      " 4   rating      598158 non-null  int64 \n",
      " 5   review      598154 non-null  object\n",
      "dtypes: int64(4), object(2)\n",
      "memory usage: 27.4+ MB\n"
     ]
    }
   ],
   "source": [
    "# Looking at the data from the \n",
    "user_reviews_df.info()"
   ]
  },
  {
   "cell_type": "code",
   "execution_count": 4,
   "metadata": {},
   "outputs": [],
   "source": [
    "#Drop 4 missing reviews\n",
    "user_reviews_df.dropna(inplace=True)"
   ]
  },
  {
   "cell_type": "code",
   "execution_count": 5,
   "metadata": {},
   "outputs": [
    {
     "data": {
      "text/html": [
       "<div>\n",
       "<style scoped>\n",
       "    .dataframe tbody tr th:only-of-type {\n",
       "        vertical-align: middle;\n",
       "    }\n",
       "\n",
       "    .dataframe tbody tr th {\n",
       "        vertical-align: top;\n",
       "    }\n",
       "\n",
       "    .dataframe thead th {\n",
       "        text-align: right;\n",
       "    }\n",
       "</style>\n",
       "<table border=\"1\" class=\"dataframe\">\n",
       "  <thead>\n",
       "    <tr style=\"text-align: right;\">\n",
       "      <th></th>\n",
       "      <th>user_id</th>\n",
       "      <th>recipe_id</th>\n",
       "      <th>date</th>\n",
       "      <th>rating</th>\n",
       "      <th>review</th>\n",
       "    </tr>\n",
       "  </thead>\n",
       "  <tbody>\n",
       "    <tr>\n",
       "      <th>0</th>\n",
       "      <td>76535</td>\n",
       "      <td>134728</td>\n",
       "      <td>2005-09-02</td>\n",
       "      <td>4</td>\n",
       "      <td>Very good!</td>\n",
       "    </tr>\n",
       "    <tr>\n",
       "      <th>1</th>\n",
       "      <td>190375</td>\n",
       "      <td>134728</td>\n",
       "      <td>2007-03-09</td>\n",
       "      <td>5</td>\n",
       "      <td>These taste absolutely wonderful!!  My son-in-...</td>\n",
       "    </tr>\n",
       "    <tr>\n",
       "      <th>2</th>\n",
       "      <td>468945</td>\n",
       "      <td>134728</td>\n",
       "      <td>2008-02-20</td>\n",
       "      <td>0</td>\n",
       "      <td>Made my own buttermilk w/ vinegar and milk.  U...</td>\n",
       "    </tr>\n",
       "    <tr>\n",
       "      <th>3</th>\n",
       "      <td>255338</td>\n",
       "      <td>134728</td>\n",
       "      <td>2008-04-11</td>\n",
       "      <td>5</td>\n",
       "      <td>First time using liquid smoke in a recipe. Mad...</td>\n",
       "    </tr>\n",
       "    <tr>\n",
       "      <th>4</th>\n",
       "      <td>1171894</td>\n",
       "      <td>134728</td>\n",
       "      <td>2009-04-21</td>\n",
       "      <td>5</td>\n",
       "      <td>MMMMM! This is so good! I actually soaked the ...</td>\n",
       "    </tr>\n",
       "    <tr>\n",
       "      <th>...</th>\n",
       "      <td>...</td>\n",
       "      <td>...</td>\n",
       "      <td>...</td>\n",
       "      <td>...</td>\n",
       "      <td>...</td>\n",
       "    </tr>\n",
       "    <tr>\n",
       "      <th>598153</th>\n",
       "      <td>496803</td>\n",
       "      <td>249924</td>\n",
       "      <td>2011-08-21</td>\n",
       "      <td>5</td>\n",
       "      <td>I really loved this!  I cut the recipe back to...</td>\n",
       "    </tr>\n",
       "    <tr>\n",
       "      <th>598154</th>\n",
       "      <td>143592</td>\n",
       "      <td>82303</td>\n",
       "      <td>2010-07-26</td>\n",
       "      <td>5</td>\n",
       "      <td>I will never buy hot fudge again. This is so q...</td>\n",
       "    </tr>\n",
       "    <tr>\n",
       "      <th>598155</th>\n",
       "      <td>140132</td>\n",
       "      <td>82303</td>\n",
       "      <td>2010-10-01</td>\n",
       "      <td>5</td>\n",
       "      <td>This is fabulous.  I made it for our dessert t...</td>\n",
       "    </tr>\n",
       "    <tr>\n",
       "      <th>598156</th>\n",
       "      <td>199020</td>\n",
       "      <td>82303</td>\n",
       "      <td>2013-03-18</td>\n",
       "      <td>5</td>\n",
       "      <td>5 stars for taste! I had a hard time getting m...</td>\n",
       "    </tr>\n",
       "    <tr>\n",
       "      <th>598157</th>\n",
       "      <td>1122988</td>\n",
       "      <td>82303</td>\n",
       "      <td>2014-07-08</td>\n",
       "      <td>5</td>\n",
       "      <td>This was amazingly delicious!  The only change...</td>\n",
       "    </tr>\n",
       "  </tbody>\n",
       "</table>\n",
       "<p>598154 rows × 5 columns</p>\n",
       "</div>"
      ],
      "text/plain": [
       "        user_id  recipe_id        date  rating  \\\n",
       "0         76535     134728  2005-09-02       4   \n",
       "1        190375     134728  2007-03-09       5   \n",
       "2        468945     134728  2008-02-20       0   \n",
       "3        255338     134728  2008-04-11       5   \n",
       "4       1171894     134728  2009-04-21       5   \n",
       "...         ...        ...         ...     ...   \n",
       "598153   496803     249924  2011-08-21       5   \n",
       "598154   143592      82303  2010-07-26       5   \n",
       "598155   140132      82303  2010-10-01       5   \n",
       "598156   199020      82303  2013-03-18       5   \n",
       "598157  1122988      82303  2014-07-08       5   \n",
       "\n",
       "                                                   review  \n",
       "0                                              Very good!  \n",
       "1       These taste absolutely wonderful!!  My son-in-...  \n",
       "2       Made my own buttermilk w/ vinegar and milk.  U...  \n",
       "3       First time using liquid smoke in a recipe. Mad...  \n",
       "4       MMMMM! This is so good! I actually soaked the ...  \n",
       "...                                                   ...  \n",
       "598153  I really loved this!  I cut the recipe back to...  \n",
       "598154  I will never buy hot fudge again. This is so q...  \n",
       "598155  This is fabulous.  I made it for our dessert t...  \n",
       "598156  5 stars for taste! I had a hard time getting m...  \n",
       "598157  This was amazingly delicious!  The only change...  \n",
       "\n",
       "[598154 rows x 5 columns]"
      ]
     },
     "execution_count": 5,
     "metadata": {},
     "output_type": "execute_result"
    }
   ],
   "source": [
    "# Drop Unnamed: 0 column\n",
    "user_reviews_df.drop(\"Unnamed: 0\", axis=1, inplace=True)\n",
    "user_reviews_df"
   ]
  },
  {
   "cell_type": "code",
   "execution_count": 6,
   "metadata": {},
   "outputs": [
    {
     "name": "stdout",
     "output_type": "stream",
     "text": [
      "<class 'pandas.core.frame.DataFrame'>\n",
      "Int64Index: 598154 entries, 0 to 598157\n",
      "Data columns (total 5 columns):\n",
      " #   Column     Non-Null Count   Dtype \n",
      "---  ------     --------------   ----- \n",
      " 0   user_id    598154 non-null  int64 \n",
      " 1   recipe_id  598154 non-null  int64 \n",
      " 2   date       598154 non-null  object\n",
      " 3   rating     598154 non-null  int64 \n",
      " 4   review     598154 non-null  object\n",
      "dtypes: int64(3), object(2)\n",
      "memory usage: 27.4+ MB\n"
     ]
    }
   ],
   "source": [
    "#Check no missing values\n",
    "user_reviews_df.info()"
   ]
  },
  {
   "cell_type": "code",
   "execution_count": 7,
   "metadata": {},
   "outputs": [],
   "source": [
    "#Turn user_id, recipe_id to string\n",
    "user_reviews_df[\"review\"] = user_reviews_df[\"review\"].astype(str)\n",
    "user_reviews_df[\"user_id\"] = user_reviews_df[\"user_id\"].astype(str)\n",
    "user_reviews_df[\"recipe_id\"] = user_reviews_df[\"recipe_id\"].astype(str)"
   ]
  },
  {
   "cell_type": "code",
   "execution_count": 9,
   "metadata": {},
   "outputs": [],
   "source": [
    "#Turn rating into a float\n",
    "user_reviews_df[\"rating\"] = user_reviews_df[\"rating\"].astype(float)"
   ]
  },
  {
   "cell_type": "code",
   "execution_count": 10,
   "metadata": {},
   "outputs": [
    {
     "name": "stdout",
     "output_type": "stream",
     "text": [
      "<class 'pandas.core.frame.DataFrame'>\n",
      "Int64Index: 598154 entries, 0 to 598157\n",
      "Data columns (total 5 columns):\n",
      " #   Column     Non-Null Count   Dtype  \n",
      "---  ------     --------------   -----  \n",
      " 0   user_id    598154 non-null  object \n",
      " 1   recipe_id  598154 non-null  object \n",
      " 2   date       598154 non-null  object \n",
      " 3   rating     598154 non-null  float64\n",
      " 4   review     598154 non-null  object \n",
      "dtypes: float64(1), object(4)\n",
      "memory usage: 27.4+ MB\n"
     ]
    }
   ],
   "source": [
    "#Check that the changes worked\n",
    "user_reviews_df.info()"
   ]
  },
  {
   "cell_type": "markdown",
   "metadata": {},
   "source": [
    "## Visualizing Rating Data"
   ]
  },
  {
   "cell_type": "code",
   "execution_count": 12,
   "metadata": {},
   "outputs": [
    {
     "data": {
      "image/png": "[encoded data removed]",
      "text/plain": [
       "<Figure size 432x288 with 1 Axes>"
      ]
     },
     "metadata": {
      "needs_background": "light"
     },
     "output_type": "display_data"
    }
   ],
   "source": [
    "#Creating a bar chart to see the distribution of ratings\n",
    "rating_count = user_reviews_df[\"rating\"].value_counts().sort_index(ascending=False)\n",
    "\n",
    "plt.bar(rating_count.index, rating_count.values);"
   ]
  },
  {
   "cell_type": "code",
   "execution_count": 15,
   "metadata": {},
   "outputs": [
    {
     "data": {
      "text/plain": [
       "5.0    460937\n",
       "4.0     95038\n",
       "3.0     19168\n",
       "2.0      5548\n",
       "1.0      2770\n",
       "0.0     14693\n",
       "Name: rating, dtype: int64"
      ]
     },
     "execution_count": 15,
     "metadata": {},
     "output_type": "execute_result"
    }
   ],
   "source": [
    "rating_count"
   ]
  },
  {
   "cell_type": "markdown",
   "metadata": {},
   "source": [
    "77% of our new dataset includes 5 star reviews, which heavily skews the data and will affect the recommendation portal. \n",
    "\n",
    "We also notice that 2.4% of our dataset includes a 0 rating. It would be important to see if these are actually 0s or if they are imputed value for missing ratings. "
   ]
  },
  {
   "cell_type": "code",
   "execution_count": 16,
   "metadata": {},
   "outputs": [
    {
     "data": {
      "text/html": [
       "<div>\n",
       "<style scoped>\n",
       "    .dataframe tbody tr th:only-of-type {\n",
       "        vertical-align: middle;\n",
       "    }\n",
       "\n",
       "    .dataframe tbody tr th {\n",
       "        vertical-align: top;\n",
       "    }\n",
       "\n",
       "    .dataframe thead th {\n",
       "        text-align: right;\n",
       "    }\n",
       "</style>\n",
       "<table border=\"1\" class=\"dataframe\">\n",
       "  <thead>\n",
       "    <tr style=\"text-align: right;\">\n",
       "      <th></th>\n",
       "      <th>user_id</th>\n",
       "      <th>recipe_id</th>\n",
       "      <th>date</th>\n",
       "      <th>rating</th>\n",
       "      <th>review</th>\n",
       "    </tr>\n",
       "  </thead>\n",
       "  <tbody>\n",
       "    <tr>\n",
       "      <th>2</th>\n",
       "      <td>468945</td>\n",
       "      <td>134728</td>\n",
       "      <td>2008-02-20</td>\n",
       "      <td>0.0</td>\n",
       "      <td>Made my own buttermilk w/ vinegar and milk.  U...</td>\n",
       "    </tr>\n",
       "    <tr>\n",
       "      <th>7</th>\n",
       "      <td>681408</td>\n",
       "      <td>225241</td>\n",
       "      <td>2008-03-14</td>\n",
       "      <td>0.0</td>\n",
       "      <td>This is a very good recipe.  We also want to c...</td>\n",
       "    </tr>\n",
       "    <tr>\n",
       "      <th>19</th>\n",
       "      <td>980899</td>\n",
       "      <td>79222</td>\n",
       "      <td>2010-10-18</td>\n",
       "      <td>0.0</td>\n",
       "      <td>I used half cream and half 1% milk, added anot...</td>\n",
       "    </tr>\n",
       "    <tr>\n",
       "      <th>205</th>\n",
       "      <td>93911</td>\n",
       "      <td>306919</td>\n",
       "      <td>2010-07-08</td>\n",
       "      <td>0.0</td>\n",
       "      <td>I haven't tried this recipe so I'm not rating ...</td>\n",
       "    </tr>\n",
       "    <tr>\n",
       "      <th>249</th>\n",
       "      <td>921361</td>\n",
       "      <td>232042</td>\n",
       "      <td>2014-10-03</td>\n",
       "      <td>0.0</td>\n",
       "      <td>Tasted great and was super easy to make. Thank...</td>\n",
       "    </tr>\n",
       "    <tr>\n",
       "      <th>...</th>\n",
       "      <td>...</td>\n",
       "      <td>...</td>\n",
       "      <td>...</td>\n",
       "      <td>...</td>\n",
       "      <td>...</td>\n",
       "    </tr>\n",
       "    <tr>\n",
       "      <th>597902</th>\n",
       "      <td>194886</td>\n",
       "      <td>99731</td>\n",
       "      <td>2013-01-24</td>\n",
       "      <td>0.0</td>\n",
       "      <td>This is a great recipe, I thought I had review...</td>\n",
       "    </tr>\n",
       "    <tr>\n",
       "      <th>597914</th>\n",
       "      <td>113509</td>\n",
       "      <td>130019</td>\n",
       "      <td>2012-04-20</td>\n",
       "      <td>0.0</td>\n",
       "      <td>Hubby and I thought this was good. Neither of ...</td>\n",
       "    </tr>\n",
       "    <tr>\n",
       "      <th>597986</th>\n",
       "      <td>374506</td>\n",
       "      <td>39724</td>\n",
       "      <td>2008-03-19</td>\n",
       "      <td>0.0</td>\n",
       "      <td>Great!!! After the turkey was done I browned t...</td>\n",
       "    </tr>\n",
       "    <tr>\n",
       "      <th>598000</th>\n",
       "      <td>329378</td>\n",
       "      <td>39902</td>\n",
       "      <td>2006-10-19</td>\n",
       "      <td>0.0</td>\n",
       "      <td>While the recipe calls for 3 cups of cheese, t...</td>\n",
       "    </tr>\n",
       "    <tr>\n",
       "      <th>598006</th>\n",
       "      <td>811179</td>\n",
       "      <td>136702</td>\n",
       "      <td>2011-12-29</td>\n",
       "      <td>0.0</td>\n",
       "      <td>We made our gluten-free with GF flour and it w...</td>\n",
       "    </tr>\n",
       "  </tbody>\n",
       "</table>\n",
       "<p>14693 rows × 5 columns</p>\n",
       "</div>"
      ],
      "text/plain": [
       "       user_id recipe_id        date  rating  \\\n",
       "2       468945    134728  2008-02-20     0.0   \n",
       "7       681408    225241  2008-03-14     0.0   \n",
       "19      980899     79222  2010-10-18     0.0   \n",
       "205      93911    306919  2010-07-08     0.0   \n",
       "249     921361    232042  2014-10-03     0.0   \n",
       "...        ...       ...         ...     ...   \n",
       "597902  194886     99731  2013-01-24     0.0   \n",
       "597914  113509    130019  2012-04-20     0.0   \n",
       "597986  374506     39724  2008-03-19     0.0   \n",
       "598000  329378     39902  2006-10-19     0.0   \n",
       "598006  811179    136702  2011-12-29     0.0   \n",
       "\n",
       "                                                   review  \n",
       "2       Made my own buttermilk w/ vinegar and milk.  U...  \n",
       "7       This is a very good recipe.  We also want to c...  \n",
       "19      I used half cream and half 1% milk, added anot...  \n",
       "205     I haven't tried this recipe so I'm not rating ...  \n",
       "249     Tasted great and was super easy to make. Thank...  \n",
       "...                                                   ...  \n",
       "597902  This is a great recipe, I thought I had review...  \n",
       "597914  Hubby and I thought this was good. Neither of ...  \n",
       "597986  Great!!! After the turkey was done I browned t...  \n",
       "598000  While the recipe calls for 3 cups of cheese, t...  \n",
       "598006  We made our gluten-free with GF flour and it w...  \n",
       "\n",
       "[14693 rows x 5 columns]"
      ]
     },
     "execution_count": 16,
     "metadata": {},
     "output_type": "execute_result"
    }
   ],
   "source": [
    "#Looking at the 0 ratings to see if they are actually 0s or missing ratings\n",
    "user_reviews_df.loc[user_reviews_df[\"rating\"] == 0]"
   ]
  },
  {
   "cell_type": "markdown",
   "metadata": {},
   "source": [
    "It looks like the 0s are both a mix of positive and negative (or neutral reviews). While it is a small subset of our dataset it could be important to include these reviews considering the skew of our data. We could impute ratings based on the language used in the \"review\" column using KNN Imputer, but this could lead to data leakage concerns and long processing times. In this case we will just drop these data points."
   ]
  },
  {
   "cell_type": "code",
   "execution_count": 19,
   "metadata": {
    "scrolled": true
   },
   "outputs": [],
   "source": [
    "#Dropping rating that are 0 \n",
    "#df.drop(df.loc[df['line_race']==0].index, inplace=True)\n",
    "user_reviews_df.drop(user_reviews_df.loc[user_reviews_df[\"rating\"]==0].index, inplace=True)\n",
    "#user_reviews_df.loc[user_reviews_df[\"rating\"] == 0].drop(inplace=True)"
   ]
  },
  {
   "cell_type": "code",
   "execution_count": 20,
   "metadata": {},
   "outputs": [
    {
     "data": {
      "text/plain": [
       "5.0    460937\n",
       "4.0     95038\n",
       "3.0     19168\n",
       "2.0      5548\n",
       "1.0      2770\n",
       "Name: rating, dtype: int64"
      ]
     },
     "execution_count": 20,
     "metadata": {},
     "output_type": "execute_result"
    }
   ],
   "source": [
    "#Check thaat the 0s are gone\n",
    "user_reviews_df[\"rating\"].value_counts()"
   ]
  },
  {
   "cell_type": "code",
   "execution_count": 22,
   "metadata": {},
   "outputs": [
    {
     "data": {
      "text/plain": [
       "27208     1009\n",
       "89204      979\n",
       "32204      826\n",
       "39087      825\n",
       "69173      740\n",
       "          ... \n",
       "291604       1\n",
       "139          1\n",
       "145738       1\n",
       "344788       1\n",
       "123821       1\n",
       "Name: recipe_id, Length: 53127, dtype: int64"
      ]
     },
     "execution_count": 22,
     "metadata": {},
     "output_type": "execute_result"
    }
   ],
   "source": [
    "#Need to recheck that our recipes all have five ratings\n",
    "user_reviews_df[\"recipe_id\"].value_counts()"
   ]
  },
  {
   "cell_type": "code",
   "execution_count": 23,
   "metadata": {},
   "outputs": [
    {
     "data": {
      "text/plain": [
       "53127"
      ]
     },
     "execution_count": 23,
     "metadata": {},
     "output_type": "execute_result"
    }
   ],
   "source": [
    "len(user_reviews_df[\"recipe_id\"].value_counts())"
   ]
  },
  {
   "cell_type": "code",
   "execution_count": 24,
   "metadata": {},
   "outputs": [
    {
     "data": {
      "text/plain": [
       "40527"
      ]
     },
     "execution_count": 24,
     "metadata": {},
     "output_type": "execute_result"
    }
   ],
   "source": [
    "# Creating a list of recipe_review_counts for each recipe\n",
    "# Remove recipes with less than 5 review counts\n",
    "\n",
    "recipe_review_counts = user_reviews_df[\"recipe_id\"].value_counts()\n",
    "\n",
    "user_reviews_df = user_reviews_df[user_reviews_df[\"recipe_id\"].isin(recipe_review_counts[recipe_review_counts >= 5].index)]\n",
    "\n",
    "# Check that recipes with under 5 reviews were removed\n",
    "\n",
    "len(user_reviews_df[\"recipe_id\"].value_counts())\n"
   ]
  },
  {
   "cell_type": "code",
   "execution_count": 27,
   "metadata": {},
   "outputs": [
    {
     "data": {
      "text/plain": [
       "0.7628324580721667"
      ]
     },
     "execution_count": 27,
     "metadata": {},
     "output_type": "execute_result"
    }
   ],
   "source": [
    "40527/53127"
   ]
  },
  {
   "cell_type": "code",
   "execution_count": 25,
   "metadata": {},
   "outputs": [
    {
     "data": {
      "text/plain": [
       "37449         2789\n",
       "383346        2396\n",
       "424680        2145\n",
       "128473        2024\n",
       "89831         1893\n",
       "              ... \n",
       "2454797          1\n",
       "713301           1\n",
       "578380           1\n",
       "467510           1\n",
       "2001522017       1\n",
       "Name: user_id, Length: 18943, dtype: int64"
      ]
     },
     "execution_count": 25,
     "metadata": {},
     "output_type": "execute_result"
    }
   ],
   "source": [
    "# Checking the amount of reviews per user. \n",
    "# For recommendation modeling we need at least 5 reviews per reader. \n",
    "\n",
    "user_reviews_df[\"user_id\"].value_counts()"
   ]
  },
  {
   "cell_type": "code",
   "execution_count": 26,
   "metadata": {},
   "outputs": [
    {
     "data": {
      "text/plain": [
       "17096"
      ]
     },
     "execution_count": 26,
     "metadata": {},
     "output_type": "execute_result"
    }
   ],
   "source": [
    "# Create a list review counts for each user \n",
    "# Keep only those with more than 5 in the dataframe \n",
    "review_counts = user_reviews_df[\"user_id\"].value_counts()\n",
    "user_reviews_df = user_reviews_df[user_reviews_df[\"user_id\"].isin(review_counts[review_counts >= 5].index)]\n",
    "\n",
    "# Check that users with under 5 reviews were removed\n",
    "len(user_reviews_df[\"user_id\"].value_counts())"
   ]
  },
  {
   "cell_type": "code",
   "execution_count": 28,
   "metadata": {},
   "outputs": [
    {
     "data": {
      "text/plain": [
       "0.9024969645779444"
      ]
     },
     "execution_count": 28,
     "metadata": {},
     "output_type": "execute_result"
    }
   ],
   "source": [
    "17096/18943"
   ]
  },
  {
   "cell_type": "markdown",
   "metadata": {},
   "source": [
    "We lost a fair bit more of our data - about 25% of our recipes - and 10% of our users, but now we make sure we have users with at least five reviews. "
   ]
  },
  {
   "cell_type": "code",
   "execution_count": 29,
   "metadata": {},
   "outputs": [],
   "source": [
    "#Save off as a csv file\n",
    "#user_reviews_df.to_csv(\"./Data/user_reviews_no_zero.csv\")"
   ]
  },
  {
   "cell_type": "code",
   "execution_count": null,
   "metadata": {},
   "outputs": [],
   "source": []
  }
 ],
 "metadata": {
  "kernelspec": {
   "display_name": "Python (learn-env)",
   "language": "python",
   "name": "learn-env"
  },
  "language_info": {
   "codemirror_mode": {
    "name": "ipython",
    "version": 3
   },
   "file_extension": ".py",
   "mimetype": "text/x-python",
   "name": "python",
   "nbconvert_exporter": "python",
   "pygments_lexer": "ipython3",
   "version": "3.8.5"
  }
 },
 "nbformat": 4,
 "nbformat_minor": 4
}
